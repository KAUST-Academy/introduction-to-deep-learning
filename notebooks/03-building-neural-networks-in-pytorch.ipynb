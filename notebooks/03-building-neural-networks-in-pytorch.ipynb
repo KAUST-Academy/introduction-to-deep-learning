{
  "nbformat": 4,
  "nbformat_minor": 0,
  "metadata": {
    "colab": {
      "provenance": []
    },
    "kernelspec": {
      "name": "python3",
      "display_name": "Python 3"
    },
    "language_info": {
      "name": "python"
    }
  },
  "cells": [
    {
      "cell_type": "code",
      "source": [
        "%%bash\n",
        "\n",
        "pip install torchmetrics"
      ],
      "metadata": {
        "colab": {
          "base_uri": "https://localhost:8080/"
        },
        "id": "XkQC2iPIGZUO",
        "outputId": "68091932-ca45-4ec2-fc7a-33c7cfd936be"
      },
      "execution_count": 59,
      "outputs": [
        {
          "output_type": "stream",
          "name": "stdout",
          "text": [
            "Looking in indexes: https://pypi.org/simple, https://us-python.pkg.dev/colab-wheels/public/simple/\n",
            "Collecting torchmetrics\n",
            "  Downloading torchmetrics-0.10.0-py3-none-any.whl (529 kB)\n",
            "Requirement already satisfied: packaging in /usr/local/lib/python3.7/dist-packages (from torchmetrics) (21.3)\n",
            "Requirement already satisfied: typing-extensions in /usr/local/lib/python3.7/dist-packages (from torchmetrics) (4.1.1)\n",
            "Requirement already satisfied: torch>=1.3.1 in /usr/local/lib/python3.7/dist-packages (from torchmetrics) (1.12.1+cu113)\n",
            "Requirement already satisfied: numpy>=1.17.2 in /usr/local/lib/python3.7/dist-packages (from torchmetrics) (1.21.6)\n",
            "Requirement already satisfied: pyparsing!=3.0.5,>=2.0.2 in /usr/local/lib/python3.7/dist-packages (from packaging->torchmetrics) (3.0.9)\n",
            "Installing collected packages: torchmetrics\n",
            "Successfully installed torchmetrics-0.10.0\n"
          ]
        }
      ]
    },
    {
      "cell_type": "code",
      "execution_count": 106,
      "metadata": {
        "id": "BqXqSwkNMZnh"
      },
      "outputs": [],
      "source": [
        "import pathlib\n",
        "\n",
        "import matplotlib.pyplot as plt\n",
        "import numpy as np\n",
        "from sklearn import datasets, model_selection, pipeline, preprocessing\n",
        "import torch\n",
        "import torchmetrics\n",
        "from torch import nn, optim, utils"
      ]
    },
    {
      "cell_type": "markdown",
      "source": [
        "# Building Neural Networks in PyTorch"
      ],
      "metadata": {
        "id": "wZWFwAtSMf2-"
      }
    },
    {
      "cell_type": "code",
      "source": [],
      "metadata": {
        "id": "-sI9mlHKMi0G"
      },
      "execution_count": null,
      "outputs": []
    },
    {
      "cell_type": "markdown",
      "source": [
        "## Building a linear regression model"
      ],
      "metadata": {
        "id": "NQ7gP_USMul2"
      }
    },
    {
      "cell_type": "code",
      "source": [
        "prng = torch.manual_seed(42)\n",
        "m = 100\n",
        "features = [\n",
        "    torch.ones((m, 1)),\n",
        "    torch.normal(mean=1.0, std=1.0, size=(m, 1), generator=prng)\n",
        "]\n",
        "X = torch.cat(features, dim=1)\n",
        "error = torch.normal(mean=0.0, std=5e-1, size=(m, 1), generator=prng)\n",
        "beta = torch.tensor([[3.0], [1.5]])\n",
        "y = X @ beta + error"
      ],
      "metadata": {
        "id": "si6PQ9vhMxP8"
      },
      "execution_count": 2,
      "outputs": []
    },
    {
      "cell_type": "code",
      "source": [
        "_ = plt.plot(X[:, 1], y, 'o')\n",
        "_ = plt.xlabel(r\"$X_1$\", fontsize=15)\n",
        "_ = plt.ylabel(\"y\", fontsize=15, rotation=0)"
      ],
      "metadata": {
        "colab": {
          "base_uri": "https://localhost:8080/",
          "height": 289
        },
        "id": "AFl-qannNNQx",
        "outputId": "bb4abba9-edf9-46f9-ab11-4faa00bccecd"
      },
      "execution_count": 3,
      "outputs": [
        {
          "output_type": "display_data",
          "data": {
            "text/plain": [
              "<Figure size 432x288 with 1 Axes>"
            ],
            "image/png": "[encoded data removed]"
          },
          "metadata": {
            "needs_background": "light"
          }
        }
      ]
    },
    {
      "cell_type": "code",
      "source": [
        "prng = torch.manual_seed(42)\n",
        "_dataset = utils.data.TensorDataset(X,  y)\n",
        "train_dataset, test_dataset = utils.data.random_split(_dataset, [80, 20], generator=prng)\n",
        "\n",
        "batch_size = 1\n",
        "train_dataloader = utils.data.DataLoader(train_dataset, batch_size, shuffle=True)\n",
        "test_dataloader = utils.data.DataLoader(test_dataset, batch_size)"
      ],
      "metadata": {
        "id": "Arb3VEomvR3u"
      },
      "execution_count": 4,
      "outputs": []
    },
    {
      "cell_type": "code",
      "source": [
        "# initialize weights\n",
        "prng = torch.manual_seed(1)\n",
        "weights = torch.randn((2, 1), generator=prng, requires_grad=True)\n",
        "\n",
        "\n",
        "def model_fn(X):\n",
        "    return X @ weights\n",
        "\n",
        "def loss_fn(y, y_hat):\n",
        "    return torch.sqrt(torch.mean((y - y_hat)**2))\n"
      ],
      "metadata": {
        "id": "1ZeA-5v8P82e"
      },
      "execution_count": 5,
      "outputs": []
    },
    {
      "cell_type": "code",
      "source": [
        "learning_rate = 0.001\n",
        "epochs = 200\n",
        "log_epochs = 10\n",
        "\n",
        "for epoch in range(epochs):\n",
        "    for features, targets in train_dataloader:\n",
        "\n",
        "        # forward pass\n",
        "        predictions = model_fn(features)\n",
        "        loss = loss_fn(targets, predictions)\n",
        "        \n",
        "        # backward pass\n",
        "        loss.backward()\n",
        "        with torch.no_grad():\n",
        "            weights -= weights.grad * learning_rate\n",
        "            weights.grad.zero_()\n",
        "  \n",
        "    if epoch % log_epochs == 0:\n",
        "        print(f'Epoch {epoch}  Loss {loss.item():.4f}')"
      ],
      "metadata": {
        "colab": {
          "base_uri": "https://localhost:8080/"
        },
        "id": "D1izaWjUP_rJ",
        "outputId": "6e61a72e-e5e5-4902-d5a6-02e6011761aa"
      },
      "execution_count": 6,
      "outputs": [
        {
          "output_type": "stream",
          "name": "stdout",
          "text": [
            "Epoch 0  Loss 2.8105\n",
            "Epoch 10  Loss 1.4667\n",
            "Epoch 20  Loss 0.4843\n",
            "Epoch 30  Loss 0.6915\n",
            "Epoch 40  Loss 0.5156\n",
            "Epoch 50  Loss 0.5350\n",
            "Epoch 60  Loss 0.4026\n",
            "Epoch 70  Loss 0.1495\n",
            "Epoch 80  Loss 0.4014\n",
            "Epoch 90  Loss 0.4421\n",
            "Epoch 100  Loss 0.0026\n",
            "Epoch 110  Loss 0.8256\n",
            "Epoch 120  Loss 0.4330\n",
            "Epoch 130  Loss 0.0723\n",
            "Epoch 140  Loss 0.0847\n",
            "Epoch 150  Loss 0.6586\n",
            "Epoch 160  Loss 0.4614\n",
            "Epoch 170  Loss 0.4631\n",
            "Epoch 180  Loss 0.6623\n",
            "Epoch 190  Loss 0.0410\n"
          ]
        }
      ]
    },
    {
      "cell_type": "code",
      "source": [
        "print(f'Final Parameters: {weights[:, 0]}')"
      ],
      "metadata": {
        "colab": {
          "base_uri": "https://localhost:8080/"
        },
        "id": "UcFDpL30y99V",
        "outputId": "84af0b19-538b-4ab4-e5c2-5b50eb692c92"
      },
      "execution_count": 7,
      "outputs": [
        {
          "output_type": "stream",
          "name": "stdout",
          "text": [
            "Final Parameters: tensor([3.1473, 1.4327], grad_fn=<SelectBackward0>)\n"
          ]
        }
      ]
    },
    {
      "cell_type": "code",
      "source": [
        "with torch.no_grad():\n",
        "    total_loss = torch.zeros((1,1))\n",
        "    for features, target in test_dataloader:\n",
        "        predictions = model_fn(features)\n",
        "        loss = loss_fn(target, predictions)\n",
        "        total_loss += loss\n",
        "\n",
        "print(f\"Average test loss: {total_loss.item() / len(test_dataloader)}\")"
      ],
      "metadata": {
        "colab": {
          "base_uri": "https://localhost:8080/"
        },
        "id": "9xQbRLvFCnTr",
        "outputId": "fea7a81c-f5bb-4dec-ced3-3f023a903180"
      },
      "execution_count": 8,
      "outputs": [
        {
          "output_type": "stream",
          "name": "stdout",
          "text": [
            "Average test loss: 0.3617741584777832\n"
          ]
        }
      ]
    },
    {
      "cell_type": "code",
      "source": [
        "_ = plt.plot(X[:, 1], y, 'o')\n",
        "_ = plt.xlabel(r\"$X_1$\", fontsize=15)\n",
        "_ = plt.ylabel(\"y\", fontsize=15, rotation=0)\n",
        "\n",
        "new_features = [\n",
        "    torch.ones((m, 1)),\n",
        "    torch.linspace(-2, 4, m).reshape((-1, 1))    \n",
        "]\n",
        "X_new = torch.cat(new_features, dim=1)\n",
        "\n",
        "with torch.no_grad():\n",
        "    y_new = model_fn(X_new)\n",
        "\n",
        "_ = plt.plot(X_new[:, 1], y_new)"
      ],
      "metadata": {
        "colab": {
          "base_uri": "https://localhost:8080/",
          "height": 288
        },
        "id": "qUxsbvw4TNg1",
        "outputId": "24cd2b65-b132-4997-d5c4-8b0fcefa6c61"
      },
      "execution_count": 9,
      "outputs": [
        {
          "output_type": "display_data",
          "data": {
            "text/plain": [
              "<Figure size 432x288 with 1 Axes>"
            ],
            "image/png": "[encoded data removed]"
          },
          "metadata": {
            "needs_background": "light"
          }
        }
      ]
    },
    {
      "cell_type": "markdown",
      "source": [
        "## Model training usng torch.nn and torch.optim"
      ],
      "metadata": {
        "id": "rQ1dVpGmUvRt"
      }
    },
    {
      "cell_type": "code",
      "source": [
        "loss_fn = nn.MSELoss()\n",
        "\n",
        "input_size = 2\n",
        "output_size = 1\n",
        "model_fn = nn.Linear(input_size, output_size, bias=False)\n",
        "\n",
        "optimizer = torch.optim.SGD(model_fn.parameters(), lr=learning_rate)"
      ],
      "metadata": {
        "id": "XTHAqPuASKfk"
      },
      "execution_count": 10,
      "outputs": []
    },
    {
      "cell_type": "code",
      "source": [
        "epochs = 200\n",
        "log_epochs = 20\n",
        "\n",
        "for epoch in range(epochs):\n",
        "    for features, targets in train_dataloader:\n",
        "        \n",
        "        # forward pass\n",
        "        predictions = model_fn(features)        \n",
        "        loss = loss_fn(predictions, targets)\n",
        "        \n",
        "        # backward pass\n",
        "        loss.backward()        \n",
        "        optimizer.step()        \n",
        "        optimizer.zero_grad()    \n",
        "\n",
        "    if epoch % log_epochs == 0:\n",
        "        print(f'Epoch {epoch}  Loss {loss.item():.4f}')"
      ],
      "metadata": {
        "colab": {
          "base_uri": "https://localhost:8080/"
        },
        "id": "hriDz8EeVGMW",
        "outputId": "84aa1302-ba23-4a05-d5cd-82e75bd7e3c9"
      },
      "execution_count": 11,
      "outputs": [
        {
          "output_type": "stream",
          "name": "stdout",
          "text": [
            "Epoch 0  Loss 7.0992\n",
            "Epoch 20  Loss 0.1573\n",
            "Epoch 40  Loss 0.0804\n",
            "Epoch 60  Loss 0.2677\n",
            "Epoch 80  Loss 0.2518\n",
            "Epoch 100  Loss 0.6038\n",
            "Epoch 120  Loss 0.0698\n",
            "Epoch 140  Loss 0.6364\n",
            "Epoch 160  Loss 0.1356\n",
            "Epoch 180  Loss 0.0480\n"
          ]
        }
      ]
    },
    {
      "cell_type": "code",
      "source": [
        "print('Final Parameters:', model_fn.weight)"
      ],
      "metadata": {
        "colab": {
          "base_uri": "https://localhost:8080/"
        },
        "id": "-hT9NfAqVosD",
        "outputId": "685e6341-800e-4721-9407-8cd768d2cb43"
      },
      "execution_count": 12,
      "outputs": [
        {
          "output_type": "stream",
          "name": "stdout",
          "text": [
            "Final Parameters: Parameter containing:\n",
            "tensor([[3.0125, 1.5119]], requires_grad=True)\n"
          ]
        }
      ]
    },
    {
      "cell_type": "markdown",
      "source": [
        "## Building multi-layer perceptrons for classification and regression"
      ],
      "metadata": {
        "id": "aesY6uzLiOQZ"
      }
    },
    {
      "cell_type": "code",
      "source": [
        "class MLPClassifier(nn.Module):\n",
        "\n",
        "    def __init__(self, input_size, hidden_sizes, output_size):\n",
        "        super().__init__()\n",
        "\n",
        "        modules = []\n",
        "        for hidden_size in hidden_sizes:\n",
        "            module = nn.Linear(input_size, hidden_size)\n",
        "            modules.append(module)\n",
        "            modules.append(nn.ReLU())\n",
        "            input_size = hidden_size\n",
        "\n",
        "        modules.append(nn.Linear(hidden_size, output_size))\n",
        "        modules.append(nn.Softmax(dim=1))\n",
        "\n",
        "        self.module_list = nn.ModuleList(modules)\n",
        "\n",
        "    def forward(self, X):\n",
        "        for f in self.module_list:\n",
        "            X = f(X)\n",
        "        return X\n",
        "\n",
        "    def predict(self, X):\n",
        "        logits = self.forward(X)\n",
        "        predictions = logits.argmax(dim=1)\n",
        "        return predictions\n",
        "\n",
        "\n",
        "class MLPRegressor(nn.Module):\n",
        "\n",
        "    def __init__(self, input_size, hidden_sizes, output_size):\n",
        "        super().__init__()\n",
        "\n",
        "        modules = []\n",
        "        for hidden_size in hidden_sizes:\n",
        "            module = nn.Linear(input_size, hidden_size)\n",
        "            modules.append(module)\n",
        "            modules.append(nn.ReLU())\n",
        "            input_size = hidden_size\n",
        "\n",
        "        modules.append(nn.Linear(hidden_size, output_size))\n",
        "\n",
        "        self.module_list = nn.ModuleList(modules)\n",
        "\n",
        "    def forward(self, X):\n",
        "        for f in self.module_list:\n",
        "            X = f(X)\n",
        "        return X\n",
        "\n",
        "    def predict(self, X):\n",
        "        y_hat = self.forward(X)\n",
        "        return y_hat\n",
        "        "
      ],
      "metadata": {
        "id": "R6ySFsJ1iUE1"
      },
      "execution_count": 85,
      "outputs": []
    },
    {
      "cell_type": "markdown",
      "source": [
        "## Breast Cancer Classification"
      ],
      "metadata": {
        "id": "wSxSC-VgiV1U"
      }
    },
    {
      "cell_type": "code",
      "source": [
        "datasets.load_breast_cancer?"
      ],
      "metadata": {
        "id": "PU0jTdRUAqg5"
      },
      "execution_count": null,
      "outputs": []
    },
    {
      "cell_type": "code",
      "source": [
        "features, targets = datasets.load_breast_cancer(return_X_y=True, as_frame=True)"
      ],
      "metadata": {
        "id": "kVfwGGcAicBN"
      },
      "execution_count": 18,
      "outputs": []
    },
    {
      "cell_type": "code",
      "source": [
        "features.info()"
      ],
      "metadata": {
        "colab": {
          "base_uri": "https://localhost:8080/"
        },
        "id": "YZSaHYUjidCl",
        "outputId": "1002b292-ebab-4b97-a203-b47b632bb2c0"
      },
      "execution_count": 19,
      "outputs": [
        {
          "output_type": "stream",
          "name": "stdout",
          "text": [
            "<class 'pandas.core.frame.DataFrame'>\n",
            "RangeIndex: 569 entries, 0 to 568\n",
            "Data columns (total 30 columns):\n",
            " #   Column                   Non-Null Count  Dtype  \n",
            "---  ------                   --------------  -----  \n",
            " 0   mean radius              569 non-null    float64\n",
            " 1   mean texture             569 non-null    float64\n",
            " 2   mean perimeter           569 non-null    float64\n",
            " 3   mean area                569 non-null    float64\n",
            " 4   mean smoothness          569 non-null    float64\n",
            " 5   mean compactness         569 non-null    float64\n",
            " 6   mean concavity           569 non-null    float64\n",
            " 7   mean concave points      569 non-null    float64\n",
            " 8   mean symmetry            569 non-null    float64\n",
            " 9   mean fractal dimension   569 non-null    float64\n",
            " 10  radius error             569 non-null    float64\n",
            " 11  texture error            569 non-null    float64\n",
            " 12  perimeter error          569 non-null    float64\n",
            " 13  area error               569 non-null    float64\n",
            " 14  smoothness error         569 non-null    float64\n",
            " 15  compactness error        569 non-null    float64\n",
            " 16  concavity error          569 non-null    float64\n",
            " 17  concave points error     569 non-null    float64\n",
            " 18  symmetry error           569 non-null    float64\n",
            " 19  fractal dimension error  569 non-null    float64\n",
            " 20  worst radius             569 non-null    float64\n",
            " 21  worst texture            569 non-null    float64\n",
            " 22  worst perimeter          569 non-null    float64\n",
            " 23  worst area               569 non-null    float64\n",
            " 24  worst smoothness         569 non-null    float64\n",
            " 25  worst compactness        569 non-null    float64\n",
            " 26  worst concavity          569 non-null    float64\n",
            " 27  worst concave points     569 non-null    float64\n",
            " 28  worst symmetry           569 non-null    float64\n",
            " 29  worst fractal dimension  569 non-null    float64\n",
            "dtypes: float64(30)\n",
            "memory usage: 133.5 KB\n"
          ]
        }
      ]
    },
    {
      "cell_type": "code",
      "source": [
        "features.describe()"
      ],
      "metadata": {
        "colab": {
          "base_uri": "https://localhost:8080/",
          "height": 428
        },
        "id": "IJKUwvhvidhG",
        "outputId": "5c7afb25-7cf0-4b2c-b0c4-2eaef469b81b"
      },
      "execution_count": 20,
      "outputs": [
        {
          "output_type": "execute_result",
          "data": {
            "text/plain": [
              "       mean radius  mean texture  mean perimeter    mean area  \\\n",
              "count   569.000000    569.000000      569.000000   569.000000   \n",
              "mean     14.127292     19.289649       91.969033   654.889104   \n",
              "std       3.524049      4.301036       24.298981   351.914129   \n",
              "min       6.981000      9.710000       43.790000   143.500000   \n",
              "25%      11.700000     16.170000       75.170000   420.300000   \n",
              "50%      13.370000     18.840000       86.240000   551.100000   \n",
              "75%      15.780000     21.800000      104.100000   782.700000   \n",
              "max      28.110000     39.280000      188.500000  2501.000000   \n",
              "\n",
              "       mean smoothness  mean compactness  mean concavity  mean concave points  \\\n",
              "count       569.000000        569.000000      569.000000           569.000000   \n",
              "mean          0.096360          0.104341        0.088799             0.048919   \n",
              "std           0.014064          0.052813        0.079720             0.038803   \n",
              "min           0.052630          0.019380        0.000000             0.000000   \n",
              "25%           0.086370          0.064920        0.029560             0.020310   \n",
              "50%           0.095870          0.092630        0.061540             0.033500   \n",
              "75%           0.105300          0.130400        0.130700             0.074000   \n",
              "max           0.163400          0.345400        0.426800             0.201200   \n",
              "\n",
              "       mean symmetry  mean fractal dimension  ...  worst radius  \\\n",
              "count     569.000000              569.000000  ...    569.000000   \n",
              "mean        0.181162                0.062798  ...     16.269190   \n",
              "std         0.027414                0.007060  ...      4.833242   \n",
              "min         0.106000                0.049960  ...      7.930000   \n",
              "25%         0.161900                0.057700  ...     13.010000   \n",
              "50%         0.179200                0.061540  ...     14.970000   \n",
              "75%         0.195700                0.066120  ...     18.790000   \n",
              "max         0.304000                0.097440  ...     36.040000   \n",
              "\n",
              "       worst texture  worst perimeter   worst area  worst smoothness  \\\n",
              "count     569.000000       569.000000   569.000000        569.000000   \n",
              "mean       25.677223       107.261213   880.583128          0.132369   \n",
              "std         6.146258        33.602542   569.356993          0.022832   \n",
              "min        12.020000        50.410000   185.200000          0.071170   \n",
              "25%        21.080000        84.110000   515.300000          0.116600   \n",
              "50%        25.410000        97.660000   686.500000          0.131300   \n",
              "75%        29.720000       125.400000  1084.000000          0.146000   \n",
              "max        49.540000       251.200000  4254.000000          0.222600   \n",
              "\n",
              "       worst compactness  worst concavity  worst concave points  \\\n",
              "count         569.000000       569.000000            569.000000   \n",
              "mean            0.254265         0.272188              0.114606   \n",
              "std             0.157336         0.208624              0.065732   \n",
              "min             0.027290         0.000000              0.000000   \n",
              "25%             0.147200         0.114500              0.064930   \n",
              "50%             0.211900         0.226700              0.099930   \n",
              "75%             0.339100         0.382900              0.161400   \n",
              "max             1.058000         1.252000              0.291000   \n",
              "\n",
              "       worst symmetry  worst fractal dimension  \n",
              "count      569.000000               569.000000  \n",
              "mean         0.290076                 0.083946  \n",
              "std          0.061867                 0.018061  \n",
              "min          0.156500                 0.055040  \n",
              "25%          0.250400                 0.071460  \n",
              "50%          0.282200                 0.080040  \n",
              "75%          0.317900                 0.092080  \n",
              "max          0.663800                 0.207500  \n",
              "\n",
              "[8 rows x 30 columns]"
            ],
            "text/html": [
              "\n",
              "  <div id=\"df-cfd0aa89-591f-48e8-9778-6109ac595f14\">\n",
              "    <div class=\"colab-df-container\">\n",
              "      <div>\n",
              "<style scoped>\n",
              "    .dataframe tbody tr th:only-of-type {\n",
              "        vertical-align: middle;\n",
              "    }\n",
              "\n",
              "    .dataframe tbody tr th {\n",
              "        vertical-align: top;\n",
              "    }\n",
              "\n",
              "    .dataframe thead th {\n",
              "        text-align: right;\n",
              "    }\n",
              "</style>\n",
              "<table border=\"1\" class=\"dataframe\">\n",
              "  <thead>\n",
              "    <tr style=\"text-align: right;\">\n",
              "      <th></th>\n",
              "      <th>mean radius</th>\n",
              "      <th>mean texture</th>\n",
              "      <th>mean perimeter</th>\n",
              "      <th>mean area</th>\n",
              "      <th>mean smoothness</th>\n",
              "      <th>mean compactness</th>\n",
              "      <th>mean concavity</th>\n",
              "      <th>mean concave points</th>\n",
              "      <th>mean symmetry</th>\n",
              "      <th>mean fractal dimension</th>\n",
              "      <th>...</th>\n",
              "      <th>worst radius</th>\n",
              "      <th>worst texture</th>\n",
              "      <th>worst perimeter</th>\n",
              "      <th>worst area</th>\n",
              "      <th>worst smoothness</th>\n",
              "      <th>worst compactness</th>\n",
              "      <th>worst concavity</th>\n",
              "      <th>worst concave points</th>\n",
              "      <th>worst symmetry</th>\n",
              "      <th>worst fractal dimension</th>\n",
              "    </tr>\n",
              "  </thead>\n",
              "  <tbody>\n",
              "    <tr>\n",
              "      <th>count</th>\n",
              "      <td>569.000000</td>\n",
              "      <td>569.000000</td>\n",
              "      <td>569.000000</td>\n",
              "      <td>569.000000</td>\n",
              "      <td>569.000000</td>\n",
              "      <td>569.000000</td>\n",
              "      <td>569.000000</td>\n",
              "      <td>569.000000</td>\n",
              "      <td>569.000000</td>\n",
              "      <td>569.000000</td>\n",
              "      <td>...</td>\n",
              "      <td>569.000000</td>\n",
              "      <td>569.000000</td>\n",
              "      <td>569.000000</td>\n",
              "      <td>569.000000</td>\n",
              "      <td>569.000000</td>\n",
              "      <td>569.000000</td>\n",
              "      <td>569.000000</td>\n",
              "      <td>569.000000</td>\n",
              "      <td>569.000000</td>\n",
              "      <td>569.000000</td>\n",
              "    </tr>\n",
              "    <tr>\n",
              "      <th>mean</th>\n",
              "      <td>14.127292</td>\n",
              "      <td>19.289649</td>\n",
              "      <td>91.969033</td>\n",
              "      <td>654.889104</td>\n",
              "      <td>0.096360</td>\n",
              "      <td>0.104341</td>\n",
              "      <td>0.088799</td>\n",
              "      <td>0.048919</td>\n",
              "      <td>0.181162</td>\n",
              "      <td>0.062798</td>\n",
              "      <td>...</td>\n",
              "      <td>16.269190</td>\n",
              "      <td>25.677223</td>\n",
              "      <td>107.261213</td>\n",
              "      <td>880.583128</td>\n",
              "      <td>0.132369</td>\n",
              "      <td>0.254265</td>\n",
              "      <td>0.272188</td>\n",
              "      <td>0.114606</td>\n",
              "      <td>0.290076</td>\n",
              "      <td>0.083946</td>\n",
              "    </tr>\n",
              "    <tr>\n",
              "      <th>std</th>\n",
              "      <td>3.524049</td>\n",
              "      <td>4.301036</td>\n",
              "      <td>24.298981</td>\n",
              "      <td>351.914129</td>\n",
              "      <td>0.014064</td>\n",
              "      <td>0.052813</td>\n",
              "      <td>0.079720</td>\n",
              "      <td>0.038803</td>\n",
              "      <td>0.027414</td>\n",
              "      <td>0.007060</td>\n",
              "      <td>...</td>\n",
              "      <td>4.833242</td>\n",
              "      <td>6.146258</td>\n",
              "      <td>33.602542</td>\n",
              "      <td>569.356993</td>\n",
              "      <td>0.022832</td>\n",
              "      <td>0.157336</td>\n",
              "      <td>0.208624</td>\n",
              "      <td>0.065732</td>\n",
              "      <td>0.061867</td>\n",
              "      <td>0.018061</td>\n",
              "    </tr>\n",
              "    <tr>\n",
              "      <th>min</th>\n",
              "      <td>6.981000</td>\n",
              "      <td>9.710000</td>\n",
              "      <td>43.790000</td>\n",
              "      <td>143.500000</td>\n",
              "      <td>0.052630</td>\n",
              "      <td>0.019380</td>\n",
              "      <td>0.000000</td>\n",
              "      <td>0.000000</td>\n",
              "      <td>0.106000</td>\n",
              "      <td>0.049960</td>\n",
              "      <td>...</td>\n",
              "      <td>7.930000</td>\n",
              "      <td>12.020000</td>\n",
              "      <td>50.410000</td>\n",
              "      <td>185.200000</td>\n",
              "      <td>0.071170</td>\n",
              "      <td>0.027290</td>\n",
              "      <td>0.000000</td>\n",
              "      <td>0.000000</td>\n",
              "      <td>0.156500</td>\n",
              "      <td>0.055040</td>\n",
              "    </tr>\n",
              "    <tr>\n",
              "      <th>25%</th>\n",
              "      <td>11.700000</td>\n",
              "      <td>16.170000</td>\n",
              "      <td>75.170000</td>\n",
              "      <td>420.300000</td>\n",
              "      <td>0.086370</td>\n",
              "      <td>0.064920</td>\n",
              "      <td>0.029560</td>\n",
              "      <td>0.020310</td>\n",
              "      <td>0.161900</td>\n",
              "      <td>0.057700</td>\n",
              "      <td>...</td>\n",
              "      <td>13.010000</td>\n",
              "      <td>21.080000</td>\n",
              "      <td>84.110000</td>\n",
              "      <td>515.300000</td>\n",
              "      <td>0.116600</td>\n",
              "      <td>0.147200</td>\n",
              "      <td>0.114500</td>\n",
              "      <td>0.064930</td>\n",
              "      <td>0.250400</td>\n",
              "      <td>0.071460</td>\n",
              "    </tr>\n",
              "    <tr>\n",
              "      <th>50%</th>\n",
              "      <td>13.370000</td>\n",
              "      <td>18.840000</td>\n",
              "      <td>86.240000</td>\n",
              "      <td>551.100000</td>\n",
              "      <td>0.095870</td>\n",
              "      <td>0.092630</td>\n",
              "      <td>0.061540</td>\n",
              "      <td>0.033500</td>\n",
              "      <td>0.179200</td>\n",
              "      <td>0.061540</td>\n",
              "      <td>...</td>\n",
              "      <td>14.970000</td>\n",
              "      <td>25.410000</td>\n",
              "      <td>97.660000</td>\n",
              "      <td>686.500000</td>\n",
              "      <td>0.131300</td>\n",
              "      <td>0.211900</td>\n",
              "      <td>0.226700</td>\n",
              "      <td>0.099930</td>\n",
              "      <td>0.282200</td>\n",
              "      <td>0.080040</td>\n",
              "    </tr>\n",
              "    <tr>\n",
              "      <th>75%</th>\n",
              "      <td>15.780000</td>\n",
              "      <td>21.800000</td>\n",
              "      <td>104.100000</td>\n",
              "      <td>782.700000</td>\n",
              "      <td>0.105300</td>\n",
              "      <td>0.130400</td>\n",
              "      <td>0.130700</td>\n",
              "      <td>0.074000</td>\n",
              "      <td>0.195700</td>\n",
              "      <td>0.066120</td>\n",
              "      <td>...</td>\n",
              "      <td>18.790000</td>\n",
              "      <td>29.720000</td>\n",
              "      <td>125.400000</td>\n",
              "      <td>1084.000000</td>\n",
              "      <td>0.146000</td>\n",
              "      <td>0.339100</td>\n",
              "      <td>0.382900</td>\n",
              "      <td>0.161400</td>\n",
              "      <td>0.317900</td>\n",
              "      <td>0.092080</td>\n",
              "    </tr>\n",
              "    <tr>\n",
              "      <th>max</th>\n",
              "      <td>28.110000</td>\n",
              "      <td>39.280000</td>\n",
              "      <td>188.500000</td>\n",
              "      <td>2501.000000</td>\n",
              "      <td>0.163400</td>\n",
              "      <td>0.345400</td>\n",
              "      <td>0.426800</td>\n",
              "      <td>0.201200</td>\n",
              "      <td>0.304000</td>\n",
              "      <td>0.097440</td>\n",
              "      <td>...</td>\n",
              "      <td>36.040000</td>\n",
              "      <td>49.540000</td>\n",
              "      <td>251.200000</td>\n",
              "      <td>4254.000000</td>\n",
              "      <td>0.222600</td>\n",
              "      <td>1.058000</td>\n",
              "      <td>1.252000</td>\n",
              "      <td>0.291000</td>\n",
              "      <td>0.663800</td>\n",
              "      <td>0.207500</td>\n",
              "    </tr>\n",
              "  </tbody>\n",
              "</table>\n",
              "<p>8 rows × 30 columns</p>\n",
              "</div>\n",
              "      <button class=\"colab-df-convert\" onclick=\"convertToInteractive('df-cfd0aa89-591f-48e8-9778-6109ac595f14')\"\n",
              "              title=\"Convert this dataframe to an interactive table.\"\n",
              "              style=\"display:none;\">\n",
              "        \n",
              "  <svg xmlns=\"http://www.w3.org/2000/svg\" height=\"24px\"viewBox=\"0 0 24 24\"\n",
              "       width=\"24px\">\n",
              "    <path d=\"M0 0h24v24H0V0z\" fill=\"none\"/>\n",
              "    <path d=\"M18.56 5.44l.94 2.06.94-2.06 2.06-.94-2.06-.94-.94-2.06-.94 2.06-2.06.94zm-11 1L8.5 8.5l.94-2.06 2.06-.94-2.06-.94L8.5 2.5l-.94 2.06-2.06.94zm10 10l.94 2.06.94-2.06 2.06-.94-2.06-.94-.94-2.06-.94 2.06-2.06.94z\"/><path d=\"M17.41 7.96l-1.37-1.37c-.4-.4-.92-.59-1.43-.59-.52 0-1.04.2-1.43.59L10.3 9.45l-7.72 7.72c-.78.78-.78 2.05 0 2.83L4 21.41c.39.39.9.59 1.41.59.51 0 1.02-.2 1.41-.59l7.78-7.78 2.81-2.81c.8-.78.8-2.07 0-2.86zM5.41 20L4 18.59l7.72-7.72 1.47 1.35L5.41 20z\"/>\n",
              "  </svg>\n",
              "      </button>\n",
              "      \n",
              "  <style>\n",
              "    .colab-df-container {\n",
              "      display:flex;\n",
              "      flex-wrap:wrap;\n",
              "      gap: 12px;\n",
              "    }\n",
              "\n",
              "    .colab-df-convert {\n",
              "      background-color: #E8F0FE;\n",
              "      border: none;\n",
              "      border-radius: 50%;\n",
              "      cursor: pointer;\n",
              "      display: none;\n",
              "      fill: #1967D2;\n",
              "      height: 32px;\n",
              "      padding: 0 0 0 0;\n",
              "      width: 32px;\n",
              "    }\n",
              "\n",
              "    .colab-df-convert:hover {\n",
              "      background-color: #E2EBFA;\n",
              "      box-shadow: 0px 1px 2px rgba(60, 64, 67, 0.3), 0px 1px 3px 1px rgba(60, 64, 67, 0.15);\n",
              "      fill: #174EA6;\n",
              "    }\n",
              "\n",
              "    [theme=dark] .colab-df-convert {\n",
              "      background-color: #3B4455;\n",
              "      fill: #D2E3FC;\n",
              "    }\n",
              "\n",
              "    [theme=dark] .colab-df-convert:hover {\n",
              "      background-color: #434B5C;\n",
              "      box-shadow: 0px 1px 3px 1px rgba(0, 0, 0, 0.15);\n",
              "      filter: drop-shadow(0px 1px 2px rgba(0, 0, 0, 0.3));\n",
              "      fill: #FFFFFF;\n",
              "    }\n",
              "  </style>\n",
              "\n",
              "      <script>\n",
              "        const buttonEl =\n",
              "          document.querySelector('#df-cfd0aa89-591f-48e8-9778-6109ac595f14 button.colab-df-convert');\n",
              "        buttonEl.style.display =\n",
              "          google.colab.kernel.accessAllowed ? 'block' : 'none';\n",
              "\n",
              "        async function convertToInteractive(key) {\n",
              "          const element = document.querySelector('#df-cfd0aa89-591f-48e8-9778-6109ac595f14');\n",
              "          const dataTable =\n",
              "            await google.colab.kernel.invokeFunction('convertToInteractive',\n",
              "                                                     [key], {});\n",
              "          if (!dataTable) return;\n",
              "\n",
              "          const docLinkHtml = 'Like what you see? Visit the ' +\n",
              "            '<a target=\"_blank\" href=https://colab.research.google.com/notebooks/data_table.ipynb>data table notebook</a>'\n",
              "            + ' to learn more about interactive tables.';\n",
              "          element.innerHTML = '';\n",
              "          dataTable['output_type'] = 'display_data';\n",
              "          await google.colab.output.renderOutput(dataTable, element);\n",
              "          const docLink = document.createElement('div');\n",
              "          docLink.innerHTML = docLinkHtml;\n",
              "          element.appendChild(docLink);\n",
              "        }\n",
              "      </script>\n",
              "    </div>\n",
              "  </div>\n",
              "  "
            ]
          },
          "metadata": {},
          "execution_count": 20
        }
      ]
    },
    {
      "cell_type": "code",
      "source": [
        "random_state = np.random.RandomState(42)\n",
        "train_features, test_features, train_targets, test_targets = model_selection.train_test_split(\n",
        "    features,\n",
        "    targets,\n",
        "    test_size=0.1,\n",
        "    random_state=random_state,\n",
        ")"
      ],
      "metadata": {
        "id": "VtWHqgefBsal"
      },
      "execution_count": 26,
      "outputs": []
    },
    {
      "cell_type": "code",
      "source": [
        "preprocessing_pipeline = pipeline.make_pipeline(\n",
        "    preprocessing.StandardScaler(),\n",
        "    preprocessing.FunctionTransformer(lambda X: X.astype(np.float32)),\n",
        "    preprocessing.FunctionTransformer(lambda X: torch.from_numpy(X)),\n",
        ")"
      ],
      "metadata": {
        "id": "DzTJAisTASsT"
      },
      "execution_count": 24,
      "outputs": []
    },
    {
      "cell_type": "code",
      "source": [
        "train_features_tensor = preprocessing_pipeline.fit_transform(train_features)\n",
        "train_targets_tensor = torch.from_numpy(train_targets.to_numpy())"
      ],
      "metadata": {
        "id": "NaaGXqNuAS4k"
      },
      "execution_count": 29,
      "outputs": []
    },
    {
      "cell_type": "code",
      "source": [
        "train_dataset = utils.data.TensorDataset(train_features_tensor, train_targets_tensor)\n",
        "\n",
        "batch_size = 32\n",
        "train_dataloader = utils.data.DataLoader(train_dataset, batch_size, shuffle=True)"
      ],
      "metadata": {
        "id": "ygZL9vbUATD6"
      },
      "execution_count": 30,
      "outputs": []
    },
    {
      "cell_type": "code",
      "source": [
        "loss_fn = nn.NLLLoss()\n",
        "\n",
        "_, input_size = train_features_tensor.shape\n",
        "output_size = 2\n",
        "model_fn = MLPClassifier(input_size, [100], output_size)\n",
        "\n",
        "learning_rate = 1e-2\n",
        "optimizer = torch.optim.SGD(model_fn.parameters(), lr=learning_rate)"
      ],
      "metadata": {
        "id": "M9WZtHoHCoIS"
      },
      "execution_count": 52,
      "outputs": []
    },
    {
      "cell_type": "code",
      "source": [
        "epochs = 200\n",
        "log_epochs = 20\n",
        "\n",
        "for epoch in range(epochs):\n",
        "    for features, targets in train_dataloader:\n",
        "        \n",
        "        # forward pass\n",
        "        predictions = model_fn(features)        \n",
        "        loss = loss_fn(predictions, targets)\n",
        "        \n",
        "        # backward pass\n",
        "        loss.backward()        \n",
        "        optimizer.step()        \n",
        "        optimizer.zero_grad()    \n",
        "\n",
        "    if epoch % log_epochs == 0:\n",
        "        print(f'Epoch {epoch}  Loss {loss.item():.4f}')"
      ],
      "metadata": {
        "colab": {
          "base_uri": "https://localhost:8080/"
        },
        "id": "jdBQchCeCoTV",
        "outputId": "2c0f9de0-4e01-41ae-a0c4-a9f1840da315"
      },
      "execution_count": 53,
      "outputs": [
        {
          "output_type": "stream",
          "name": "stdout",
          "text": [
            "Epoch 0  Loss -0.5260\n",
            "Epoch 20  Loss -0.8587\n",
            "Epoch 40  Loss -0.9144\n",
            "Epoch 60  Loss -0.9320\n",
            "Epoch 80  Loss -0.9282\n",
            "Epoch 100  Loss -0.9727\n",
            "Epoch 120  Loss -0.9362\n",
            "Epoch 140  Loss -0.9541\n",
            "Epoch 160  Loss -0.9582\n",
            "Epoch 180  Loss -0.9512\n"
          ]
        }
      ]
    },
    {
      "cell_type": "markdown",
      "source": [
        "### Evaluating the model on the test set"
      ],
      "metadata": {
        "id": "rCCpbjXrKIH_"
      }
    },
    {
      "cell_type": "code",
      "source": [
        "test_features_tensor = preprocessing_pipeline.transform(test_features)\n",
        "test_targets_tensor = torch.from_numpy(test_targets.to_numpy())"
      ],
      "metadata": {
        "id": "Bz5I10uoFEij"
      },
      "execution_count": 54,
      "outputs": []
    },
    {
      "cell_type": "code",
      "source": [
        "with torch.no_grad():\n",
        "  predictions_tensor = model_fn.predict(test_features_tensor)"
      ],
      "metadata": {
        "id": "3UO1VbZcGGaU"
      },
      "execution_count": 61,
      "outputs": []
    },
    {
      "cell_type": "code",
      "source": [
        "accuracy = torchmetrics.Accuracy()\n",
        "accuracy(predictions_tensor, test_targets_tensor)"
      ],
      "metadata": {
        "colab": {
          "base_uri": "https://localhost:8080/"
        },
        "id": "mMRNL5e8GQpS",
        "outputId": "6b4be608-f641-442e-b1fd-50ef3db43fcf"
      },
      "execution_count": 64,
      "outputs": [
        {
          "output_type": "execute_result",
          "data": {
            "text/plain": [
              "tensor(0.9474)"
            ]
          },
          "metadata": {},
          "execution_count": 64
        }
      ]
    },
    {
      "cell_type": "markdown",
      "source": [
        "### Saving a PyTorch model"
      ],
      "metadata": {
        "id": "NiGZS3AWKNL1"
      }
    },
    {
      "cell_type": "code",
      "source": [
        "RESULTS_DIR = pathlib.Path(\"./results\")\n",
        "RESULTS_DIR.mkdir(exist_ok=True)\n",
        "\n",
        "torch.save(model_fn, RESULTS_DIR / \"classifier.ckpt\")"
      ],
      "metadata": {
        "id": "qZht3mtOKPb-"
      },
      "execution_count": 110,
      "outputs": []
    },
    {
      "cell_type": "markdown",
      "source": [
        "## Predicting house prices"
      ],
      "metadata": {
        "id": "agHnE83Gie-t"
      }
    },
    {
      "cell_type": "code",
      "source": [
        "datasets.fetch_california_housing?"
      ],
      "metadata": {
        "id": "Pic_KeQvHUR8"
      },
      "execution_count": 68,
      "outputs": []
    },
    {
      "cell_type": "code",
      "source": [
        "features, targets = datasets.fetch_california_housing(return_X_y=True, as_frame=True)"
      ],
      "metadata": {
        "id": "8fTfsl2JHUR8"
      },
      "execution_count": 87,
      "outputs": []
    },
    {
      "cell_type": "code",
      "source": [
        "features.info()"
      ],
      "metadata": {
        "colab": {
          "base_uri": "https://localhost:8080/"
        },
        "outputId": "ca301a93-8bd6-4eab-8ae0-01048c0f213c",
        "id": "NRKDrTgqHUR8"
      },
      "execution_count": 88,
      "outputs": [
        {
          "output_type": "stream",
          "name": "stdout",
          "text": [
            "<class 'pandas.core.frame.DataFrame'>\n",
            "RangeIndex: 20640 entries, 0 to 20639\n",
            "Data columns (total 8 columns):\n",
            " #   Column      Non-Null Count  Dtype  \n",
            "---  ------      --------------  -----  \n",
            " 0   MedInc      20640 non-null  float64\n",
            " 1   HouseAge    20640 non-null  float64\n",
            " 2   AveRooms    20640 non-null  float64\n",
            " 3   AveBedrms   20640 non-null  float64\n",
            " 4   Population  20640 non-null  float64\n",
            " 5   AveOccup    20640 non-null  float64\n",
            " 6   Latitude    20640 non-null  float64\n",
            " 7   Longitude   20640 non-null  float64\n",
            "dtypes: float64(8)\n",
            "memory usage: 1.3 MB\n"
          ]
        }
      ]
    },
    {
      "cell_type": "code",
      "source": [
        "features.describe()"
      ],
      "metadata": {
        "colab": {
          "base_uri": "https://localhost:8080/",
          "height": 300
        },
        "outputId": "b60dccfc-72d6-46db-e298-b0fab65b944f",
        "id": "dzfG-j5DHUR9"
      },
      "execution_count": 89,
      "outputs": [
        {
          "output_type": "execute_result",
          "data": {
            "text/plain": [
              "             MedInc      HouseAge      AveRooms     AveBedrms    Population  \\\n",
              "count  20640.000000  20640.000000  20640.000000  20640.000000  20640.000000   \n",
              "mean       3.870671     28.639486      5.429000      1.096675   1425.476744   \n",
              "std        1.899822     12.585558      2.474173      0.473911   1132.462122   \n",
              "min        0.499900      1.000000      0.846154      0.333333      3.000000   \n",
              "25%        2.563400     18.000000      4.440716      1.006079    787.000000   \n",
              "50%        3.534800     29.000000      5.229129      1.048780   1166.000000   \n",
              "75%        4.743250     37.000000      6.052381      1.099526   1725.000000   \n",
              "max       15.000100     52.000000    141.909091     34.066667  35682.000000   \n",
              "\n",
              "           AveOccup      Latitude     Longitude  \n",
              "count  20640.000000  20640.000000  20640.000000  \n",
              "mean       3.070655     35.631861   -119.569704  \n",
              "std       10.386050      2.135952      2.003532  \n",
              "min        0.692308     32.540000   -124.350000  \n",
              "25%        2.429741     33.930000   -121.800000  \n",
              "50%        2.818116     34.260000   -118.490000  \n",
              "75%        3.282261     37.710000   -118.010000  \n",
              "max     1243.333333     41.950000   -114.310000  "
            ],
            "text/html": [
              "\n",
              "  <div id=\"df-a0d4b95e-a7d3-4cc7-923d-b281e5e9e3e2\">\n",
              "    <div class=\"colab-df-container\">\n",
              "      <div>\n",
              "<style scoped>\n",
              "    .dataframe tbody tr th:only-of-type {\n",
              "        vertical-align: middle;\n",
              "    }\n",
              "\n",
              "    .dataframe tbody tr th {\n",
              "        vertical-align: top;\n",
              "    }\n",
              "\n",
              "    .dataframe thead th {\n",
              "        text-align: right;\n",
              "    }\n",
              "</style>\n",
              "<table border=\"1\" class=\"dataframe\">\n",
              "  <thead>\n",
              "    <tr style=\"text-align: right;\">\n",
              "      <th></th>\n",
              "      <th>MedInc</th>\n",
              "      <th>HouseAge</th>\n",
              "      <th>AveRooms</th>\n",
              "      <th>AveBedrms</th>\n",
              "      <th>Population</th>\n",
              "      <th>AveOccup</th>\n",
              "      <th>Latitude</th>\n",
              "      <th>Longitude</th>\n",
              "    </tr>\n",
              "  </thead>\n",
              "  <tbody>\n",
              "    <tr>\n",
              "      <th>count</th>\n",
              "      <td>20640.000000</td>\n",
              "      <td>20640.000000</td>\n",
              "      <td>20640.000000</td>\n",
              "      <td>20640.000000</td>\n",
              "      <td>20640.000000</td>\n",
              "      <td>20640.000000</td>\n",
              "      <td>20640.000000</td>\n",
              "      <td>20640.000000</td>\n",
              "    </tr>\n",
              "    <tr>\n",
              "      <th>mean</th>\n",
              "      <td>3.870671</td>\n",
              "      <td>28.639486</td>\n",
              "      <td>5.429000</td>\n",
              "      <td>1.096675</td>\n",
              "      <td>1425.476744</td>\n",
              "      <td>3.070655</td>\n",
              "      <td>35.631861</td>\n",
              "      <td>-119.569704</td>\n",
              "    </tr>\n",
              "    <tr>\n",
              "      <th>std</th>\n",
              "      <td>1.899822</td>\n",
              "      <td>12.585558</td>\n",
              "      <td>2.474173</td>\n",
              "      <td>0.473911</td>\n",
              "      <td>1132.462122</td>\n",
              "      <td>10.386050</td>\n",
              "      <td>2.135952</td>\n",
              "      <td>2.003532</td>\n",
              "    </tr>\n",
              "    <tr>\n",
              "      <th>min</th>\n",
              "      <td>0.499900</td>\n",
              "      <td>1.000000</td>\n",
              "      <td>0.846154</td>\n",
              "      <td>0.333333</td>\n",
              "      <td>3.000000</td>\n",
              "      <td>0.692308</td>\n",
              "      <td>32.540000</td>\n",
              "      <td>-124.350000</td>\n",
              "    </tr>\n",
              "    <tr>\n",
              "      <th>25%</th>\n",
              "      <td>2.563400</td>\n",
              "      <td>18.000000</td>\n",
              "      <td>4.440716</td>\n",
              "      <td>1.006079</td>\n",
              "      <td>787.000000</td>\n",
              "      <td>2.429741</td>\n",
              "      <td>33.930000</td>\n",
              "      <td>-121.800000</td>\n",
              "    </tr>\n",
              "    <tr>\n",
              "      <th>50%</th>\n",
              "      <td>3.534800</td>\n",
              "      <td>29.000000</td>\n",
              "      <td>5.229129</td>\n",
              "      <td>1.048780</td>\n",
              "      <td>1166.000000</td>\n",
              "      <td>2.818116</td>\n",
              "      <td>34.260000</td>\n",
              "      <td>-118.490000</td>\n",
              "    </tr>\n",
              "    <tr>\n",
              "      <th>75%</th>\n",
              "      <td>4.743250</td>\n",
              "      <td>37.000000</td>\n",
              "      <td>6.052381</td>\n",
              "      <td>1.099526</td>\n",
              "      <td>1725.000000</td>\n",
              "      <td>3.282261</td>\n",
              "      <td>37.710000</td>\n",
              "      <td>-118.010000</td>\n",
              "    </tr>\n",
              "    <tr>\n",
              "      <th>max</th>\n",
              "      <td>15.000100</td>\n",
              "      <td>52.000000</td>\n",
              "      <td>141.909091</td>\n",
              "      <td>34.066667</td>\n",
              "      <td>35682.000000</td>\n",
              "      <td>1243.333333</td>\n",
              "      <td>41.950000</td>\n",
              "      <td>-114.310000</td>\n",
              "    </tr>\n",
              "  </tbody>\n",
              "</table>\n",
              "</div>\n",
              "      <button class=\"colab-df-convert\" onclick=\"convertToInteractive('df-a0d4b95e-a7d3-4cc7-923d-b281e5e9e3e2')\"\n",
              "              title=\"Convert this dataframe to an interactive table.\"\n",
              "              style=\"display:none;\">\n",
              "        \n",
              "  <svg xmlns=\"http://www.w3.org/2000/svg\" height=\"24px\"viewBox=\"0 0 24 24\"\n",
              "       width=\"24px\">\n",
              "    <path d=\"M0 0h24v24H0V0z\" fill=\"none\"/>\n",
              "    <path d=\"M18.56 5.44l.94 2.06.94-2.06 2.06-.94-2.06-.94-.94-2.06-.94 2.06-2.06.94zm-11 1L8.5 8.5l.94-2.06 2.06-.94-2.06-.94L8.5 2.5l-.94 2.06-2.06.94zm10 10l.94 2.06.94-2.06 2.06-.94-2.06-.94-.94-2.06-.94 2.06-2.06.94z\"/><path d=\"M17.41 7.96l-1.37-1.37c-.4-.4-.92-.59-1.43-.59-.52 0-1.04.2-1.43.59L10.3 9.45l-7.72 7.72c-.78.78-.78 2.05 0 2.83L4 21.41c.39.39.9.59 1.41.59.51 0 1.02-.2 1.41-.59l7.78-7.78 2.81-2.81c.8-.78.8-2.07 0-2.86zM5.41 20L4 18.59l7.72-7.72 1.47 1.35L5.41 20z\"/>\n",
              "  </svg>\n",
              "      </button>\n",
              "      \n",
              "  <style>\n",
              "    .colab-df-container {\n",
              "      display:flex;\n",
              "      flex-wrap:wrap;\n",
              "      gap: 12px;\n",
              "    }\n",
              "\n",
              "    .colab-df-convert {\n",
              "      background-color: #E8F0FE;\n",
              "      border: none;\n",
              "      border-radius: 50%;\n",
              "      cursor: pointer;\n",
              "      display: none;\n",
              "      fill: #1967D2;\n",
              "      height: 32px;\n",
              "      padding: 0 0 0 0;\n",
              "      width: 32px;\n",
              "    }\n",
              "\n",
              "    .colab-df-convert:hover {\n",
              "      background-color: #E2EBFA;\n",
              "      box-shadow: 0px 1px 2px rgba(60, 64, 67, 0.3), 0px 1px 3px 1px rgba(60, 64, 67, 0.15);\n",
              "      fill: #174EA6;\n",
              "    }\n",
              "\n",
              "    [theme=dark] .colab-df-convert {\n",
              "      background-color: #3B4455;\n",
              "      fill: #D2E3FC;\n",
              "    }\n",
              "\n",
              "    [theme=dark] .colab-df-convert:hover {\n",
              "      background-color: #434B5C;\n",
              "      box-shadow: 0px 1px 3px 1px rgba(0, 0, 0, 0.15);\n",
              "      filter: drop-shadow(0px 1px 2px rgba(0, 0, 0, 0.3));\n",
              "      fill: #FFFFFF;\n",
              "    }\n",
              "  </style>\n",
              "\n",
              "      <script>\n",
              "        const buttonEl =\n",
              "          document.querySelector('#df-a0d4b95e-a7d3-4cc7-923d-b281e5e9e3e2 button.colab-df-convert');\n",
              "        buttonEl.style.display =\n",
              "          google.colab.kernel.accessAllowed ? 'block' : 'none';\n",
              "\n",
              "        async function convertToInteractive(key) {\n",
              "          const element = document.querySelector('#df-a0d4b95e-a7d3-4cc7-923d-b281e5e9e3e2');\n",
              "          const dataTable =\n",
              "            await google.colab.kernel.invokeFunction('convertToInteractive',\n",
              "                                                     [key], {});\n",
              "          if (!dataTable) return;\n",
              "\n",
              "          const docLinkHtml = 'Like what you see? Visit the ' +\n",
              "            '<a target=\"_blank\" href=https://colab.research.google.com/notebooks/data_table.ipynb>data table notebook</a>'\n",
              "            + ' to learn more about interactive tables.';\n",
              "          element.innerHTML = '';\n",
              "          dataTable['output_type'] = 'display_data';\n",
              "          await google.colab.output.renderOutput(dataTable, element);\n",
              "          const docLink = document.createElement('div');\n",
              "          docLink.innerHTML = docLinkHtml;\n",
              "          element.appendChild(docLink);\n",
              "        }\n",
              "      </script>\n",
              "    </div>\n",
              "  </div>\n",
              "  "
            ]
          },
          "metadata": {},
          "execution_count": 89
        }
      ]
    },
    {
      "cell_type": "code",
      "source": [
        "random_state = np.random.RandomState(42)\n",
        "train_features, test_features, train_targets, test_targets = model_selection.train_test_split(\n",
        "    features,\n",
        "    targets,\n",
        "    test_size=0.1,\n",
        "    random_state=random_state,\n",
        ")"
      ],
      "metadata": {
        "id": "EmB1B6ykHUR9"
      },
      "execution_count": 90,
      "outputs": []
    },
    {
      "cell_type": "code",
      "source": [
        "preprocessing_pipeline = pipeline.make_pipeline(\n",
        "    preprocessing.StandardScaler(),\n",
        "    preprocessing.FunctionTransformer(lambda X: X.astype(np.float32)),\n",
        "    preprocessing.FunctionTransformer(lambda X: torch.from_numpy(X)),\n",
        ")"
      ],
      "metadata": {
        "id": "YUeWX4jBHUR9"
      },
      "execution_count": 91,
      "outputs": []
    },
    {
      "cell_type": "code",
      "source": [
        "train_features_tensor = preprocessing_pipeline.fit_transform(train_features)\n",
        "train_targets_tensor = torch.from_numpy(train_targets.to_numpy().astype(np.float32).reshape(-1, 1))"
      ],
      "metadata": {
        "id": "N60DLvaFHUR-"
      },
      "execution_count": 99,
      "outputs": []
    },
    {
      "cell_type": "code",
      "source": [
        "train_dataset = utils.data.TensorDataset(train_features_tensor, train_targets_tensor)\n",
        "\n",
        "batch_size = 32\n",
        "train_dataloader = utils.data.DataLoader(train_dataset, batch_size, shuffle=True)"
      ],
      "metadata": {
        "id": "m9sAUxuqHUR-"
      },
      "execution_count": 100,
      "outputs": []
    },
    {
      "cell_type": "code",
      "source": [
        "loss_fn = nn.MSELoss()\n",
        "\n",
        "_, input_size = train_features_tensor.shape\n",
        "output_size = 1\n",
        "model_fn = MLPRegressor(input_size, [100], output_size)\n",
        "\n",
        "learning_rate = 1e-2\n",
        "optimizer = torch.optim.SGD(model_fn.parameters(), lr=learning_rate)"
      ],
      "metadata": {
        "id": "329CnQnEHUR-"
      },
      "execution_count": 101,
      "outputs": []
    },
    {
      "cell_type": "code",
      "source": [
        "epochs = 200\n",
        "log_epochs = 20\n",
        "\n",
        "for epoch in range(epochs):\n",
        "    for features, targets in train_dataloader:\n",
        "        \n",
        "        # forward pass\n",
        "        predictions = model_fn(features)        \n",
        "        loss = loss_fn(predictions, targets)\n",
        "        \n",
        "        # backward pass\n",
        "        loss.backward()        \n",
        "        optimizer.step()        \n",
        "        optimizer.zero_grad()    \n",
        "\n",
        "    if epoch % log_epochs == 0:\n",
        "        print(f'Epoch {epoch}  Loss {loss.item():.4f}')"
      ],
      "metadata": {
        "colab": {
          "base_uri": "https://localhost:8080/"
        },
        "outputId": "db9a1341-8d81-47f0-eb60-49669b505d70",
        "id": "T-GTpqaTHUR-"
      },
      "execution_count": 102,
      "outputs": [
        {
          "output_type": "stream",
          "name": "stdout",
          "text": [
            "Epoch 0  Loss 0.3635\n",
            "Epoch 20  Loss 0.2243\n",
            "Epoch 40  Loss 0.3632\n",
            "Epoch 60  Loss 0.1529\n",
            "Epoch 80  Loss 0.4890\n",
            "Epoch 100  Loss 0.1874\n",
            "Epoch 120  Loss 0.1134\n",
            "Epoch 140  Loss 0.4617\n",
            "Epoch 160  Loss 0.0874\n",
            "Epoch 180  Loss 0.1992\n"
          ]
        }
      ]
    },
    {
      "cell_type": "code",
      "source": [
        "test_features_tensor = preprocessing_pipeline.transform(test_features)\n",
        "test_targets_tensor = torch.from_numpy(test_targets.to_numpy().astype(np.float32).reshape(-1, 1))"
      ],
      "metadata": {
        "id": "-m2lVjJcHUR_"
      },
      "execution_count": 103,
      "outputs": []
    },
    {
      "cell_type": "code",
      "source": [
        "with torch.no_grad():\n",
        "  predictions_tensor = model_fn.predict(test_features_tensor)"
      ],
      "metadata": {
        "id": "CNHrKRGYHUR_"
      },
      "execution_count": 104,
      "outputs": []
    },
    {
      "cell_type": "code",
      "source": [
        "loss_fn(predictions_tensor, test_targets_tensor)"
      ],
      "metadata": {
        "colab": {
          "base_uri": "https://localhost:8080/"
        },
        "outputId": "e68a370f-ef59-44e9-af00-234ae38913ab",
        "id": "7Ea6AESiHUR_"
      },
      "execution_count": 105,
      "outputs": [
        {
          "output_type": "execute_result",
          "data": {
            "text/plain": [
              "tensor(0.3119)"
            ]
          },
          "metadata": {},
          "execution_count": 105
        }
      ]
    },
    {
      "cell_type": "code",
      "source": [],
      "metadata": {
        "id": "zA8eIy57o-Db"
      },
      "execution_count": null,
      "outputs": []
    }
  ]
}
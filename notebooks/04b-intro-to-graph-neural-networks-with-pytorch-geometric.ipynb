{
  "nbformat": 4,
  "nbformat_minor": 0,
  "metadata": {
    "colab": {
      "provenance": []
    },
    "kernelspec": {
      "name": "python3",
      "display_name": "Python 3"
    },
    "language_info": {
      "name": "python"
    }
  },
  "cells": [
    {
      "cell_type": "code",
      "source": [
        "import os\n",
        "\n",
        "import torch\n",
        "os.environ[\"TORCH_VERSION\"] = torch.__version__"
      ],
      "metadata": {
        "id": "dVveGdkgRIB_"
      },
      "execution_count": 41,
      "outputs": []
    },
    {
      "cell_type": "code",
      "execution_count": 42,
      "metadata": {
        "colab": {
          "base_uri": "https://localhost:8080/"
        },
        "id": "wKwGUmlwEMIf",
        "outputId": "abb47b37-6c13-4308-f078-c25f412a2cff"
      },
      "outputs": [
        {
          "output_type": "stream",
          "name": "stdout",
          "text": [
            "Looking in indexes: https://pypi.org/simple, https://us-python.pkg.dev/colab-wheels/public/simple/\n",
            "Looking in links: https://pytorch-geometric.com/whl/torch-1.12.1+cu113.html\n",
            "Requirement already satisfied: torch-scatter in /usr/local/lib/python3.7/dist-packages (2.0.9)\n",
            "Requirement already satisfied: torch-sparse in /usr/local/lib/python3.7/dist-packages (0.6.15)\n",
            "Requirement already satisfied: torch-geometric in /usr/local/lib/python3.7/dist-packages (2.1.0.post1)\n",
            "Requirement already satisfied: scipy in /usr/local/lib/python3.7/dist-packages (from torch-sparse) (1.7.3)\n",
            "Requirement already satisfied: numpy in /usr/local/lib/python3.7/dist-packages (from torch-geometric) (1.21.6)\n",
            "Requirement already satisfied: scikit-learn in /usr/local/lib/python3.7/dist-packages (from torch-geometric) (1.0.2)\n",
            "Requirement already satisfied: requests in /usr/local/lib/python3.7/dist-packages (from torch-geometric) (2.23.0)\n",
            "Requirement already satisfied: pyparsing in /usr/local/lib/python3.7/dist-packages (from torch-geometric) (3.0.9)\n",
            "Requirement already satisfied: tqdm in /usr/local/lib/python3.7/dist-packages (from torch-geometric) (4.64.1)\n",
            "Requirement already satisfied: jinja2 in /usr/local/lib/python3.7/dist-packages (from torch-geometric) (2.11.3)\n",
            "Requirement already satisfied: MarkupSafe>=0.23 in /usr/local/lib/python3.7/dist-packages (from jinja2->torch-geometric) (2.0.1)\n",
            "Requirement already satisfied: chardet<4,>=3.0.2 in /usr/local/lib/python3.7/dist-packages (from requests->torch-geometric) (3.0.4)\n",
            "Requirement already satisfied: certifi>=2017.4.17 in /usr/local/lib/python3.7/dist-packages (from requests->torch-geometric) (2022.9.24)\n",
            "Requirement already satisfied: idna<3,>=2.5 in /usr/local/lib/python3.7/dist-packages (from requests->torch-geometric) (2.10)\n",
            "Requirement already satisfied: urllib3!=1.25.0,!=1.25.1,<1.26,>=1.21.1 in /usr/local/lib/python3.7/dist-packages (from requests->torch-geometric) (1.24.3)\n",
            "Requirement already satisfied: threadpoolctl>=2.0.0 in /usr/local/lib/python3.7/dist-packages (from scikit-learn->torch-geometric) (3.1.0)\n",
            "Requirement already satisfied: joblib>=0.11 in /usr/local/lib/python3.7/dist-packages (from scikit-learn->torch-geometric) (1.2.0)\n"
          ]
        }
      ],
      "source": [
        "%%bash\n",
        "\n",
        "pip install torch-scatter torch-sparse torch-geometric -f https://pytorch-geometric.com/whl/torch-$TORCH_VERSION.html"
      ]
    },
    {
      "cell_type": "markdown",
      "source": [
        "# Implemeting a GNN using PyTorch Geometric\n",
        "\n",
        "Following along with Chapter 18 of Machine Learning with PyTorch and Scikit-Learn, we will implement a GNN using the PyTorch Geometric library. We will apply a GNN to the QM9 dataset of small molecules to predict isotropic polarizability which is a measure of a molecule’s tendency to have its charge distorted by an electric field."
      ],
      "metadata": {
        "id": "bu9sjfxqFBPU"
      }
    },
    {
      "cell_type": "code",
      "source": [
        "import matplotlib.pyplot as plt\n",
        "\n",
        "from torch import nn, utils\n",
        "from torch.nn import functional as F\n",
        "from torch_geometric import datasets, loader\n",
        "from torch_geometric import nn as gnn"
      ],
      "metadata": {
        "id": "kb1e29mPE554"
      },
      "execution_count": 43,
      "outputs": []
    },
    {
      "cell_type": "code",
      "source": [
        "datasets.QM9?"
      ],
      "metadata": {
        "id": "JGP-BYlLJ2Zw"
      },
      "execution_count": 44,
      "outputs": []
    },
    {
      "cell_type": "code",
      "source": [
        "qm9_dataset = datasets.QM9(\"./sample_data\")"
      ],
      "metadata": {
        "id": "8BTS-pucJCPD"
      },
      "execution_count": 45,
      "outputs": []
    },
    {
      "cell_type": "code",
      "source": [
        "sample = qm9_dataset[0]"
      ],
      "metadata": {
        "id": "w9JrMJHwJJiB"
      },
      "execution_count": 46,
      "outputs": []
    },
    {
      "cell_type": "code",
      "source": [
        "sample.z"
      ],
      "metadata": {
        "colab": {
          "base_uri": "https://localhost:8080/"
        },
        "id": "iCCg1Q_TJuBG",
        "outputId": "6846ccdb-8b4f-4fb1-edb0-8b3ed9cf4986"
      },
      "execution_count": 47,
      "outputs": [
        {
          "output_type": "execute_result",
          "data": {
            "text/plain": [
              "tensor([6, 1, 1, 1, 1])"
            ]
          },
          "metadata": {},
          "execution_count": 47
        }
      ]
    },
    {
      "cell_type": "code",
      "source": [
        "sample[\"z\"]"
      ],
      "metadata": {
        "colab": {
          "base_uri": "https://localhost:8080/"
        },
        "id": "iuKqGPhNKDk9",
        "outputId": "e0948f62-a22d-4b7d-d25a-1b2486478334"
      },
      "execution_count": 48,
      "outputs": [
        {
          "output_type": "execute_result",
          "data": {
            "text/plain": [
              "tensor([6, 1, 1, 1, 1])"
            ]
          },
          "metadata": {},
          "execution_count": 48
        }
      ]
    },
    {
      "cell_type": "code",
      "source": [
        "sample[\"some attribute\"] = torch.tensor([1.3, 2.0, 4.5])"
      ],
      "metadata": {
        "id": "kd50n7ViKEz5"
      },
      "execution_count": 49,
      "outputs": []
    },
    {
      "cell_type": "code",
      "source": [
        "sample"
      ],
      "metadata": {
        "colab": {
          "base_uri": "https://localhost:8080/"
        },
        "id": "U9aTcnA9KYYZ",
        "outputId": "16feb757-e7a7-4d33-ff5b-169d3ebc7ffc"
      },
      "execution_count": 50,
      "outputs": [
        {
          "output_type": "execute_result",
          "data": {
            "text/plain": [
              "Data(x=[5, 11], edge_index=[2, 8], edge_attr=[8, 4], y=[1, 19], pos=[5, 3], idx=[1], name='gdb_1', z=[5], some attribute=[3])"
            ]
          },
          "metadata": {},
          "execution_count": 50
        }
      ]
    },
    {
      "cell_type": "code",
      "source": [
        "gnn.NNConv?"
      ],
      "metadata": {
        "id": "bg9r5069Lgoi"
      },
      "execution_count": 51,
      "outputs": []
    },
    {
      "cell_type": "code",
      "source": [
        "class GNNRegressor(nn.Module):\n",
        "\n",
        "    def __init__(self, num_node_features, num_edge_features): \n",
        "        super().__init__()\n",
        "\n",
        "        nn_1 = nn.Sequential(\n",
        "            nn.Linear(num_edge_features, 32),\n",
        "            nn.ReLU(),\n",
        "            nn.Linear(32, num_node_features * 32)\n",
        "        )\n",
        "        nn_2 = nn.Sequential(\n",
        "            nn.Linear(num_edge_features, 32),\n",
        "            nn.ReLU(),\n",
        "            nn.Linear(32, 32 * 16)\n",
        "        )\n",
        "        self.nnconv_1 = gnn.NNConv(num_node_features, 32, nn_1)\n",
        "        self.nnconv_2 = gnn.NNConv(32, 16, nn_2)\n",
        "        self.linear_1 = nn.Linear(16, 32)\n",
        "        self.linear_2 = nn.Linear(32, 1)\n",
        "\n",
        "    def forward(self, data):\n",
        "        h = F.relu(self.nnconv_1(data.x, data.edge_index, data.edge_attr))\n",
        "        h = F.relu(self.nnconv_2(h, data.edge_index, data.edge_attr))\n",
        "        h = gnn.global_add_pool(h, data.batch)\n",
        "        h = F.relu(self.linear_1(h))\n",
        "        h = self.linear_2(h)\n",
        "        return h\n",
        "\n"
      ],
      "metadata": {
        "id": "1Gt5ZQmQKZ9N"
      },
      "execution_count": 53,
      "outputs": []
    },
    {
      "cell_type": "markdown",
      "source": [
        "## Create train, val, test splits"
      ],
      "metadata": {
        "id": "kyATtYK_O63Z"
      }
    },
    {
      "cell_type": "code",
      "source": [
        "train_dataset, val_dataset, test_dataset = utils.data.random_split(\n",
        "    qm9_dataset,\n",
        "    [110000, 10831, 10000]\n",
        ")\n",
        "train_dataloader = loader.DataLoader(\n",
        "    train_dataset,\n",
        "    batch_size=32,\n",
        "    shuffle=True,\n",
        ")\n",
        "val_dataloader = loader.DataLoader(\n",
        "    val_dataset,\n",
        "    batch_size=32,\n",
        "    shuffle=False,\n",
        ")\n",
        "test_dataloader = loader.DataLoader(\n",
        "    test_dataset,\n",
        "    batch_size=32,\n",
        "    shuffle=False\n",
        ")"
      ],
      "metadata": {
        "id": "cdSiEOH_OZ4v"
      },
      "execution_count": 54,
      "outputs": []
    },
    {
      "cell_type": "code",
      "source": [],
      "metadata": {
        "id": "RsZwx8PaP64o"
      },
      "execution_count": 32,
      "outputs": []
    },
    {
      "cell_type": "markdown",
      "source": [
        "## Train and validate the model"
      ],
      "metadata": {
        "id": "lfvBydaWQlT4"
      }
    },
    {
      "cell_type": "code",
      "source": [
        "# initialize a network\n",
        "model = GNNRegressor(11, 4)\n",
        "\n",
        "# initialize an optimizer with some reasonable parameters\n",
        "optimizer = torch.optim.Adam(model.parameters(), lr=0.01)"
      ],
      "metadata": {
        "id": "MUo8HU0OP68j"
      },
      "execution_count": 57,
      "outputs": []
    },
    {
      "cell_type": "code",
      "source": [
        "epochs = 5\n",
        "target_idx = 1\n",
        "\n",
        "for total_epochs in range(epochs):\n",
        "    epoch_loss = 0\n",
        "    total_graphs = 0\n",
        "    \n",
        "    model.train()\n",
        "    for batch in train_dataloader:\n",
        "        # forward pass\n",
        "        y_hat = model(batch)\n",
        "        \n",
        "        # backward pass\n",
        "        y = batch.y[:, target_idx].unsqueeze(1)\n",
        "        loss = F.mse_loss(y_hat, y)\n",
        "        loss.backward()\n",
        "        optimizer.step()\n",
        "        optimizer.zero_grad()\n",
        "\n",
        "        # update batch statistics\n",
        "        epoch_loss += loss.item()\n",
        "        total_graphs += batch.num_graphs\n",
        "    \n",
        "    # update epoch statistics\n",
        "    train_avg_loss = epoch_loss / total_graphs\n",
        "    \n",
        "    # validate after every epoch\n",
        "    model.eval()\n",
        "    with torch.no_grad():\n",
        "        val_loss = 0\n",
        "        total_graphs = 0\n",
        "        for batch in val_dataloader:\n",
        "            y_hat = model(batch)\n",
        "            y = batch.y[:, target_idx].unsqueeze(1)\n",
        "            loss = F.mse_loss(y_hat, y)\n",
        "            val_loss += loss.item()\n",
        "            total_graphs += batch.num_graphs\n",
        "        val_avg_loss = val_loss / total_graphs\n",
        "    print(f\"Epochs: {total_epochs} | \"\n",
        "          f\"epoch avg. loss: {train_avg_loss:.2f} | \"\n",
        "          f\"validation avg. loss: {val_avg_loss:.2f}\")\n"
      ],
      "metadata": {
        "colab": {
          "base_uri": "https://localhost:8080/"
        },
        "id": "HO3ZFFoqP7AT",
        "outputId": "f7a296d2-35f4-4795-cbee-c33cae018272"
      },
      "execution_count": 58,
      "outputs": [
        {
          "output_type": "stream",
          "name": "stdout",
          "text": [
            "Epochs: 0 | epoch avg. loss: 0.38 | validation avg. loss: 0.14\n",
            "Epochs: 1 | epoch avg. loss: 0.13 | validation avg. loss: 0.08\n",
            "Epochs: 2 | epoch avg. loss: 0.11 | validation avg. loss: 0.13\n",
            "Epochs: 3 | epoch avg. loss: 0.10 | validation avg. loss: 0.13\n",
            "Epochs: 4 | epoch avg. loss: 0.09 | validation avg. loss: 0.07\n"
          ]
        }
      ]
    },
    {
      "cell_type": "markdown",
      "source": [
        "## Evaluate on the test set"
      ],
      "metadata": {
        "id": "foe5IzdTQt0N"
      }
    },
    {
      "cell_type": "code",
      "source": [
        "model.eval()\n",
        "with torch.no_grad():\n",
        "    ys = []\n",
        "    y_hats = []\n",
        "    for batch in test_dataloader:\n",
        "        y_hat = model(batch)\n",
        "        y = batch.y[:,target_idx]\n",
        "        y_hats.append(y_hat)\n",
        "        ys.append(y)\n",
        "    target = torch.cat(ys)\n",
        "    predictions = torch.cat(y_hats)"
      ],
      "metadata": {
        "id": "zjRhwp3fQvTA"
      },
      "execution_count": 59,
      "outputs": []
    },
    {
      "cell_type": "code",
      "source": [
        "plt.scatter(target, predictions, alpha=0.1)\n",
        "plt.xlabel('Isotropic polarizability')\n",
        "plt.ylabel('Predicted isotropic polarizability')"
      ],
      "metadata": {
        "colab": {
          "base_uri": "https://localhost:8080/",
          "height": 296
        },
        "id": "AaDgdAWZXpRN",
        "outputId": "8f90f3b9-0b8b-4185-f723-41a3cd37c361"
      },
      "execution_count": 60,
      "outputs": [
        {
          "output_type": "execute_result",
          "data": {
            "text/plain": [
              "Text(0, 0.5, 'Predicted isotropic polarizability')"
            ]
          },
          "metadata": {},
          "execution_count": 60
        },
        {
          "output_type": "display_data",
          "data": {
            "text/plain": [
              "<Figure size 432x288 with 1 Axes>"
            ],
            "image/png": "[encoded data removed]"
          },
          "metadata": {
            "needs_background": "light"
          }
        }
      ]
    },
    {
      "cell_type": "code",
      "source": [],
      "metadata": {
        "id": "HuXeyOMlX_o7"
      },
      "execution_count": null,
      "outputs": []
    }
  ]
}
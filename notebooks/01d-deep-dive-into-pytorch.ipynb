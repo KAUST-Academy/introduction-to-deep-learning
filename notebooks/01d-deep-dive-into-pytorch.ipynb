{
  "nbformat": 4,
  "nbformat_minor": 0,
  "metadata": {
    "colab": {
      "provenance": []
    },
    "kernelspec": {
      "name": "python3",
      "display_name": "Python 3"
    },
    "language_info": {
      "name": "python"
    },
    "widgets": {
      "application/vnd.jupyter.widget-state+json": {
        "c1b356855c724593972967dae1f9a39b": {
          "model_module": "@jupyter-widgets/controls",
          "model_name": "HBoxModel",
          "model_module_version": "1.5.0",
          "state": {
            "_dom_classes": [],
            "_model_module": "@jupyter-widgets/controls",
            "_model_module_version": "1.5.0",
            "_model_name": "HBoxModel",
            "_view_count": null,
            "_view_module": "@jupyter-widgets/controls",
            "_view_module_version": "1.5.0",
            "_view_name": "HBoxView",
            "box_style": "",
            "children": [
              "IPY_MODEL_bda313bdb38e4ad5a354c54cfab9583c",
              "IPY_MODEL_0c58c2efd518498284fe5de2ddfd79ff",
              "IPY_MODEL_275d5dc513fa4596b3fe3eb2c271a475"
            ],
            "layout": "IPY_MODEL_233cd4e8b5e444cbbe7ddde850bb8c78"
          }
        },
        "bda313bdb38e4ad5a354c54cfab9583c": {
          "model_module": "@jupyter-widgets/controls",
          "model_name": "HTMLModel",
          "model_module_version": "1.5.0",
          "state": {
            "_dom_classes": [],
            "_model_module": "@jupyter-widgets/controls",
            "_model_module_version": "1.5.0",
            "_model_name": "HTMLModel",
            "_view_count": null,
            "_view_module": "@jupyter-widgets/controls",
            "_view_module_version": "1.5.0",
            "_view_name": "HTMLView",
            "description": "",
            "description_tooltip": null,
            "layout": "IPY_MODEL_82435c2554b543f59696168eb85cd2da",
            "placeholder": "​",
            "style": "IPY_MODEL_cf4cab046b6044b58a0c56192ae00ad0",
            "value": "100%"
          }
        },
        "0c58c2efd518498284fe5de2ddfd79ff": {
          "model_module": "@jupyter-widgets/controls",
          "model_name": "FloatProgressModel",
          "model_module_version": "1.5.0",
          "state": {
            "_dom_classes": [],
            "_model_module": "@jupyter-widgets/controls",
            "_model_module_version": "1.5.0",
            "_model_name": "FloatProgressModel",
            "_view_count": null,
            "_view_module": "@jupyter-widgets/controls",
            "_view_module_version": "1.5.0",
            "_view_name": "ProgressView",
            "bar_style": "success",
            "description": "",
            "description_tooltip": null,
            "layout": "IPY_MODEL_ee7e60df2a4141edba043e451a54195f",
            "max": 9912422,
            "min": 0,
            "orientation": "horizontal",
            "style": "IPY_MODEL_e94322b961184fe7be8827f2c1f30072",
            "value": 9912422
          }
        },
        "275d5dc513fa4596b3fe3eb2c271a475": {
          "model_module": "@jupyter-widgets/controls",
          "model_name": "HTMLModel",
          "model_module_version": "1.5.0",
          "state": {
            "_dom_classes": [],
            "_model_module": "@jupyter-widgets/controls",
            "_model_module_version": "1.5.0",
            "_model_name": "HTMLModel",
            "_view_count": null,
            "_view_module": "@jupyter-widgets/controls",
            "_view_module_version": "1.5.0",
            "_view_name": "HTMLView",
            "description": "",
            "description_tooltip": null,
            "layout": "IPY_MODEL_89bed871096a40db95445416ebca42a2",
            "placeholder": "​",
            "style": "IPY_MODEL_1bcfb2d053504d7da41fd55a2183249f",
            "value": " 9912422/9912422 [00:00&lt;00:00, 10477548.28it/s]"
          }
        },
        "233cd4e8b5e444cbbe7ddde850bb8c78": {
          "model_module": "@jupyter-widgets/base",
          "model_name": "LayoutModel",
          "model_module_version": "1.2.0",
          "state": {
            "_model_module": "@jupyter-widgets/base",
            "_model_module_version": "1.2.0",
            "_model_name": "LayoutModel",
            "_view_count": null,
            "_view_module": "@jupyter-widgets/base",
            "_view_module_version": "1.2.0",
            "_view_name": "LayoutView",
            "align_content": null,
            "align_items": null,
            "align_self": null,
            "border": null,
            "bottom": null,
            "display": null,
            "flex": null,
            "flex_flow": null,
            "grid_area": null,
            "grid_auto_columns": null,
            "grid_auto_flow": null,
            "grid_auto_rows": null,
            "grid_column": null,
            "grid_gap": null,
            "grid_row": null,
            "grid_template_areas": null,
            "grid_template_columns": null,
            "grid_template_rows": null,
            "height": null,
            "justify_content": null,
            "justify_items": null,
            "left": null,
            "margin": null,
            "max_height": null,
            "max_width": null,
            "min_height": null,
            "min_width": null,
            "object_fit": null,
            "object_position": null,
            "order": null,
            "overflow": null,
            "overflow_x": null,
            "overflow_y": null,
            "padding": null,
            "right": null,
            "top": null,
            "visibility": null,
            "width": null
          }
        },
        "82435c2554b543f59696168eb85cd2da": {
          "model_module": "@jupyter-widgets/base",
          "model_name": "LayoutModel",
          "model_module_version": "1.2.0",
          "state": {
            "_model_module": "@jupyter-widgets/base",
            "_model_module_version": "1.2.0",
            "_model_name": "LayoutModel",
            "_view_count": null,
            "_view_module": "@jupyter-widgets/base",
            "_view_module_version": "1.2.0",
            "_view_name": "LayoutView",
            "align_content": null,
            "align_items": null,
            "align_self": null,
            "border": null,
            "bottom": null,
            "display": null,
            "flex": null,
            "flex_flow": null,
            "grid_area": null,
            "grid_auto_columns": null,
            "grid_auto_flow": null,
            "grid_auto_rows": null,
            "grid_column": null,
            "grid_gap": null,
            "grid_row": null,
            "grid_template_areas": null,
            "grid_template_columns": null,
            "grid_template_rows": null,
            "height": null,
            "justify_content": null,
            "justify_items": null,
            "left": null,
            "margin": null,
            "max_height": null,
            "max_width": null,
            "min_height": null,
            "min_width": null,
            "object_fit": null,
            "object_position": null,
            "order": null,
            "overflow": null,
            "overflow_x": null,
            "overflow_y": null,
            "padding": null,
            "right": null,
            "top": null,
            "visibility": null,
            "width": null
          }
        },
        "cf4cab046b6044b58a0c56192ae00ad0": {
          "model_module": "@jupyter-widgets/controls",
          "model_name": "DescriptionStyleModel",
          "model_module_version": "1.5.0",
          "state": {
            "_model_module": "@jupyter-widgets/controls",
            "_model_module_version": "1.5.0",
            "_model_name": "DescriptionStyleModel",
            "_view_count": null,
            "_view_module": "@jupyter-widgets/base",
            "_view_module_version": "1.2.0",
            "_view_name": "StyleView",
            "description_width": ""
          }
        },
        "ee7e60df2a4141edba043e451a54195f": {
          "model_module": "@jupyter-widgets/base",
          "model_name": "LayoutModel",
          "model_module_version": "1.2.0",
          "state": {
            "_model_module": "@jupyter-widgets/base",
            "_model_module_version": "1.2.0",
            "_model_name": "LayoutModel",
            "_view_count": null,
            "_view_module": "@jupyter-widgets/base",
            "_view_module_version": "1.2.0",
            "_view_name": "LayoutView",
            "align_content": null,
            "align_items": null,
            "align_self": null,
            "border": null,
            "bottom": null,
            "display": null,
            "flex": null,
            "flex_flow": null,
            "grid_area": null,
            "grid_auto_columns": null,
            "grid_auto_flow": null,
            "grid_auto_rows": null,
            "grid_column": null,
            "grid_gap": null,
            "grid_row": null,
            "grid_template_areas": null,
            "grid_template_columns": null,
            "grid_template_rows": null,
            "height": null,
            "justify_content": null,
            "justify_items": null,
            "left": null,
            "margin": null,
            "max_height": null,
            "max_width": null,
            "min_height": null,
            "min_width": null,
            "object_fit": null,
            "object_position": null,
            "order": null,
            "overflow": null,
            "overflow_x": null,
            "overflow_y": null,
            "padding": null,
            "right": null,
            "top": null,
            "visibility": null,
            "width": null
          }
        },
        "e94322b961184fe7be8827f2c1f30072": {
          "model_module": "@jupyter-widgets/controls",
          "model_name": "ProgressStyleModel",
          "model_module_version": "1.5.0",
          "state": {
            "_model_module": "@jupyter-widgets/controls",
            "_model_module_version": "1.5.0",
            "_model_name": "ProgressStyleModel",
            "_view_count": null,
            "_view_module": "@jupyter-widgets/base",
            "_view_module_version": "1.2.0",
            "_view_name": "StyleView",
            "bar_color": null,
            "description_width": ""
          }
        },
        "89bed871096a40db95445416ebca42a2": {
          "model_module": "@jupyter-widgets/base",
          "model_name": "LayoutModel",
          "model_module_version": "1.2.0",
          "state": {
            "_model_module": "@jupyter-widgets/base",
            "_model_module_version": "1.2.0",
            "_model_name": "LayoutModel",
            "_view_count": null,
            "_view_module": "@jupyter-widgets/base",
            "_view_module_version": "1.2.0",
            "_view_name": "LayoutView",
            "align_content": null,
            "align_items": null,
            "align_self": null,
            "border": null,
            "bottom": null,
            "display": null,
            "flex": null,
            "flex_flow": null,
            "grid_area": null,
            "grid_auto_columns": null,
            "grid_auto_flow": null,
            "grid_auto_rows": null,
            "grid_column": null,
            "grid_gap": null,
            "grid_row": null,
            "grid_template_areas": null,
            "grid_template_columns": null,
            "grid_template_rows": null,
            "height": null,
            "justify_content": null,
            "justify_items": null,
            "left": null,
            "margin": null,
            "max_height": null,
            "max_width": null,
            "min_height": null,
            "min_width": null,
            "object_fit": null,
            "object_position": null,
            "order": null,
            "overflow": null,
            "overflow_x": null,
            "overflow_y": null,
            "padding": null,
            "right": null,
            "top": null,
            "visibility": null,
            "width": null
          }
        },
        "1bcfb2d053504d7da41fd55a2183249f": {
          "model_module": "@jupyter-widgets/controls",
          "model_name": "DescriptionStyleModel",
          "model_module_version": "1.5.0",
          "state": {
            "_model_module": "@jupyter-widgets/controls",
            "_model_module_version": "1.5.0",
            "_model_name": "DescriptionStyleModel",
            "_view_count": null,
            "_view_module": "@jupyter-widgets/base",
            "_view_module_version": "1.2.0",
            "_view_name": "StyleView",
            "description_width": ""
          }
        },
        "9656ea72bbd8476181a5ab639b90ff04": {
          "model_module": "@jupyter-widgets/controls",
          "model_name": "HBoxModel",
          "model_module_version": "1.5.0",
          "state": {
            "_dom_classes": [],
            "_model_module": "@jupyter-widgets/controls",
            "_model_module_version": "1.5.0",
            "_model_name": "HBoxModel",
            "_view_count": null,
            "_view_module": "@jupyter-widgets/controls",
            "_view_module_version": "1.5.0",
            "_view_name": "HBoxView",
            "box_style": "",
            "children": [
              "IPY_MODEL_083c2c9245c4456080bde9f0b3a3a080",
              "IPY_MODEL_c8c629e87a9d4ff6949c4217be9c6db4",
              "IPY_MODEL_4305e17a4b0d4bcfa8b47e7871b26843"
            ],
            "layout": "IPY_MODEL_54a011869b17469491e44f39037a2c13"
          }
        },
        "083c2c9245c4456080bde9f0b3a3a080": {
          "model_module": "@jupyter-widgets/controls",
          "model_name": "HTMLModel",
          "model_module_version": "1.5.0",
          "state": {
            "_dom_classes": [],
            "_model_module": "@jupyter-widgets/controls",
            "_model_module_version": "1.5.0",
            "_model_name": "HTMLModel",
            "_view_count": null,
            "_view_module": "@jupyter-widgets/controls",
            "_view_module_version": "1.5.0",
            "_view_name": "HTMLView",
            "description": "",
            "description_tooltip": null,
            "layout": "IPY_MODEL_af048b9aca774842b184aa42d4f07651",
            "placeholder": "​",
            "style": "IPY_MODEL_442e7db317c14935abb2751839f3810a",
            "value": "100%"
          }
        },
        "c8c629e87a9d4ff6949c4217be9c6db4": {
          "model_module": "@jupyter-widgets/controls",
          "model_name": "FloatProgressModel",
          "model_module_version": "1.5.0",
          "state": {
            "_dom_classes": [],
            "_model_module": "@jupyter-widgets/controls",
            "_model_module_version": "1.5.0",
            "_model_name": "FloatProgressModel",
            "_view_count": null,
            "_view_module": "@jupyter-widgets/controls",
            "_view_module_version": "1.5.0",
            "_view_name": "ProgressView",
            "bar_style": "success",
            "description": "",
            "description_tooltip": null,
            "layout": "IPY_MODEL_13b98c3a81074e0ab8520933a9888d6c",
            "max": 28881,
            "min": 0,
            "orientation": "horizontal",
            "style": "IPY_MODEL_78ac07843a1544deb2b65e3bf12077a0",
            "value": 28881
          }
        },
        "4305e17a4b0d4bcfa8b47e7871b26843": {
          "model_module": "@jupyter-widgets/controls",
          "model_name": "HTMLModel",
          "model_module_version": "1.5.0",
          "state": {
            "_dom_classes": [],
            "_model_module": "@jupyter-widgets/controls",
            "_model_module_version": "1.5.0",
            "_model_name": "HTMLModel",
            "_view_count": null,
            "_view_module": "@jupyter-widgets/controls",
            "_view_module_version": "1.5.0",
            "_view_name": "HTMLView",
            "description": "",
            "description_tooltip": null,
            "layout": "IPY_MODEL_35c705ed06c04eac9c041e73f885f040",
            "placeholder": "​",
            "style": "IPY_MODEL_5111a5900ce54412ab65ef912c1de019",
            "value": " 28881/28881 [00:00&lt;00:00, 675648.64it/s]"
          }
        },
        "54a011869b17469491e44f39037a2c13": {
          "model_module": "@jupyter-widgets/base",
          "model_name": "LayoutModel",
          "model_module_version": "1.2.0",
          "state": {
            "_model_module": "@jupyter-widgets/base",
            "_model_module_version": "1.2.0",
            "_model_name": "LayoutModel",
            "_view_count": null,
            "_view_module": "@jupyter-widgets/base",
            "_view_module_version": "1.2.0",
            "_view_name": "LayoutView",
            "align_content": null,
            "align_items": null,
            "align_self": null,
            "border": null,
            "bottom": null,
            "display": null,
            "flex": null,
            "flex_flow": null,
            "grid_area": null,
            "grid_auto_columns": null,
            "grid_auto_flow": null,
            "grid_auto_rows": null,
            "grid_column": null,
            "grid_gap": null,
            "grid_row": null,
            "grid_template_areas": null,
            "grid_template_columns": null,
            "grid_template_rows": null,
            "height": null,
            "justify_content": null,
            "justify_items": null,
            "left": null,
            "margin": null,
            "max_height": null,
            "max_width": null,
            "min_height": null,
            "min_width": null,
            "object_fit": null,
            "object_position": null,
            "order": null,
            "overflow": null,
            "overflow_x": null,
            "overflow_y": null,
            "padding": null,
            "right": null,
            "top": null,
            "visibility": null,
            "width": null
          }
        },
        "af048b9aca774842b184aa42d4f07651": {
          "model_module": "@jupyter-widgets/base",
          "model_name": "LayoutModel",
          "model_module_version": "1.2.0",
          "state": {
            "_model_module": "@jupyter-widgets/base",
            "_model_module_version": "1.2.0",
            "_model_name": "LayoutModel",
            "_view_count": null,
            "_view_module": "@jupyter-widgets/base",
            "_view_module_version": "1.2.0",
            "_view_name": "LayoutView",
            "align_content": null,
            "align_items": null,
            "align_self": null,
            "border": null,
            "bottom": null,
            "display": null,
            "flex": null,
            "flex_flow": null,
            "grid_area": null,
            "grid_auto_columns": null,
            "grid_auto_flow": null,
            "grid_auto_rows": null,
            "grid_column": null,
            "grid_gap": null,
            "grid_row": null,
            "grid_template_areas": null,
            "grid_template_columns": null,
            "grid_template_rows": null,
            "height": null,
            "justify_content": null,
            "justify_items": null,
            "left": null,
            "margin": null,
            "max_height": null,
            "max_width": null,
            "min_height": null,
            "min_width": null,
            "object_fit": null,
            "object_position": null,
            "order": null,
            "overflow": null,
            "overflow_x": null,
            "overflow_y": null,
            "padding": null,
            "right": null,
            "top": null,
            "visibility": null,
            "width": null
          }
        },
        "442e7db317c14935abb2751839f3810a": {
          "model_module": "@jupyter-widgets/controls",
          "model_name": "DescriptionStyleModel",
          "model_module_version": "1.5.0",
          "state": {
            "_model_module": "@jupyter-widgets/controls",
            "_model_module_version": "1.5.0",
            "_model_name": "DescriptionStyleModel",
            "_view_count": null,
            "_view_module": "@jupyter-widgets/base",
            "_view_module_version": "1.2.0",
            "_view_name": "StyleView",
            "description_width": ""
          }
        },
        "13b98c3a81074e0ab8520933a9888d6c": {
          "model_module": "@jupyter-widgets/base",
          "model_name": "LayoutModel",
          "model_module_version": "1.2.0",
          "state": {
            "_model_module": "@jupyter-widgets/base",
            "_model_module_version": "1.2.0",
            "_model_name": "LayoutModel",
            "_view_count": null,
            "_view_module": "@jupyter-widgets/base",
            "_view_module_version": "1.2.0",
            "_view_name": "LayoutView",
            "align_content": null,
            "align_items": null,
            "align_self": null,
            "border": null,
            "bottom": null,
            "display": null,
            "flex": null,
            "flex_flow": null,
            "grid_area": null,
            "grid_auto_columns": null,
            "grid_auto_flow": null,
            "grid_auto_rows": null,
            "grid_column": null,
            "grid_gap": null,
            "grid_row": null,
            "grid_template_areas": null,
            "grid_template_columns": null,
            "grid_template_rows": null,
            "height": null,
            "justify_content": null,
            "justify_items": null,
            "left": null,
            "margin": null,
            "max_height": null,
            "max_width": null,
            "min_height": null,
            "min_width": null,
            "object_fit": null,
            "object_position": null,
            "order": null,
            "overflow": null,
            "overflow_x": null,
            "overflow_y": null,
            "padding": null,
            "right": null,
            "top": null,
            "visibility": null,
            "width": null
          }
        },
        "78ac07843a1544deb2b65e3bf12077a0": {
          "model_module": "@jupyter-widgets/controls",
          "model_name": "ProgressStyleModel",
          "model_module_version": "1.5.0",
          "state": {
            "_model_module": "@jupyter-widgets/controls",
            "_model_module_version": "1.5.0",
            "_model_name": "ProgressStyleModel",
            "_view_count": null,
            "_view_module": "@jupyter-widgets/base",
            "_view_module_version": "1.2.0",
            "_view_name": "StyleView",
            "bar_color": null,
            "description_width": ""
          }
        },
        "35c705ed06c04eac9c041e73f885f040": {
          "model_module": "@jupyter-widgets/base",
          "model_name": "LayoutModel",
          "model_module_version": "1.2.0",
          "state": {
            "_model_module": "@jupyter-widgets/base",
            "_model_module_version": "1.2.0",
            "_model_name": "LayoutModel",
            "_view_count": null,
            "_view_module": "@jupyter-widgets/base",
            "_view_module_version": "1.2.0",
            "_view_name": "LayoutView",
            "align_content": null,
            "align_items": null,
            "align_self": null,
            "border": null,
            "bottom": null,
            "display": null,
            "flex": null,
            "flex_flow": null,
            "grid_area": null,
            "grid_auto_columns": null,
            "grid_auto_flow": null,
            "grid_auto_rows": null,
            "grid_column": null,
            "grid_gap": null,
            "grid_row": null,
            "grid_template_areas": null,
            "grid_template_columns": null,
            "grid_template_rows": null,
            "height": null,
            "justify_content": null,
            "justify_items": null,
            "left": null,
            "margin": null,
            "max_height": null,
            "max_width": null,
            "min_height": null,
            "min_width": null,
            "object_fit": null,
            "object_position": null,
            "order": null,
            "overflow": null,
            "overflow_x": null,
            "overflow_y": null,
            "padding": null,
            "right": null,
            "top": null,
            "visibility": null,
            "width": null
          }
        },
        "5111a5900ce54412ab65ef912c1de019": {
          "model_module": "@jupyter-widgets/controls",
          "model_name": "DescriptionStyleModel",
          "model_module_version": "1.5.0",
          "state": {
            "_model_module": "@jupyter-widgets/controls",
            "_model_module_version": "1.5.0",
            "_model_name": "DescriptionStyleModel",
            "_view_count": null,
            "_view_module": "@jupyter-widgets/base",
            "_view_module_version": "1.2.0",
            "_view_name": "StyleView",
            "description_width": ""
          }
        },
        "f599ca0bd4724f4ca652d419f1c213ec": {
          "model_module": "@jupyter-widgets/controls",
          "model_name": "HBoxModel",
          "model_module_version": "1.5.0",
          "state": {
            "_dom_classes": [],
            "_model_module": "@jupyter-widgets/controls",
            "_model_module_version": "1.5.0",
            "_model_name": "HBoxModel",
            "_view_count": null,
            "_view_module": "@jupyter-widgets/controls",
            "_view_module_version": "1.5.0",
            "_view_name": "HBoxView",
            "box_style": "",
            "children": [
              "IPY_MODEL_92895d0d0d5045b8b4b1d0b5a688b875",
              "IPY_MODEL_7e992a39b63540318936854780479988",
              "IPY_MODEL_80f57119f7b04bada005ba97eb4c0dd9"
            ],
            "layout": "IPY_MODEL_4f856f73731241668f39d2020e894a2a"
          }
        },
        "92895d0d0d5045b8b4b1d0b5a688b875": {
          "model_module": "@jupyter-widgets/controls",
          "model_name": "HTMLModel",
          "model_module_version": "1.5.0",
          "state": {
            "_dom_classes": [],
            "_model_module": "@jupyter-widgets/controls",
            "_model_module_version": "1.5.0",
            "_model_name": "HTMLModel",
            "_view_count": null,
            "_view_module": "@jupyter-widgets/controls",
            "_view_module_version": "1.5.0",
            "_view_name": "HTMLView",
            "description": "",
            "description_tooltip": null,
            "layout": "IPY_MODEL_5f59221446394127a10a894aeba7de51",
            "placeholder": "​",
            "style": "IPY_MODEL_6429817d90f04627a7e5fba01621c009",
            "value": "100%"
          }
        },
        "7e992a39b63540318936854780479988": {
          "model_module": "@jupyter-widgets/controls",
          "model_name": "FloatProgressModel",
          "model_module_version": "1.5.0",
          "state": {
            "_dom_classes": [],
            "_model_module": "@jupyter-widgets/controls",
            "_model_module_version": "1.5.0",
            "_model_name": "FloatProgressModel",
            "_view_count": null,
            "_view_module": "@jupyter-widgets/controls",
            "_view_module_version": "1.5.0",
            "_view_name": "ProgressView",
            "bar_style": "success",
            "description": "",
            "description_tooltip": null,
            "layout": "IPY_MODEL_9eb8f853338542bf9bdbf4aa84691620",
            "max": 1648877,
            "min": 0,
            "orientation": "horizontal",
            "style": "IPY_MODEL_2e5dfae07ecb493d852a929a0b5060c4",
            "value": 1648877
          }
        },
        "80f57119f7b04bada005ba97eb4c0dd9": {
          "model_module": "@jupyter-widgets/controls",
          "model_name": "HTMLModel",
          "model_module_version": "1.5.0",
          "state": {
            "_dom_classes": [],
            "_model_module": "@jupyter-widgets/controls",
            "_model_module_version": "1.5.0",
            "_model_name": "HTMLModel",
            "_view_count": null,
            "_view_module": "@jupyter-widgets/controls",
            "_view_module_version": "1.5.0",
            "_view_name": "HTMLView",
            "description": "",
            "description_tooltip": null,
            "layout": "IPY_MODEL_e6695797b14b477bbd9c40ac99201c18",
            "placeholder": "​",
            "style": "IPY_MODEL_e8ad14a9e387407f9d80614f5e46a66b",
            "value": " 1648877/1648877 [00:00&lt;00:00, 2437252.16it/s]"
          }
        },
        "4f856f73731241668f39d2020e894a2a": {
          "model_module": "@jupyter-widgets/base",
          "model_name": "LayoutModel",
          "model_module_version": "1.2.0",
          "state": {
            "_model_module": "@jupyter-widgets/base",
            "_model_module_version": "1.2.0",
            "_model_name": "LayoutModel",
            "_view_count": null,
            "_view_module": "@jupyter-widgets/base",
            "_view_module_version": "1.2.0",
            "_view_name": "LayoutView",
            "align_content": null,
            "align_items": null,
            "align_self": null,
            "border": null,
            "bottom": null,
            "display": null,
            "flex": null,
            "flex_flow": null,
            "grid_area": null,
            "grid_auto_columns": null,
            "grid_auto_flow": null,
            "grid_auto_rows": null,
            "grid_column": null,
            "grid_gap": null,
            "grid_row": null,
            "grid_template_areas": null,
            "grid_template_columns": null,
            "grid_template_rows": null,
            "height": null,
            "justify_content": null,
            "justify_items": null,
            "left": null,
            "margin": null,
            "max_height": null,
            "max_width": null,
            "min_height": null,
            "min_width": null,
            "object_fit": null,
            "object_position": null,
            "order": null,
            "overflow": null,
            "overflow_x": null,
            "overflow_y": null,
            "padding": null,
            "right": null,
            "top": null,
            "visibility": null,
            "width": null
          }
        },
        "5f59221446394127a10a894aeba7de51": {
          "model_module": "@jupyter-widgets/base",
          "model_name": "LayoutModel",
          "model_module_version": "1.2.0",
          "state": {
            "_model_module": "@jupyter-widgets/base",
            "_model_module_version": "1.2.0",
            "_model_name": "LayoutModel",
            "_view_count": null,
            "_view_module": "@jupyter-widgets/base",
            "_view_module_version": "1.2.0",
            "_view_name": "LayoutView",
            "align_content": null,
            "align_items": null,
            "align_self": null,
            "border": null,
            "bottom": null,
            "display": null,
            "flex": null,
            "flex_flow": null,
            "grid_area": null,
            "grid_auto_columns": null,
            "grid_auto_flow": null,
            "grid_auto_rows": null,
            "grid_column": null,
            "grid_gap": null,
            "grid_row": null,
            "grid_template_areas": null,
            "grid_template_columns": null,
            "grid_template_rows": null,
            "height": null,
            "justify_content": null,
            "justify_items": null,
            "left": null,
            "margin": null,
            "max_height": null,
            "max_width": null,
            "min_height": null,
            "min_width": null,
            "object_fit": null,
            "object_position": null,
            "order": null,
            "overflow": null,
            "overflow_x": null,
            "overflow_y": null,
            "padding": null,
            "right": null,
            "top": null,
            "visibility": null,
            "width": null
          }
        },
        "6429817d90f04627a7e5fba01621c009": {
          "model_module": "@jupyter-widgets/controls",
          "model_name": "DescriptionStyleModel",
          "model_module_version": "1.5.0",
          "state": {
            "_model_module": "@jupyter-widgets/controls",
            "_model_module_version": "1.5.0",
            "_model_name": "DescriptionStyleModel",
            "_view_count": null,
            "_view_module": "@jupyter-widgets/base",
            "_view_module_version": "1.2.0",
            "_view_name": "StyleView",
            "description_width": ""
          }
        },
        "9eb8f853338542bf9bdbf4aa84691620": {
          "model_module": "@jupyter-widgets/base",
          "model_name": "LayoutModel",
          "model_module_version": "1.2.0",
          "state": {
            "_model_module": "@jupyter-widgets/base",
            "_model_module_version": "1.2.0",
            "_model_name": "LayoutModel",
            "_view_count": null,
            "_view_module": "@jupyter-widgets/base",
            "_view_module_version": "1.2.0",
            "_view_name": "LayoutView",
            "align_content": null,
            "align_items": null,
            "align_self": null,
            "border": null,
            "bottom": null,
            "display": null,
            "flex": null,
            "flex_flow": null,
            "grid_area": null,
            "grid_auto_columns": null,
            "grid_auto_flow": null,
            "grid_auto_rows": null,
            "grid_column": null,
            "grid_gap": null,
            "grid_row": null,
            "grid_template_areas": null,
            "grid_template_columns": null,
            "grid_template_rows": null,
            "height": null,
            "justify_content": null,
            "justify_items": null,
            "left": null,
            "margin": null,
            "max_height": null,
            "max_width": null,
            "min_height": null,
            "min_width": null,
            "object_fit": null,
            "object_position": null,
            "order": null,
            "overflow": null,
            "overflow_x": null,
            "overflow_y": null,
            "padding": null,
            "right": null,
            "top": null,
            "visibility": null,
            "width": null
          }
        },
        "2e5dfae07ecb493d852a929a0b5060c4": {
          "model_module": "@jupyter-widgets/controls",
          "model_name": "ProgressStyleModel",
          "model_module_version": "1.5.0",
          "state": {
            "_model_module": "@jupyter-widgets/controls",
            "_model_module_version": "1.5.0",
            "_model_name": "ProgressStyleModel",
            "_view_count": null,
            "_view_module": "@jupyter-widgets/base",
            "_view_module_version": "1.2.0",
            "_view_name": "StyleView",
            "bar_color": null,
            "description_width": ""
          }
        },
        "e6695797b14b477bbd9c40ac99201c18": {
          "model_module": "@jupyter-widgets/base",
          "model_name": "LayoutModel",
          "model_module_version": "1.2.0",
          "state": {
            "_model_module": "@jupyter-widgets/base",
            "_model_module_version": "1.2.0",
            "_model_name": "LayoutModel",
            "_view_count": null,
            "_view_module": "@jupyter-widgets/base",
            "_view_module_version": "1.2.0",
            "_view_name": "LayoutView",
            "align_content": null,
            "align_items": null,
            "align_self": null,
            "border": null,
            "bottom": null,
            "display": null,
            "flex": null,
            "flex_flow": null,
            "grid_area": null,
            "grid_auto_columns": null,
            "grid_auto_flow": null,
            "grid_auto_rows": null,
            "grid_column": null,
            "grid_gap": null,
            "grid_row": null,
            "grid_template_areas": null,
            "grid_template_columns": null,
            "grid_template_rows": null,
            "height": null,
            "justify_content": null,
            "justify_items": null,
            "left": null,
            "margin": null,
            "max_height": null,
            "max_width": null,
            "min_height": null,
            "min_width": null,
            "object_fit": null,
            "object_position": null,
            "order": null,
            "overflow": null,
            "overflow_x": null,
            "overflow_y": null,
            "padding": null,
            "right": null,
            "top": null,
            "visibility": null,
            "width": null
          }
        },
        "e8ad14a9e387407f9d80614f5e46a66b": {
          "model_module": "@jupyter-widgets/controls",
          "model_name": "DescriptionStyleModel",
          "model_module_version": "1.5.0",
          "state": {
            "_model_module": "@jupyter-widgets/controls",
            "_model_module_version": "1.5.0",
            "_model_name": "DescriptionStyleModel",
            "_view_count": null,
            "_view_module": "@jupyter-widgets/base",
            "_view_module_version": "1.2.0",
            "_view_name": "StyleView",
            "description_width": ""
          }
        },
        "9c545a9106a0471098d938dc818afc7f": {
          "model_module": "@jupyter-widgets/controls",
          "model_name": "HBoxModel",
          "model_module_version": "1.5.0",
          "state": {
            "_dom_classes": [],
            "_model_module": "@jupyter-widgets/controls",
            "_model_module_version": "1.5.0",
            "_model_name": "HBoxModel",
            "_view_count": null,
            "_view_module": "@jupyter-widgets/controls",
            "_view_module_version": "1.5.0",
            "_view_name": "HBoxView",
            "box_style": "",
            "children": [
              "IPY_MODEL_3150efebc3e3443a8e8cc6c860d2db36",
              "IPY_MODEL_f401470ce5914eeb80a05f6c0fcd9d39",
              "IPY_MODEL_0d2172f81c294a1f983193018828dca3"
            ],
            "layout": "IPY_MODEL_ab48750803924b77a223ff2b51b00463"
          }
        },
        "3150efebc3e3443a8e8cc6c860d2db36": {
          "model_module": "@jupyter-widgets/controls",
          "model_name": "HTMLModel",
          "model_module_version": "1.5.0",
          "state": {
            "_dom_classes": [],
            "_model_module": "@jupyter-widgets/controls",
            "_model_module_version": "1.5.0",
            "_model_name": "HTMLModel",
            "_view_count": null,
            "_view_module": "@jupyter-widgets/controls",
            "_view_module_version": "1.5.0",
            "_view_name": "HTMLView",
            "description": "",
            "description_tooltip": null,
            "layout": "IPY_MODEL_72e336d3b4174a3b97a5a2d7e69af47e",
            "placeholder": "​",
            "style": "IPY_MODEL_0fb2cbea4c894f8cb0a6e173ac511b31",
            "value": "100%"
          }
        },
        "f401470ce5914eeb80a05f6c0fcd9d39": {
          "model_module": "@jupyter-widgets/controls",
          "model_name": "FloatProgressModel",
          "model_module_version": "1.5.0",
          "state": {
            "_dom_classes": [],
            "_model_module": "@jupyter-widgets/controls",
            "_model_module_version": "1.5.0",
            "_model_name": "FloatProgressModel",
            "_view_count": null,
            "_view_module": "@jupyter-widgets/controls",
            "_view_module_version": "1.5.0",
            "_view_name": "ProgressView",
            "bar_style": "success",
            "description": "",
            "description_tooltip": null,
            "layout": "IPY_MODEL_53a52d8fee104ce8aeb60025184bb03a",
            "max": 4542,
            "min": 0,
            "orientation": "horizontal",
            "style": "IPY_MODEL_928c04e577c44bf281a84b3ddb05b9c2",
            "value": 4542
          }
        },
        "0d2172f81c294a1f983193018828dca3": {
          "model_module": "@jupyter-widgets/controls",
          "model_name": "HTMLModel",
          "model_module_version": "1.5.0",
          "state": {
            "_dom_classes": [],
            "_model_module": "@jupyter-widgets/controls",
            "_model_module_version": "1.5.0",
            "_model_name": "HTMLModel",
            "_view_count": null,
            "_view_module": "@jupyter-widgets/controls",
            "_view_module_version": "1.5.0",
            "_view_name": "HTMLView",
            "description": "",
            "description_tooltip": null,
            "layout": "IPY_MODEL_136aa524ecf8448487761aaba5727547",
            "placeholder": "​",
            "style": "IPY_MODEL_008787f80be64e5da05e4dcb250afb6e",
            "value": " 4542/4542 [00:00&lt;00:00, 131486.33it/s]"
          }
        },
        "ab48750803924b77a223ff2b51b00463": {
          "model_module": "@jupyter-widgets/base",
          "model_name": "LayoutModel",
          "model_module_version": "1.2.0",
          "state": {
            "_model_module": "@jupyter-widgets/base",
            "_model_module_version": "1.2.0",
            "_model_name": "LayoutModel",
            "_view_count": null,
            "_view_module": "@jupyter-widgets/base",
            "_view_module_version": "1.2.0",
            "_view_name": "LayoutView",
            "align_content": null,
            "align_items": null,
            "align_self": null,
            "border": null,
            "bottom": null,
            "display": null,
            "flex": null,
            "flex_flow": null,
            "grid_area": null,
            "grid_auto_columns": null,
            "grid_auto_flow": null,
            "grid_auto_rows": null,
            "grid_column": null,
            "grid_gap": null,
            "grid_row": null,
            "grid_template_areas": null,
            "grid_template_columns": null,
            "grid_template_rows": null,
            "height": null,
            "justify_content": null,
            "justify_items": null,
            "left": null,
            "margin": null,
            "max_height": null,
            "max_width": null,
            "min_height": null,
            "min_width": null,
            "object_fit": null,
            "object_position": null,
            "order": null,
            "overflow": null,
            "overflow_x": null,
            "overflow_y": null,
            "padding": null,
            "right": null,
            "top": null,
            "visibility": null,
            "width": null
          }
        },
        "72e336d3b4174a3b97a5a2d7e69af47e": {
          "model_module": "@jupyter-widgets/base",
          "model_name": "LayoutModel",
          "model_module_version": "1.2.0",
          "state": {
            "_model_module": "@jupyter-widgets/base",
            "_model_module_version": "1.2.0",
            "_model_name": "LayoutModel",
            "_view_count": null,
            "_view_module": "@jupyter-widgets/base",
            "_view_module_version": "1.2.0",
            "_view_name": "LayoutView",
            "align_content": null,
            "align_items": null,
            "align_self": null,
            "border": null,
            "bottom": null,
            "display": null,
            "flex": null,
            "flex_flow": null,
            "grid_area": null,
            "grid_auto_columns": null,
            "grid_auto_flow": null,
            "grid_auto_rows": null,
            "grid_column": null,
            "grid_gap": null,
            "grid_row": null,
            "grid_template_areas": null,
            "grid_template_columns": null,
            "grid_template_rows": null,
            "height": null,
            "justify_content": null,
            "justify_items": null,
            "left": null,
            "margin": null,
            "max_height": null,
            "max_width": null,
            "min_height": null,
            "min_width": null,
            "object_fit": null,
            "object_position": null,
            "order": null,
            "overflow": null,
            "overflow_x": null,
            "overflow_y": null,
            "padding": null,
            "right": null,
            "top": null,
            "visibility": null,
            "width": null
          }
        },
        "0fb2cbea4c894f8cb0a6e173ac511b31": {
          "model_module": "@jupyter-widgets/controls",
          "model_name": "DescriptionStyleModel",
          "model_module_version": "1.5.0",
          "state": {
            "_model_module": "@jupyter-widgets/controls",
            "_model_module_version": "1.5.0",
            "_model_name": "DescriptionStyleModel",
            "_view_count": null,
            "_view_module": "@jupyter-widgets/base",
            "_view_module_version": "1.2.0",
            "_view_name": "StyleView",
            "description_width": ""
          }
        },
        "53a52d8fee104ce8aeb60025184bb03a": {
          "model_module": "@jupyter-widgets/base",
          "model_name": "LayoutModel",
          "model_module_version": "1.2.0",
          "state": {
            "_model_module": "@jupyter-widgets/base",
            "_model_module_version": "1.2.0",
            "_model_name": "LayoutModel",
            "_view_count": null,
            "_view_module": "@jupyter-widgets/base",
            "_view_module_version": "1.2.0",
            "_view_name": "LayoutView",
            "align_content": null,
            "align_items": null,
            "align_self": null,
            "border": null,
            "bottom": null,
            "display": null,
            "flex": null,
            "flex_flow": null,
            "grid_area": null,
            "grid_auto_columns": null,
            "grid_auto_flow": null,
            "grid_auto_rows": null,
            "grid_column": null,
            "grid_gap": null,
            "grid_row": null,
            "grid_template_areas": null,
            "grid_template_columns": null,
            "grid_template_rows": null,
            "height": null,
            "justify_content": null,
            "justify_items": null,
            "left": null,
            "margin": null,
            "max_height": null,
            "max_width": null,
            "min_height": null,
            "min_width": null,
            "object_fit": null,
            "object_position": null,
            "order": null,
            "overflow": null,
            "overflow_x": null,
            "overflow_y": null,
            "padding": null,
            "right": null,
            "top": null,
            "visibility": null,
            "width": null
          }
        },
        "928c04e577c44bf281a84b3ddb05b9c2": {
          "model_module": "@jupyter-widgets/controls",
          "model_name": "ProgressStyleModel",
          "model_module_version": "1.5.0",
          "state": {
            "_model_module": "@jupyter-widgets/controls",
            "_model_module_version": "1.5.0",
            "_model_name": "ProgressStyleModel",
            "_view_count": null,
            "_view_module": "@jupyter-widgets/base",
            "_view_module_version": "1.2.0",
            "_view_name": "StyleView",
            "bar_color": null,
            "description_width": ""
          }
        },
        "136aa524ecf8448487761aaba5727547": {
          "model_module": "@jupyter-widgets/base",
          "model_name": "LayoutModel",
          "model_module_version": "1.2.0",
          "state": {
            "_model_module": "@jupyter-widgets/base",
            "_model_module_version": "1.2.0",
            "_model_name": "LayoutModel",
            "_view_count": null,
            "_view_module": "@jupyter-widgets/base",
            "_view_module_version": "1.2.0",
            "_view_name": "LayoutView",
            "align_content": null,
            "align_items": null,
            "align_self": null,
            "border": null,
            "bottom": null,
            "display": null,
            "flex": null,
            "flex_flow": null,
            "grid_area": null,
            "grid_auto_columns": null,
            "grid_auto_flow": null,
            "grid_auto_rows": null,
            "grid_column": null,
            "grid_gap": null,
            "grid_row": null,
            "grid_template_areas": null,
            "grid_template_columns": null,
            "grid_template_rows": null,
            "height": null,
            "justify_content": null,
            "justify_items": null,
            "left": null,
            "margin": null,
            "max_height": null,
            "max_width": null,
            "min_height": null,
            "min_width": null,
            "object_fit": null,
            "object_position": null,
            "order": null,
            "overflow": null,
            "overflow_x": null,
            "overflow_y": null,
            "padding": null,
            "right": null,
            "top": null,
            "visibility": null,
            "width": null
          }
        },
        "008787f80be64e5da05e4dcb250afb6e": {
          "model_module": "@jupyter-widgets/controls",
          "model_name": "DescriptionStyleModel",
          "model_module_version": "1.5.0",
          "state": {
            "_model_module": "@jupyter-widgets/controls",
            "_model_module_version": "1.5.0",
            "_model_name": "DescriptionStyleModel",
            "_view_count": null,
            "_view_module": "@jupyter-widgets/base",
            "_view_module_version": "1.2.0",
            "_view_name": "StyleView",
            "description_width": ""
          }
        }
      }
    }
  },
  "cells": [
    {
      "cell_type": "code",
      "source": [
        "%%bash\n",
        "\n",
        "pip install torchinfo torchmetrics"
      ],
      "metadata": {
        "colab": {
          "base_uri": "https://localhost:8080/"
        },
        "id": "4Vhn3MFcxMYU",
        "outputId": "d0f2b4bf-5553-4702-d695-20e8d01249b0"
      },
      "execution_count": 1,
      "outputs": [
        {
          "output_type": "stream",
          "name": "stdout",
          "text": [
            "Looking in indexes: https://pypi.org/simple, https://us-python.pkg.dev/colab-wheels/public/simple/\n",
            "Collecting torchinfo\n",
            "  Downloading torchinfo-1.7.1-py3-none-any.whl (22 kB)\n",
            "Collecting torchmetrics\n",
            "  Downloading torchmetrics-0.10.0-py3-none-any.whl (529 kB)\n",
            "Requirement already satisfied: packaging in /usr/local/lib/python3.7/dist-packages (from torchmetrics) (21.3)\n",
            "Requirement already satisfied: typing-extensions in /usr/local/lib/python3.7/dist-packages (from torchmetrics) (4.1.1)\n",
            "Requirement already satisfied: numpy>=1.17.2 in /usr/local/lib/python3.7/dist-packages (from torchmetrics) (1.21.6)\n",
            "Requirement already satisfied: torch>=1.3.1 in /usr/local/lib/python3.7/dist-packages (from torchmetrics) (1.12.1+cu113)\n",
            "Requirement already satisfied: pyparsing!=3.0.5,>=2.0.2 in /usr/local/lib/python3.7/dist-packages (from packaging->torchmetrics) (3.0.9)\n",
            "Installing collected packages: torchmetrics, torchinfo\n",
            "Successfully installed torchinfo-1.7.1 torchmetrics-0.10.0\n"
          ]
        }
      ]
    },
    {
      "cell_type": "code",
      "execution_count": 2,
      "metadata": {
        "id": "AjjeyvLwwXww"
      },
      "outputs": [],
      "source": [
        "import numpy as np\n",
        "import pandas as pd\n",
        "from pandas.api import types\n",
        "from sklearn import compose, impute, model_selection, pipeline, preprocessing\n",
        "import torch\n",
        "from torch import nn, optim, utils\n",
        "import torchinfo\n",
        "import torchmetrics\n",
        "from torchvision import datasets, transforms"
      ]
    },
    {
      "cell_type": "markdown",
      "source": [
        "## Storing and updating model parameters using PyTorch Tensors"
      ],
      "metadata": {
        "id": "icxzaDYLoAGz"
      }
    },
    {
      "cell_type": "code",
      "source": [
        "torch.tensor?"
      ],
      "metadata": {
        "id": "cmR7A-N1oWoo"
      },
      "execution_count": null,
      "outputs": []
    },
    {
      "cell_type": "code",
      "source": [
        "t0 = torch.tensor([1.2, 3.2, 0.5, 6])\n",
        "t0"
      ],
      "metadata": {
        "colab": {
          "base_uri": "https://localhost:8080/"
        },
        "id": "p26zY3nToen8",
        "outputId": "aaa47fa8-6329-4660-fea2-c6be00baf350"
      },
      "execution_count": 11,
      "outputs": [
        {
          "output_type": "execute_result",
          "data": {
            "text/plain": [
              "tensor([1.2000, 3.2000, 0.5000, 6.0000])"
            ]
          },
          "metadata": {},
          "execution_count": 11
        }
      ]
    },
    {
      "cell_type": "code",
      "source": [
        "t0.requires_grad"
      ],
      "metadata": {
        "colab": {
          "base_uri": "https://localhost:8080/"
        },
        "id": "K1tcbrDfo1Z8",
        "outputId": "0c8447d1-6bc1-49c4-fccb-88814a46e860"
      },
      "execution_count": 13,
      "outputs": [
        {
          "output_type": "execute_result",
          "data": {
            "text/plain": [
              "False"
            ]
          },
          "metadata": {},
          "execution_count": 13
        }
      ]
    },
    {
      "cell_type": "code",
      "source": [
        "t1 = torch.tensor([1.2, 3.2, 0.5, 6], requires_grad=True)\n",
        "t1"
      ],
      "metadata": {
        "colab": {
          "base_uri": "https://localhost:8080/"
        },
        "id": "crg-H9aRn-_T",
        "outputId": "a66d64d4-d4cd-4a1b-a292-ed068588f11f"
      },
      "execution_count": 14,
      "outputs": [
        {
          "output_type": "execute_result",
          "data": {
            "text/plain": [
              "tensor([1.2000, 3.2000, 0.5000, 6.0000], requires_grad=True)"
            ]
          },
          "metadata": {},
          "execution_count": 14
        }
      ]
    },
    {
      "cell_type": "code",
      "source": [
        "_ = t0.requires_grad_()"
      ],
      "metadata": {
        "id": "afTQwT3FoTNV"
      },
      "execution_count": 17,
      "outputs": []
    },
    {
      "cell_type": "code",
      "source": [
        "t0"
      ],
      "metadata": {
        "colab": {
          "base_uri": "https://localhost:8080/"
        },
        "id": "C1BjLrAdoTbQ",
        "outputId": "7e70a217-fb5d-48c0-b7d7-2e47339fed00"
      },
      "execution_count": 18,
      "outputs": [
        {
          "output_type": "execute_result",
          "data": {
            "text/plain": [
              "tensor([1.2000, 3.2000, 0.5000, 6.0000], requires_grad=True)"
            ]
          },
          "metadata": {},
          "execution_count": 18
        }
      ]
    },
    {
      "cell_type": "code",
      "source": [
        "nn.init.xavier_normal_?"
      ],
      "metadata": {
        "id": "GR1rqM3gqsbs"
      },
      "execution_count": null,
      "outputs": []
    },
    {
      "cell_type": "code",
      "source": [
        "prng = torch.manual_seed(42)\n",
        "\n",
        "weights = torch.empty(10, 5)\n",
        "print(\"Default tensor values...\")\n",
        "print(weights)\n",
        "\n",
        "print(\"Tensor values after initialization...\")\n",
        "nn.init.xavier_normal_(weights)\n",
        "print(weights)"
      ],
      "metadata": {
        "colab": {
          "base_uri": "https://localhost:8080/"
        },
        "id": "oQc-JbvTpeAn",
        "outputId": "b8598131-f642-40d4-ab76-bf5c0175c7ce"
      },
      "execution_count": 21,
      "outputs": [
        {
          "output_type": "stream",
          "name": "stdout",
          "text": [
            "Default tensor values...\n",
            "tensor([[2.9408e-35, 0.0000e+00, 2.9287e-43, 0.0000e+00, 0.0000e+00],\n",
            "        [0.0000e+00, 0.0000e+00, 0.0000e+00, 0.0000e+00, 0.0000e+00],\n",
            "        [1.8788e+31, 1.7220e+22, 2.1715e-18, 3.4003e-06, 1.0723e-08],\n",
            "        [4.1577e+21, 1.3601e-05, 4.4203e-05, 2.1353e+20, 2.6407e-06],\n",
            "        [2.6581e-06, 6.4891e-10, 1.4580e-19, 1.1495e+24, 3.0881e+29],\n",
            "        [1.5766e-19, 7.3313e+22, 7.2151e+22, 2.8404e+29, 2.3089e-12],\n",
            "        [1.9421e+31, 2.7491e+20, 6.1949e-04, 1.9421e+31, 2.7491e+20],\n",
            "        [2.3078e-12, 7.1760e+22, 7.2250e+28, 1.5766e-19, 1.3002e+22],\n",
            "        [4.3681e-05, 2.6307e+20, 1.3089e+22, 2.1952e-04, 1.7186e-04],\n",
            "        [2.6540e-09, 1.3177e-08, 2.3049e-12, 2.6302e+20, 6.1949e-04]])\n",
            "Tensor values after initialization...\n",
            "tensor([[ 0.7036,  0.5431,  0.3289, -0.7688,  0.2477],\n",
            "        [-0.4508, -0.0157, -0.5859, -0.2746,  0.6020],\n",
            "        [-0.1433, -0.5125, -0.2658, -0.2043, -0.2807],\n",
            "        [ 0.2784,  0.5997, -0.0583, -0.1816,  0.1605],\n",
            "        [-0.2768,  0.3937,  0.2924,  0.6137,  0.4671],\n",
            "        [ 0.4734,  0.2229,  0.4874, -0.0846,  0.0152],\n",
            "        [-0.0919,  0.3140, -0.5056, -0.3181,  0.0285],\n",
            "        [ 0.1920, -0.1782,  0.4350, -0.2972, -0.2687],\n",
            "        [-0.3057, -0.3368, -0.0232,  0.2467, -0.0357],\n",
            "        [ 0.6736, -0.4325,  0.5052, -0.4391,  0.2585]])\n"
          ]
        }
      ]
    },
    {
      "cell_type": "code",
      "source": [
        "class MultiLayerPerceptron(nn.Module):\n",
        "    \n",
        "    def __init__(\n",
        "        self,\n",
        "        input_size,\n",
        "        hidden_sizes,\n",
        "        hidden_activation,\n",
        "        output_size,\n",
        "        output_activation\n",
        "    ):\n",
        "        super().__init__()\n",
        "        \n",
        "        modules = []\n",
        "        for hidden_size in hidden_sizes:\n",
        "            hidden_block = self._make_hidden_block(\n",
        "                input_size,\n",
        "                hidden_size,\n",
        "                hidden_activation\n",
        "            )\n",
        "            modules.extend(hidden_block)\n",
        "            input_size = hidden_size\n",
        "        output_block = self._make_hidden_block(\n",
        "            hidden_size,\n",
        "            output_size,\n",
        "            output_activation\n",
        "        )\n",
        "        modules.extend(output_block)\n",
        "        \n",
        "        self.module_list = nn.ModuleList(modules)\n",
        "\n",
        "    @staticmethod\n",
        "    def _make_hidden_block(in_features, out_features, activation=None):\n",
        "        module = nn.Linear(in_features, out_features)\n",
        "        nn.init.xavier_normal_(module.weight)\n",
        "        if activation is not None:\n",
        "            block = [module, activation]\n",
        "        else:\n",
        "            block = [module]\n",
        "        return block\n",
        "\n",
        "    def forward(self, X):\n",
        "      for f in self.module_list:\n",
        "          X = f(X)\n",
        "      return X\n"
      ],
      "metadata": {
        "id": "zy-98ZQGpeLs"
      },
      "execution_count": 3,
      "outputs": []
    },
    {
      "cell_type": "code",
      "source": [
        "hyperparameters = {\n",
        "    \"input_size\": 10,\n",
        "    \"hidden_sizes\": [8, 8, 8],\n",
        "    \"output_size\": 1,\n",
        "    \"hidden_activation\": nn.ReLU(),\n",
        "    \"output_activation\": None,\n",
        "}\n",
        "model_fn = MultiLayerPerceptron(**hyperparameters)"
      ],
      "metadata": {
        "id": "29FDcZ1Uuhx2"
      },
      "execution_count": 4,
      "outputs": []
    },
    {
      "cell_type": "markdown",
      "source": [
        "## Computing gradients via automatic differentiation"
      ],
      "metadata": {
        "id": "wNlHpfvqxO8t"
      }
    },
    {
      "cell_type": "code",
      "source": [],
      "metadata": {
        "id": "RZ6HX7myxT9q"
      },
      "execution_count": null,
      "outputs": []
    },
    {
      "cell_type": "markdown",
      "source": [
        "### Computing the gradient of the loss function with respect to model parameters"
      ],
      "metadata": {
        "id": "2iZa8gXoxXUM"
      }
    },
    {
      "cell_type": "code",
      "source": [
        "prng = torch.manual_seed(42)\n",
        "m = 100\n",
        "X = torch.normal(mean=1.0, std=1.0, size=(m, 1), generator=prng)\n",
        "error = torch.normal(mean=0.0, std=5e-1, size=(m, 1), generator=prng)\n",
        "beta = torch.tensor([[3.0]])\n",
        "y = X @ beta + error"
      ],
      "metadata": {
        "id": "Q0BMn931yT8u"
      },
      "execution_count": 5,
      "outputs": []
    },
    {
      "cell_type": "code",
      "source": [
        "weight = torch.tensor([[2.0]], requires_grad=True)\n",
        "bias = torch.zeros((1, 1), requires_grad=True)\n",
        "z = X @ weight + bias"
      ],
      "metadata": {
        "id": "tn3cfNXhxcev"
      },
      "execution_count": 6,
      "outputs": []
    },
    {
      "cell_type": "code",
      "source": [
        "rmse_loss = torch.sqrt(torch.mean((y - z)**2))"
      ],
      "metadata": {
        "id": "xKrn4c77yiSy"
      },
      "execution_count": 7,
      "outputs": []
    },
    {
      "cell_type": "code",
      "source": [
        "rmse_loss.backward()"
      ],
      "metadata": {
        "id": "D5Nx9jBLyjxl"
      },
      "execution_count": 8,
      "outputs": []
    },
    {
      "cell_type": "code",
      "source": [
        "weight.grad"
      ],
      "metadata": {
        "colab": {
          "base_uri": "https://localhost:8080/"
        },
        "id": "g5ix0TV4zIb4",
        "outputId": "71a6078f-273c-4185-9c4f-22a7fd5354fe"
      },
      "execution_count": 9,
      "outputs": [
        {
          "output_type": "execute_result",
          "data": {
            "text/plain": [
              "tensor([[-1.3826]])"
            ]
          },
          "metadata": {},
          "execution_count": 9
        }
      ]
    },
    {
      "cell_type": "code",
      "source": [
        "torch.mean((y - z)**2)**(-0.5) * (-torch.mean((y - z) * X))"
      ],
      "metadata": {
        "colab": {
          "base_uri": "https://localhost:8080/"
        },
        "id": "3xD1O-G5zx0n",
        "outputId": "4efc1427-739d-4663-9593-2278074f090a"
      },
      "execution_count": 10,
      "outputs": [
        {
          "output_type": "execute_result",
          "data": {
            "text/plain": [
              "tensor(-1.3826, grad_fn=<MulBackward0>)"
            ]
          },
          "metadata": {},
          "execution_count": 10
        }
      ]
    },
    {
      "cell_type": "code",
      "source": [
        "bias.grad"
      ],
      "metadata": {
        "colab": {
          "base_uri": "https://localhost:8080/"
        },
        "id": "b9bygAm-zKau",
        "outputId": "385baf45-96df-4e6f-92c6-a623c934ff48"
      },
      "execution_count": 11,
      "outputs": [
        {
          "output_type": "execute_result",
          "data": {
            "text/plain": [
              "tensor([[-0.7059]])"
            ]
          },
          "metadata": {},
          "execution_count": 11
        }
      ]
    },
    {
      "cell_type": "code",
      "source": [
        "torch.mean((y - z)**2)**(-0.5) * (-torch.mean(y - z))"
      ],
      "metadata": {
        "colab": {
          "base_uri": "https://localhost:8080/"
        },
        "id": "5R4Ad83YzL5M",
        "outputId": "2729d72c-5cdd-4f39-e977-150bd235d115"
      },
      "execution_count": 12,
      "outputs": [
        {
          "output_type": "execute_result",
          "data": {
            "text/plain": [
              "tensor(-0.7059, grad_fn=<MulBackward0>)"
            ]
          },
          "metadata": {},
          "execution_count": 12
        }
      ]
    },
    {
      "cell_type": "code",
      "source": [],
      "metadata": {
        "id": "_tg7YqzU0EGj"
      },
      "execution_count": null,
      "outputs": []
    },
    {
      "cell_type": "markdown",
      "source": [
        "## Simplifing implementations of common neural networks"
      ],
      "metadata": {
        "id": "OmQEZtS82dT8"
      }
    },
    {
      "cell_type": "code",
      "source": [],
      "metadata": {
        "id": "JRrWKL0S2kLq"
      },
      "execution_count": null,
      "outputs": []
    },
    {
      "cell_type": "markdown",
      "source": [
        "### Implementing models using nn.Sequential"
      ],
      "metadata": {
        "id": "tRVuTxo94qHi"
      }
    },
    {
      "cell_type": "code",
      "source": [
        "nn.Sequential?"
      ],
      "metadata": {
        "id": "VmM4M1Ls5dhV"
      },
      "execution_count": null,
      "outputs": []
    },
    {
      "cell_type": "code",
      "source": [
        "model_fn = nn.Sequential(\n",
        "    nn.Linear(m, 10),\n",
        "    nn.ReLU(),\n",
        "    nn.Linear(10, 10),\n",
        "    nn.ReLU(),\n",
        "    nn.Linear(10, 1)\n",
        ")"
      ],
      "metadata": {
        "id": "ngG-VT_04slx"
      },
      "execution_count": 13,
      "outputs": []
    },
    {
      "cell_type": "code",
      "source": [
        "model_fn"
      ],
      "metadata": {
        "colab": {
          "base_uri": "https://localhost:8080/"
        },
        "id": "BoE1YA0p5GaC",
        "outputId": "1a5f147e-ca92-42f8-b4f5-9bae0bc52ae0"
      },
      "execution_count": 14,
      "outputs": [
        {
          "output_type": "execute_result",
          "data": {
            "text/plain": [
              "Sequential(\n",
              "  (0): Linear(in_features=100, out_features=10, bias=True)\n",
              "  (1): ReLU()\n",
              "  (2): Linear(in_features=10, out_features=10, bias=True)\n",
              "  (3): ReLU()\n",
              "  (4): Linear(in_features=10, out_features=1, bias=True)\n",
              ")"
            ]
          },
          "metadata": {},
          "execution_count": 14
        }
      ]
    },
    {
      "cell_type": "code",
      "source": [],
      "metadata": {
        "id": "UnmpQBHO5Ib_"
      },
      "execution_count": null,
      "outputs": []
    },
    {
      "cell_type": "markdown",
      "source": [
        "### Writing custom layers in PyTorch"
      ],
      "metadata": {
        "id": "ouFmeqNrwJOs"
      }
    },
    {
      "cell_type": "code",
      "source": [
        "nn.Parameter?"
      ],
      "metadata": {
        "id": "q2CDz9jQw49B"
      },
      "execution_count": null,
      "outputs": []
    },
    {
      "cell_type": "code",
      "source": [
        "class NoisyLinear(nn.Module):\n",
        "\n",
        "    def __init__(self, input_size, output_size, noise_stddev, generator):\n",
        "        super().__init__()\n",
        "\n",
        "        w = torch.zeros(input_size, output_size)\n",
        "        nn.init.xavier_uniform_(w)\n",
        "        self.w = nn.Parameter(w)\n",
        "        \n",
        "        b = torch.zeros(output_size)\n",
        "        self.b = nn.Parameter(b)\n",
        "\n",
        "        self.noise_stddev = noise_stddev\n",
        "        self.generator = generator\n",
        "\n",
        "    def forward(self, X, training=False):\n",
        "        if training:\n",
        "            noise = torch.normal(0.0, self.noise_stddev, X.shape, generator=self.generator)\n",
        "            noisy_X = torch.add(X, noise)\n",
        "        else:\n",
        "            noisy_X = X\n",
        "        Z = noisy_X @ self.w + self.b\n",
        "        return Z\n"
      ],
      "metadata": {
        "id": "aWI3OZR6wIYe"
      },
      "execution_count": 15,
      "outputs": []
    },
    {
      "cell_type": "code",
      "source": [
        "generator = torch.manual_seed(1)\n",
        "noisy_layer = NoisyLinear(4, 2, 0.1, generator)"
      ],
      "metadata": {
        "id": "iR8nCaM3yyq1"
      },
      "execution_count": 16,
      "outputs": []
    },
    {
      "cell_type": "code",
      "source": [
        "X = torch.zeros((1, 4))\n",
        "print(noisy_layer(X, training=True))"
      ],
      "metadata": {
        "colab": {
          "base_uri": "https://localhost:8080/"
        },
        "id": "qt8CvqsFyyvk",
        "outputId": "ecebb6dd-f9f8-4846-9a69-dd5f765b8862"
      },
      "execution_count": 17,
      "outputs": [
        {
          "output_type": "stream",
          "name": "stdout",
          "text": [
            "tensor([[ 0.1154, -0.0598]], grad_fn=<AddBackward0>)\n"
          ]
        }
      ]
    },
    {
      "cell_type": "code",
      "source": [
        "print(noisy_layer(X, training=True))"
      ],
      "metadata": {
        "colab": {
          "base_uri": "https://localhost:8080/"
        },
        "id": "FCmSLa1oyy1Y",
        "outputId": "4e829729-7f45-4e89-9dc0-4331594c8ebb"
      },
      "execution_count": 18,
      "outputs": [
        {
          "output_type": "stream",
          "name": "stdout",
          "text": [
            "tensor([[ 0.0432, -0.0375]], grad_fn=<AddBackward0>)\n"
          ]
        }
      ]
    },
    {
      "cell_type": "code",
      "source": [
        "print(noisy_layer(X, training=False))"
      ],
      "metadata": {
        "colab": {
          "base_uri": "https://localhost:8080/"
        },
        "id": "sCBy0L3-zH33",
        "outputId": "6babc4a9-6f1d-428e-c217-af64d9307e70"
      },
      "execution_count": 19,
      "outputs": [
        {
          "output_type": "stream",
          "name": "stdout",
          "text": [
            "tensor([[0., 0.]], grad_fn=<AddBackward0>)\n"
          ]
        }
      ]
    },
    {
      "cell_type": "code",
      "source": [
        "model_fn = nn.Sequential(\n",
        "    NoisyLinear(10, 10, 0.1, generator),\n",
        "    nn.ReLU(),\n",
        "    nn.Linear(10, 10),\n",
        "    nn.ReLU(),\n",
        "    nn.Linear(10, 1)\n",
        ")"
      ],
      "metadata": {
        "id": "sT2LbhxMznpW"
      },
      "execution_count": 20,
      "outputs": []
    },
    {
      "cell_type": "markdown",
      "source": [
        "### Writing a custom loss function"
      ],
      "metadata": {
        "id": "gqBaV4IsRgSA"
      }
    },
    {
      "cell_type": "code",
      "source": [
        "class RMSELoss(torch.nn.Module):\n",
        "\n",
        "    def __init__(self):\n",
        "        super().__init__()\n",
        "\n",
        "        self._mse_loss = nn.MSELoss()\n",
        "\n",
        "    def forward(self, x, y):\n",
        "        rmse = torch.sqrt(self._mse_loss(x, y))\n",
        "        return rmse"
      ],
      "metadata": {
        "id": "2bmw1HGaRjJc"
      },
      "execution_count": 23,
      "outputs": []
    },
    {
      "cell_type": "code",
      "source": [
        "prng = torch.manual_seed(42)\n",
        "m = 100\n",
        "X = torch.normal(mean=1.0, std=1.0, size=(m, 1), generator=prng)\n",
        "error = torch.normal(mean=0.0, std=5e-1, size=(m, 1), generator=prng)\n",
        "beta = torch.tensor([[3.0]])\n",
        "y = X @ beta + error"
      ],
      "metadata": {
        "id": "v1vaJtltSZle"
      },
      "execution_count": 27,
      "outputs": []
    },
    {
      "cell_type": "code",
      "source": [
        "weight = torch.tensor([[2.0]], requires_grad=True)\n",
        "bias = torch.zeros((1, 1), requires_grad=True)\n",
        "z = X @ weight + bias"
      ],
      "metadata": {
        "id": "SN8fkHHASaYl"
      },
      "execution_count": 28,
      "outputs": []
    },
    {
      "cell_type": "code",
      "source": [
        "rmse_loss = RMSELoss()"
      ],
      "metadata": {
        "id": "MOoMScnBRjVE"
      },
      "execution_count": 29,
      "outputs": []
    },
    {
      "cell_type": "code",
      "source": [
        "loss = rmse_loss(z, y)\n",
        "loss.backward()"
      ],
      "metadata": {
        "id": "SdeTpPPiSEW6"
      },
      "execution_count": 30,
      "outputs": []
    },
    {
      "cell_type": "code",
      "source": [
        "weight.grad"
      ],
      "metadata": {
        "colab": {
          "base_uri": "https://localhost:8080/"
        },
        "id": "jO1MJLBlSP-W",
        "outputId": "6e3ff012-97c9-4693-a87f-0f19cbdd71e7"
      },
      "execution_count": 31,
      "outputs": [
        {
          "output_type": "execute_result",
          "data": {
            "text/plain": [
              "tensor([[-1.3826]])"
            ]
          },
          "metadata": {},
          "execution_count": 31
        }
      ]
    },
    {
      "cell_type": "code",
      "source": [
        "bias.grad"
      ],
      "metadata": {
        "colab": {
          "base_uri": "https://localhost:8080/"
        },
        "id": "YyQBX3qdSfVO",
        "outputId": "8ce0d999-2ff2-4f3c-ee30-018fb2673cf0"
      },
      "execution_count": 32,
      "outputs": [
        {
          "output_type": "execute_result",
          "data": {
            "text/plain": [
              "tensor([[-0.7059]])"
            ]
          },
          "metadata": {},
          "execution_count": 32
        }
      ]
    },
    {
      "cell_type": "markdown",
      "source": [
        "## Predicting the fuel efficiency of a car"
      ],
      "metadata": {
        "id": "TJI2ewdy6_a9"
      }
    },
    {
      "cell_type": "code",
      "source": [
        "url = \"http://archive.ics.uci.edu/ml/machine-learning-databases/auto-mpg/auto-mpg.data\"\n",
        "\n",
        "column_names = [\n",
        "    \"MPG\",\n",
        "    \"Cylinders\",\n",
        "    \"Displacement\",\n",
        "    \"Horsepower\",\n",
        "    \"Weight\",\n",
        "    \"Acceleration\",\n",
        "    \"Model Year\",\n",
        "    \"Origin\",\n",
        "]\n",
        "\n",
        "df = pd.read_csv(\n",
        "    url,\n",
        "    names=column_names,\n",
        "    na_values = \"?\",\n",
        "    comment='\\t',\n",
        "    sep=\" \",\n",
        "    skipinitialspace=True\n",
        ")"
      ],
      "metadata": {
        "id": "zTe1dpuh7C0H"
      },
      "execution_count": 33,
      "outputs": []
    },
    {
      "cell_type": "code",
      "source": [
        "df.info()"
      ],
      "metadata": {
        "colab": {
          "base_uri": "https://localhost:8080/"
        },
        "id": "CcZZnSVI7i-0",
        "outputId": "9a27e1d5-4f9f-4b06-9817-5a60edb9056b"
      },
      "execution_count": 34,
      "outputs": [
        {
          "output_type": "stream",
          "name": "stdout",
          "text": [
            "<class 'pandas.core.frame.DataFrame'>\n",
            "RangeIndex: 398 entries, 0 to 397\n",
            "Data columns (total 8 columns):\n",
            " #   Column        Non-Null Count  Dtype  \n",
            "---  ------        --------------  -----  \n",
            " 0   MPG           398 non-null    float64\n",
            " 1   Cylinders     398 non-null    int64  \n",
            " 2   Displacement  398 non-null    float64\n",
            " 3   Horsepower    392 non-null    float64\n",
            " 4   Weight        398 non-null    float64\n",
            " 5   Acceleration  398 non-null    float64\n",
            " 6   Model Year    398 non-null    int64  \n",
            " 7   Origin        398 non-null    int64  \n",
            "dtypes: float64(5), int64(3)\n",
            "memory usage: 25.0 KB\n"
          ]
        }
      ]
    },
    {
      "cell_type": "code",
      "source": [
        "df.head()"
      ],
      "metadata": {
        "colab": {
          "base_uri": "https://localhost:8080/",
          "height": 288
        },
        "id": "6nrEh2kM7eSF",
        "outputId": "48f28d79-8002-41ea-c92d-1cd7d71ff5cb"
      },
      "execution_count": 35,
      "outputs": [
        {
          "output_type": "execute_result",
          "data": {
            "text/plain": [
              "    MPG  Cylinders  Displacement  Horsepower  Weight  Acceleration  \\\n",
              "0  18.0          8         307.0       130.0  3504.0          12.0   \n",
              "1  15.0          8         350.0       165.0  3693.0          11.5   \n",
              "2  18.0          8         318.0       150.0  3436.0          11.0   \n",
              "3  16.0          8         304.0       150.0  3433.0          12.0   \n",
              "4  17.0          8         302.0       140.0  3449.0          10.5   \n",
              "\n",
              "   Model Year  Origin  \n",
              "0          70       1  \n",
              "1          70       1  \n",
              "2          70       1  \n",
              "3          70       1  \n",
              "4          70       1  "
            ],
            "text/html": [
              "\n",
              "  <div id=\"df-db5396ec-8494-4773-950c-6768dcf9d9c4\">\n",
              "    <div class=\"colab-df-container\">\n",
              "      <div>\n",
              "<style scoped>\n",
              "    .dataframe tbody tr th:only-of-type {\n",
              "        vertical-align: middle;\n",
              "    }\n",
              "\n",
              "    .dataframe tbody tr th {\n",
              "        vertical-align: top;\n",
              "    }\n",
              "\n",
              "    .dataframe thead th {\n",
              "        text-align: right;\n",
              "    }\n",
              "</style>\n",
              "<table border=\"1\" class=\"dataframe\">\n",
              "  <thead>\n",
              "    <tr style=\"text-align: right;\">\n",
              "      <th></th>\n",
              "      <th>MPG</th>\n",
              "      <th>Cylinders</th>\n",
              "      <th>Displacement</th>\n",
              "      <th>Horsepower</th>\n",
              "      <th>Weight</th>\n",
              "      <th>Acceleration</th>\n",
              "      <th>Model Year</th>\n",
              "      <th>Origin</th>\n",
              "    </tr>\n",
              "  </thead>\n",
              "  <tbody>\n",
              "    <tr>\n",
              "      <th>0</th>\n",
              "      <td>18.0</td>\n",
              "      <td>8</td>\n",
              "      <td>307.0</td>\n",
              "      <td>130.0</td>\n",
              "      <td>3504.0</td>\n",
              "      <td>12.0</td>\n",
              "      <td>70</td>\n",
              "      <td>1</td>\n",
              "    </tr>\n",
              "    <tr>\n",
              "      <th>1</th>\n",
              "      <td>15.0</td>\n",
              "      <td>8</td>\n",
              "      <td>350.0</td>\n",
              "      <td>165.0</td>\n",
              "      <td>3693.0</td>\n",
              "      <td>11.5</td>\n",
              "      <td>70</td>\n",
              "      <td>1</td>\n",
              "    </tr>\n",
              "    <tr>\n",
              "      <th>2</th>\n",
              "      <td>18.0</td>\n",
              "      <td>8</td>\n",
              "      <td>318.0</td>\n",
              "      <td>150.0</td>\n",
              "      <td>3436.0</td>\n",
              "      <td>11.0</td>\n",
              "      <td>70</td>\n",
              "      <td>1</td>\n",
              "    </tr>\n",
              "    <tr>\n",
              "      <th>3</th>\n",
              "      <td>16.0</td>\n",
              "      <td>8</td>\n",
              "      <td>304.0</td>\n",
              "      <td>150.0</td>\n",
              "      <td>3433.0</td>\n",
              "      <td>12.0</td>\n",
              "      <td>70</td>\n",
              "      <td>1</td>\n",
              "    </tr>\n",
              "    <tr>\n",
              "      <th>4</th>\n",
              "      <td>17.0</td>\n",
              "      <td>8</td>\n",
              "      <td>302.0</td>\n",
              "      <td>140.0</td>\n",
              "      <td>3449.0</td>\n",
              "      <td>10.5</td>\n",
              "      <td>70</td>\n",
              "      <td>1</td>\n",
              "    </tr>\n",
              "  </tbody>\n",
              "</table>\n",
              "</div>\n",
              "      <button class=\"colab-df-convert\" onclick=\"convertToInteractive('df-db5396ec-8494-4773-950c-6768dcf9d9c4')\"\n",
              "              title=\"Convert this dataframe to an interactive table.\"\n",
              "              style=\"display:none;\">\n",
              "        \n",
              "  <svg xmlns=\"http://www.w3.org/2000/svg\" height=\"24px\"viewBox=\"0 0 24 24\"\n",
              "       width=\"24px\">\n",
              "    <path d=\"M0 0h24v24H0V0z\" fill=\"none\"/>\n",
              "    <path d=\"M18.56 5.44l.94 2.06.94-2.06 2.06-.94-2.06-.94-.94-2.06-.94 2.06-2.06.94zm-11 1L8.5 8.5l.94-2.06 2.06-.94-2.06-.94L8.5 2.5l-.94 2.06-2.06.94zm10 10l.94 2.06.94-2.06 2.06-.94-2.06-.94-.94-2.06-.94 2.06-2.06.94z\"/><path d=\"M17.41 7.96l-1.37-1.37c-.4-.4-.92-.59-1.43-.59-.52 0-1.04.2-1.43.59L10.3 9.45l-7.72 7.72c-.78.78-.78 2.05 0 2.83L4 21.41c.39.39.9.59 1.41.59.51 0 1.02-.2 1.41-.59l7.78-7.78 2.81-2.81c.8-.78.8-2.07 0-2.86zM5.41 20L4 18.59l7.72-7.72 1.47 1.35L5.41 20z\"/>\n",
              "  </svg>\n",
              "      </button>\n",
              "      \n",
              "  <style>\n",
              "    .colab-df-container {\n",
              "      display:flex;\n",
              "      flex-wrap:wrap;\n",
              "      gap: 12px;\n",
              "    }\n",
              "\n",
              "    .colab-df-convert {\n",
              "      background-color: #E8F0FE;\n",
              "      border: none;\n",
              "      border-radius: 50%;\n",
              "      cursor: pointer;\n",
              "      display: none;\n",
              "      fill: #1967D2;\n",
              "      height: 32px;\n",
              "      padding: 0 0 0 0;\n",
              "      width: 32px;\n",
              "    }\n",
              "\n",
              "    .colab-df-convert:hover {\n",
              "      background-color: #E2EBFA;\n",
              "      box-shadow: 0px 1px 2px rgba(60, 64, 67, 0.3), 0px 1px 3px 1px rgba(60, 64, 67, 0.15);\n",
              "      fill: #174EA6;\n",
              "    }\n",
              "\n",
              "    [theme=dark] .colab-df-convert {\n",
              "      background-color: #3B4455;\n",
              "      fill: #D2E3FC;\n",
              "    }\n",
              "\n",
              "    [theme=dark] .colab-df-convert:hover {\n",
              "      background-color: #434B5C;\n",
              "      box-shadow: 0px 1px 3px 1px rgba(0, 0, 0, 0.15);\n",
              "      filter: drop-shadow(0px 1px 2px rgba(0, 0, 0, 0.3));\n",
              "      fill: #FFFFFF;\n",
              "    }\n",
              "  </style>\n",
              "\n",
              "      <script>\n",
              "        const buttonEl =\n",
              "          document.querySelector('#df-db5396ec-8494-4773-950c-6768dcf9d9c4 button.colab-df-convert');\n",
              "        buttonEl.style.display =\n",
              "          google.colab.kernel.accessAllowed ? 'block' : 'none';\n",
              "\n",
              "        async function convertToInteractive(key) {\n",
              "          const element = document.querySelector('#df-db5396ec-8494-4773-950c-6768dcf9d9c4');\n",
              "          const dataTable =\n",
              "            await google.colab.kernel.invokeFunction('convertToInteractive',\n",
              "                                                     [key], {});\n",
              "          if (!dataTable) return;\n",
              "\n",
              "          const docLinkHtml = 'Like what you see? Visit the ' +\n",
              "            '<a target=\"_blank\" href=https://colab.research.google.com/notebooks/data_table.ipynb>data table notebook</a>'\n",
              "            + ' to learn more about interactive tables.';\n",
              "          element.innerHTML = '';\n",
              "          dataTable['output_type'] = 'display_data';\n",
              "          await google.colab.output.renderOutput(dataTable, element);\n",
              "          const docLink = document.createElement('div');\n",
              "          docLink.innerHTML = docLinkHtml;\n",
              "          element.appendChild(docLink);\n",
              "        }\n",
              "      </script>\n",
              "    </div>\n",
              "  </div>\n",
              "  "
            ]
          },
          "metadata": {},
          "execution_count": 35
        }
      ]
    },
    {
      "cell_type": "code",
      "source": [
        "_random_state = np.random.RandomState(42)\n",
        "train_df, test_df = model_selection.train_test_split(\n",
        "    df,\n",
        "    test_size=0.1,\n",
        "    random_state=_random_state\n",
        ")"
      ],
      "metadata": {
        "id": "Aa-E1fIC7fkQ"
      },
      "execution_count": 36,
      "outputs": []
    },
    {
      "cell_type": "code",
      "source": [
        "train_features = train_df.drop(\"MPG\", axis=1)\n",
        "train_target = train_df.loc[:, [\"MPG\"]]\n",
        "\n",
        "test_features = test_df.drop(\"MPG\", axis=1)\n",
        "test_target = test_df.loc[:, [\"MPG\"]]\n"
      ],
      "metadata": {
        "id": "Ktpa-peg8H5y"
      },
      "execution_count": 37,
      "outputs": []
    },
    {
      "cell_type": "code",
      "source": [
        "float_pipeline = pipeline.make_pipeline(\n",
        "    impute.SimpleImputer(strategy=\"mean\"),\n",
        "    preprocessing.StandardScaler()\n",
        ")\n",
        "\n",
        "categorical_pipeline = pipeline.make_pipeline(\n",
        "    preprocessing.OneHotEncoder()\n",
        ")\n",
        "\n",
        "ordinal_pipeline = pipeline.make_pipeline(\n",
        "    preprocessing.OrdinalEncoder(),\n",
        ")\n",
        "\n",
        "model_year_pipeline = pipeline.make_pipeline(\n",
        "    preprocessing.KBinsDiscretizer(n_bins=3, encode=\"ordinal\", strategy=\"quantile\")\n",
        ")\n",
        "\n",
        "encoding_pipeline = compose.make_column_transformer(\n",
        "    (float_pipeline, compose.make_column_selector(dtype_include=np.float64)),\n",
        "    (categorical_pipeline, [\"Origin\"]),\n",
        "    (ordinal_pipeline, [\"Cylinders\"]),\n",
        "    (model_year_pipeline, [\"Model Year\"])\n",
        ")\n",
        "\n",
        "type_conversion_pipeline = pipeline.make_pipeline(\n",
        "    preprocessing.FunctionTransformer(lambda X: X.astype(np.float32)),\n",
        "    preprocessing.FunctionTransformer(lambda X: torch.from_numpy(X))\n",
        ")\n",
        "\n",
        "preprocessing_pipeline = pipeline.make_pipeline(\n",
        "    encoding_pipeline,\n",
        "    type_conversion_pipeline\n",
        ")"
      ],
      "metadata": {
        "id": "3NW_o5lS8X2x"
      },
      "execution_count": 38,
      "outputs": []
    },
    {
      "cell_type": "code",
      "source": [
        "train_features_tensor = preprocessing_pipeline.fit_transform(train_features)\n",
        "train_target_tensor = type_conversion_pipeline.fit_transform(train_target.to_numpy())"
      ],
      "metadata": {
        "id": "DTeoLrQK_2KJ"
      },
      "execution_count": 39,
      "outputs": []
    },
    {
      "cell_type": "code",
      "source": [
        "train_features_tensor"
      ],
      "metadata": {
        "colab": {
          "base_uri": "https://localhost:8080/"
        },
        "id": "5XCIXOYSBbs7",
        "outputId": "ae855dba-c1f8-4502-ff62-c3d584c7d8a1"
      },
      "execution_count": 40,
      "outputs": [
        {
          "output_type": "execute_result",
          "data": {
            "text/plain": [
              "tensor([[-0.1803,  0.3066, -0.3129,  ...,  0.0000,  3.0000,  2.0000],\n",
              "        [-0.9192, -1.1655, -1.3492,  ...,  0.0000,  1.0000,  0.0000],\n",
              "        [-0.6858,  0.2263, -0.0341,  ...,  0.0000,  1.0000,  0.0000],\n",
              "        ...,\n",
              "        [-0.5594, -0.2288, -0.5343,  ...,  1.0000,  1.0000,  2.0000],\n",
              "        [-0.9969, -1.1120, -1.0907,  ...,  1.0000,  1.0000,  2.0000],\n",
              "        [-0.9192, -1.5403, -1.2104,  ...,  0.0000,  1.0000,  0.0000]])"
            ]
          },
          "metadata": {},
          "execution_count": 40
        }
      ]
    },
    {
      "cell_type": "code",
      "source": [
        "train_features_tensor.shape"
      ],
      "metadata": {
        "colab": {
          "base_uri": "https://localhost:8080/"
        },
        "id": "87HAQCKzBdLe",
        "outputId": "45a4df3b-2e3e-4e85-bcf9-25e862c5e25e"
      },
      "execution_count": 41,
      "outputs": [
        {
          "output_type": "execute_result",
          "data": {
            "text/plain": [
              "torch.Size([358, 9])"
            ]
          },
          "metadata": {},
          "execution_count": 41
        }
      ]
    },
    {
      "cell_type": "code",
      "source": [
        "train_target_tensor.shape"
      ],
      "metadata": {
        "colab": {
          "base_uri": "https://localhost:8080/"
        },
        "id": "85QS0ovzHlLn",
        "outputId": "8b255406-eadf-4267-a48d-239c9a2d7e5c"
      },
      "execution_count": 42,
      "outputs": [
        {
          "output_type": "execute_result",
          "data": {
            "text/plain": [
              "torch.Size([358, 1])"
            ]
          },
          "metadata": {},
          "execution_count": 42
        }
      ]
    },
    {
      "cell_type": "code",
      "source": [
        "train_dataset = utils.data.TensorDataset(train_features_tensor, train_target_tensor)\n",
        "train_dataloader = utils.data.DataLoader(train_dataset, batch_size=1, shuffle=True)"
      ],
      "metadata": {
        "id": "BR-w49BOB2hp"
      },
      "execution_count": 43,
      "outputs": []
    },
    {
      "cell_type": "code",
      "source": [
        "model_fn = MultiLayerPerceptron(\n",
        "    input_size = train_features_tensor.shape[1],\n",
        "    hidden_sizes=[100],\n",
        "    output_size=1,\n",
        "    hidden_activation=nn.ReLU(),\n",
        "    output_activation=None,\n",
        ")"
      ],
      "metadata": {
        "id": "xAw_AzTQTl2D"
      },
      "execution_count": 61,
      "outputs": []
    },
    {
      "cell_type": "code",
      "source": [
        "model_fn"
      ],
      "metadata": {
        "colab": {
          "base_uri": "https://localhost:8080/"
        },
        "id": "R1fgcr4oIoCQ",
        "outputId": "5265687e-9ff1-4fda-e227-8f59111cd8f6"
      },
      "execution_count": 62,
      "outputs": [
        {
          "output_type": "execute_result",
          "data": {
            "text/plain": [
              "MultiLayerPerceptron(\n",
              "  (module_list): ModuleList(\n",
              "    (0): Linear(in_features=9, out_features=100, bias=True)\n",
              "    (1): ReLU()\n",
              "    (2): Linear(in_features=100, out_features=1, bias=True)\n",
              "  )\n",
              ")"
            ]
          },
          "metadata": {},
          "execution_count": 62
        }
      ]
    },
    {
      "cell_type": "code",
      "source": [
        "loss_fn = RMSELoss()\n",
        "\n",
        "optimizer = optim.Adam(\n",
        "    model_fn.parameters(),\n",
        "    lr=1e-3,\n",
        ")"
      ],
      "metadata": {
        "id": "RlzWRJHzJKZJ"
      },
      "execution_count": 63,
      "outputs": []
    },
    {
      "cell_type": "code",
      "source": [
        "epochs = 200\n",
        "log_epochs = 20\n",
        "\n",
        "for epoch in range(epochs):\n",
        "    loss_hist_train = 0\n",
        "    for X, y in train_dataloader:\n",
        "\n",
        "        # forward pass\n",
        "        y_hat = model_fn(X)\n",
        "        loss = loss_fn(y_hat, y)\n",
        "        loss_hist_train += loss.item()\n",
        "\n",
        "        # backward pass\n",
        "        loss.backward()\n",
        "        optimizer.step()\n",
        "        optimizer.zero_grad()\n",
        "\n",
        "    if epoch % log_epochs==0:\n",
        "        print(f\"Epoch {epoch} Loss {loss_hist_train / len(train_dataloader):.4f}\")"
      ],
      "metadata": {
        "colab": {
          "base_uri": "https://localhost:8080/"
        },
        "id": "XASEZ88DKvoK",
        "outputId": "441a91fc-f9ef-447c-ecad-ab618ee6089b"
      },
      "execution_count": 64,
      "outputs": [
        {
          "output_type": "stream",
          "name": "stdout",
          "text": [
            "Epoch 0 Loss 11.7564\n",
            "Epoch 20 Loss 1.9949\n",
            "Epoch 40 Loss 1.9066\n",
            "Epoch 60 Loss 1.7738\n",
            "Epoch 80 Loss 1.7248\n",
            "Epoch 100 Loss 1.7254\n",
            "Epoch 120 Loss 1.6916\n",
            "Epoch 140 Loss 1.6410\n",
            "Epoch 160 Loss 1.6772\n",
            "Epoch 180 Loss 1.6166\n"
          ]
        }
      ]
    },
    {
      "cell_type": "code",
      "source": [
        "y_hat"
      ],
      "metadata": {
        "colab": {
          "base_uri": "https://localhost:8080/"
        },
        "id": "AJx9hql4WTjH",
        "outputId": "a0f23c2a-35e9-4ab1-df6e-16196aea528e"
      },
      "execution_count": 67,
      "outputs": [
        {
          "output_type": "execute_result",
          "data": {
            "text/plain": [
              "tensor([[23.1306]], grad_fn=<AddmmBackward0>)"
            ]
          },
          "metadata": {},
          "execution_count": 67
        }
      ]
    },
    {
      "cell_type": "code",
      "source": [
        "test_features_tensor = preprocessing_pipeline.transform(test_features)\n",
        "test_target_tensor = type_conversion_pipeline.transform(test_target.to_numpy())"
      ],
      "metadata": {
        "id": "LXId4mpTLA_l"
      },
      "execution_count": 68,
      "outputs": []
    },
    {
      "cell_type": "code",
      "source": [
        "with torch.no_grad():\n",
        "    y_hat = model_fn(test_features_tensor)\n",
        "    loss = loss_fn(y_hat, test_target_tensor)\n",
        "\n",
        "mae = nn.L1Loss()\n",
        "print(f'Test RMSE: {loss.item():.4f}')\n",
        "print(f'Test MAE: {mae(y_hat, test_target_tensor).item():.4f}')"
      ],
      "metadata": {
        "colab": {
          "base_uri": "https://localhost:8080/"
        },
        "id": "EDwAFBSCLnWx",
        "outputId": "77d5f4e2-efe3-4acc-adf4-f8a4f455e1e4"
      },
      "execution_count": 70,
      "outputs": [
        {
          "output_type": "stream",
          "name": "stdout",
          "text": [
            "Test RMSE: 2.1587\n",
            "Test MAE: 1.5549\n"
          ]
        }
      ]
    },
    {
      "cell_type": "markdown",
      "source": [
        "## Classifying images\n",
        "\n"
      ],
      "metadata": {
        "id": "FtqxbK1aNtPX"
      }
    },
    {
      "cell_type": "code",
      "source": [
        "_transform = transforms.Compose(\n",
        "    [\n",
        "        transforms.ToTensor(),\n",
        "     ]\n",
        ")\n",
        "\n",
        "_train_dataset = datasets.MNIST(\n",
        "    \"./sample_data\",\n",
        "    download=True,\n",
        "    train=True,\n",
        "    transform=_transform,\n",
        ")\n",
        "\n",
        "train_dataset, val_dataset = utils.data.random_split(\n",
        "    _train_dataset,\n",
        "    lengths = [48000, 12000]\n",
        ")\n",
        "\n",
        "test_dataset = datasets.MNIST(\n",
        "    \"./sample_data\",\n",
        "    download=True,\n",
        "    train=False,\n",
        "    transform=_transform,\n",
        ")\n",
        "\n",
        "train_dataloader = utils.data.DataLoader(\n",
        "    train_dataset,\n",
        "    batch_size=32,\n",
        "    shuffle=True,\n",
        ")\n",
        "\n",
        "val_dataloader = utils.data.DataLoader(\n",
        "    val_dataset,\n",
        "    batch_size=128,\n",
        "    shuffle=False,\n",
        ")\n",
        "\n",
        "test_dataloader = utils.data.DataLoader(\n",
        "    test_dataset,\n",
        "    batch_size=128,\n",
        "    shuffle=False,\n",
        ")"
      ],
      "metadata": {
        "colab": {
          "base_uri": "https://localhost:8080/",
          "height": 471,
          "referenced_widgets": [
            "c1b356855c724593972967dae1f9a39b",
            "bda313bdb38e4ad5a354c54cfab9583c",
            "0c58c2efd518498284fe5de2ddfd79ff",
            "275d5dc513fa4596b3fe3eb2c271a475",
            "233cd4e8b5e444cbbe7ddde850bb8c78",
            "82435c2554b543f59696168eb85cd2da",
            "cf4cab046b6044b58a0c56192ae00ad0",
            "ee7e60df2a4141edba043e451a54195f",
            "e94322b961184fe7be8827f2c1f30072",
            "89bed871096a40db95445416ebca42a2",
            "1bcfb2d053504d7da41fd55a2183249f",
            "9656ea72bbd8476181a5ab639b90ff04",
            "083c2c9245c4456080bde9f0b3a3a080",
            "c8c629e87a9d4ff6949c4217be9c6db4",
            "4305e17a4b0d4bcfa8b47e7871b26843",
            "54a011869b17469491e44f39037a2c13",
            "af048b9aca774842b184aa42d4f07651",
            "442e7db317c14935abb2751839f3810a",
            "13b98c3a81074e0ab8520933a9888d6c",
            "78ac07843a1544deb2b65e3bf12077a0",
            "35c705ed06c04eac9c041e73f885f040",
            "5111a5900ce54412ab65ef912c1de019",
            "f599ca0bd4724f4ca652d419f1c213ec",
            "92895d0d0d5045b8b4b1d0b5a688b875",
            "7e992a39b63540318936854780479988",
            "80f57119f7b04bada005ba97eb4c0dd9",
            "4f856f73731241668f39d2020e894a2a",
            "5f59221446394127a10a894aeba7de51",
            "6429817d90f04627a7e5fba01621c009",
            "9eb8f853338542bf9bdbf4aa84691620",
            "2e5dfae07ecb493d852a929a0b5060c4",
            "e6695797b14b477bbd9c40ac99201c18",
            "e8ad14a9e387407f9d80614f5e46a66b",
            "9c545a9106a0471098d938dc818afc7f",
            "3150efebc3e3443a8e8cc6c860d2db36",
            "f401470ce5914eeb80a05f6c0fcd9d39",
            "0d2172f81c294a1f983193018828dca3",
            "ab48750803924b77a223ff2b51b00463",
            "72e336d3b4174a3b97a5a2d7e69af47e",
            "0fb2cbea4c894f8cb0a6e173ac511b31",
            "53a52d8fee104ce8aeb60025184bb03a",
            "928c04e577c44bf281a84b3ddb05b9c2",
            "136aa524ecf8448487761aaba5727547",
            "008787f80be64e5da05e4dcb250afb6e"
          ]
        },
        "id": "vAYsKE1lMM40",
        "outputId": "5244f68f-6993-461d-ad7d-c0a2b49a7267"
      },
      "execution_count": 71,
      "outputs": [
        {
          "output_type": "stream",
          "name": "stdout",
          "text": [
            "Downloading http://yann.lecun.com/exdb/mnist/train-images-idx3-ubyte.gz\n",
            "Downloading http://yann.lecun.com/exdb/mnist/train-images-idx3-ubyte.gz to ./sample_data/MNIST/raw/train-images-idx3-ubyte.gz\n"
          ]
        },
        {
          "output_type": "display_data",
          "data": {
            "text/plain": [
              "  0%|          | 0/9912422 [00:00<?, ?it/s]"
            ],
            "application/vnd.jupyter.widget-view+json": {
              "version_major": 2,
              "version_minor": 0,
              "model_id": "c1b356855c724593972967dae1f9a39b"
            }
          },
          "metadata": {}
        },
        {
          "output_type": "stream",
          "name": "stdout",
          "text": [
            "Extracting ./sample_data/MNIST/raw/train-images-idx3-ubyte.gz to ./sample_data/MNIST/raw\n",
            "\n",
            "Downloading http://yann.lecun.com/exdb/mnist/train-labels-idx1-ubyte.gz\n",
            "Downloading http://yann.lecun.com/exdb/mnist/train-labels-idx1-ubyte.gz to ./sample_data/MNIST/raw/train-labels-idx1-ubyte.gz\n"
          ]
        },
        {
          "output_type": "display_data",
          "data": {
            "text/plain": [
              "  0%|          | 0/28881 [00:00<?, ?it/s]"
            ],
            "application/vnd.jupyter.widget-view+json": {
              "version_major": 2,
              "version_minor": 0,
              "model_id": "9656ea72bbd8476181a5ab639b90ff04"
            }
          },
          "metadata": {}
        },
        {
          "output_type": "stream",
          "name": "stdout",
          "text": [
            "Extracting ./sample_data/MNIST/raw/train-labels-idx1-ubyte.gz to ./sample_data/MNIST/raw\n",
            "\n",
            "Downloading http://yann.lecun.com/exdb/mnist/t10k-images-idx3-ubyte.gz\n",
            "Downloading http://yann.lecun.com/exdb/mnist/t10k-images-idx3-ubyte.gz to ./sample_data/MNIST/raw/t10k-images-idx3-ubyte.gz\n"
          ]
        },
        {
          "output_type": "display_data",
          "data": {
            "text/plain": [
              "  0%|          | 0/1648877 [00:00<?, ?it/s]"
            ],
            "application/vnd.jupyter.widget-view+json": {
              "version_major": 2,
              "version_minor": 0,
              "model_id": "f599ca0bd4724f4ca652d419f1c213ec"
            }
          },
          "metadata": {}
        },
        {
          "output_type": "stream",
          "name": "stdout",
          "text": [
            "Extracting ./sample_data/MNIST/raw/t10k-images-idx3-ubyte.gz to ./sample_data/MNIST/raw\n",
            "\n",
            "Downloading http://yann.lecun.com/exdb/mnist/t10k-labels-idx1-ubyte.gz\n",
            "Downloading http://yann.lecun.com/exdb/mnist/t10k-labels-idx1-ubyte.gz to ./sample_data/MNIST/raw/t10k-labels-idx1-ubyte.gz\n"
          ]
        },
        {
          "output_type": "display_data",
          "data": {
            "text/plain": [
              "  0%|          | 0/4542 [00:00<?, ?it/s]"
            ],
            "application/vnd.jupyter.widget-view+json": {
              "version_major": 2,
              "version_minor": 0,
              "model_id": "9c545a9106a0471098d938dc818afc7f"
            }
          },
          "metadata": {}
        },
        {
          "output_type": "stream",
          "name": "stdout",
          "text": [
            "Extracting ./sample_data/MNIST/raw/t10k-labels-idx1-ubyte.gz to ./sample_data/MNIST/raw\n",
            "\n"
          ]
        }
      ]
    },
    {
      "cell_type": "markdown",
      "source": [
        "### Create a model"
      ],
      "metadata": {
        "id": "Zzl2JtyS3IZ4"
      }
    },
    {
      "cell_type": "code",
      "source": [
        "model_fn = nn.Sequential(\n",
        "    nn.Flatten(),\n",
        "    nn.Linear(1 * 28 * 28, 100),\n",
        "    nn.ReLU(),\n",
        "    nn.Linear(100, 100),\n",
        "    nn.ReLU(),\n",
        "    nn.Linear(100, 10),\n",
        "    nn.Softmax(dim=-1)\n",
        ")"
      ],
      "metadata": {
        "id": "04XNBCRvSWOr"
      },
      "execution_count": 104,
      "outputs": []
    },
    {
      "cell_type": "code",
      "source": [
        "model_fn"
      ],
      "metadata": {
        "colab": {
          "base_uri": "https://localhost:8080/"
        },
        "id": "jYPxpCuSC-W6",
        "outputId": "0196a6a8-09af-4a3f-de83-b8536a50b55b"
      },
      "execution_count": 105,
      "outputs": [
        {
          "output_type": "execute_result",
          "data": {
            "text/plain": [
              "Sequential(\n",
              "  (0): Flatten(start_dim=1, end_dim=-1)\n",
              "  (1): Linear(in_features=784, out_features=100, bias=True)\n",
              "  (2): ReLU()\n",
              "  (3): Linear(in_features=100, out_features=100, bias=True)\n",
              "  (4): ReLU()\n",
              "  (5): Linear(in_features=100, out_features=10, bias=True)\n",
              "  (6): Softmax(dim=-1)\n",
              ")"
            ]
          },
          "metadata": {},
          "execution_count": 105
        }
      ]
    },
    {
      "cell_type": "code",
      "source": [
        "torchinfo.summary(model_fn, input_size=(1, 28, 28))"
      ],
      "metadata": {
        "colab": {
          "base_uri": "https://localhost:8080/"
        },
        "id": "5Q4CRLdVDYqN",
        "outputId": "5ed50fcd-fa30-4278-b16c-80f00373aedc"
      },
      "execution_count": 106,
      "outputs": [
        {
          "output_type": "execute_result",
          "data": {
            "text/plain": [
              "==========================================================================================\n",
              "Layer (type:depth-idx)                   Output Shape              Param #\n",
              "==========================================================================================\n",
              "Sequential                               [1, 10]                   --\n",
              "├─Flatten: 1-1                           [1, 784]                  --\n",
              "├─Linear: 1-2                            [1, 100]                  78,500\n",
              "├─ReLU: 1-3                              [1, 100]                  --\n",
              "├─Linear: 1-4                            [1, 100]                  10,100\n",
              "├─ReLU: 1-5                              [1, 100]                  --\n",
              "├─Linear: 1-6                            [1, 10]                   1,010\n",
              "├─Softmax: 1-7                           [1, 10]                   --\n",
              "==========================================================================================\n",
              "Total params: 89,610\n",
              "Trainable params: 89,610\n",
              "Non-trainable params: 0\n",
              "Total mult-adds (M): 0.09\n",
              "==========================================================================================\n",
              "Input size (MB): 0.00\n",
              "Forward/backward pass size (MB): 0.00\n",
              "Params size (MB): 0.36\n",
              "Estimated Total Size (MB): 0.36\n",
              "=========================================================================================="
            ]
          },
          "metadata": {},
          "execution_count": 106
        }
      ]
    },
    {
      "cell_type": "markdown",
      "source": [
        "### Defining a loss function and an optimizer"
      ],
      "metadata": {
        "id": "Kp9cHR8fD1Xs"
      }
    },
    {
      "cell_type": "code",
      "source": [
        "loss_fn = nn.NLLLoss()"
      ],
      "metadata": {
        "id": "q0OY0xbmSWlO"
      },
      "execution_count": 107,
      "outputs": []
    },
    {
      "cell_type": "code",
      "source": [
        "_optimizer_hyperparameters = {\n",
        "    \"lr\": 1e-3,\n",
        "}\n",
        "optimizer = optim.Adam(model_fn.parameters(), **_optimizer_hyperparameters)"
      ],
      "metadata": {
        "id": "svxp8zlSSWvN"
      },
      "execution_count": 108,
      "outputs": []
    },
    {
      "cell_type": "markdown",
      "source": [
        "### Training and evaluating the model\n"
      ],
      "metadata": {
        "id": "RizOmru1EQTp"
      }
    },
    {
      "cell_type": "code",
      "source": [
        "torchmetrics.classification.MulticlassAccuracy?"
      ],
      "metadata": {
        "id": "VW1urKlQbYE1"
      },
      "execution_count": 96,
      "outputs": []
    },
    {
      "cell_type": "code",
      "source": [
        "train_accuracy = torchmetrics.classification.MulticlassAccuracy(num_classes=10)\n",
        "val_accuracy = torchmetrics.classification.MulticlassAccuracy(num_classes=10)\n",
        "test_accuracy = torchmetrics.classification.MulticlassAccuracy(num_classes=10)"
      ],
      "metadata": {
        "id": "OH4x4fZ1X30R"
      },
      "execution_count": 109,
      "outputs": []
    },
    {
      "cell_type": "code",
      "source": [
        "def validate(model_fn, loss_fn, data_loader, metric):\n",
        "\n",
        "    batch_metrics = []\n",
        "    batch_losses = []\n",
        "    \n",
        "    for X, y in data_loader:\n",
        "        predictions = model_fn(X)\n",
        "        batch_metrics.append(metric(predictions, y))\n",
        "        batch_losses.append(loss_fn(predictions, y))\n",
        "    \n",
        "    avg_metric = (torch.stack(batch_metrics)\n",
        "                       .mean())\n",
        "    avg_loss = (torch.stack(batch_losses)\n",
        "                     .mean())\n",
        "\n",
        "    return avg_metric, avg_loss"
      ],
      "metadata": {
        "id": "f3Af2lP-mSSr"
      },
      "execution_count": 110,
      "outputs": []
    },
    {
      "cell_type": "code",
      "source": [
        "number_epochs = 5\n",
        "\n",
        "for epoch in range(number_epochs):\n",
        "        \n",
        "    model_fn.train()\n",
        "    batch_metrics = []\n",
        "    batch_losses = []\n",
        "    for X, y in train_dataloader:\n",
        "     \n",
        "        # forward pass\n",
        "        predictions = model_fn(X)\n",
        "        batch_metrics.append(train_accuracy(predictions, y))\n",
        "        loss = loss_fn(predictions, y)\n",
        "        batch_losses.append(loss)\n",
        "  \n",
        "        # back propagation\n",
        "        loss.backward()\n",
        "        optimizer.step()\n",
        "        optimizer.zero_grad()\n",
        "\n",
        "    # compute training metrics\n",
        "    train_metric = (torch.stack(batch_metrics)\n",
        "                         .mean())\n",
        "    train_loss = (torch.stack(batch_losses)\n",
        "                       .mean()) \n",
        "\n",
        "    # compute validation metrics\n",
        "    model_fn.eval()\n",
        "    val_metric, val_loss = validate(model_fn, loss_fn, val_dataloader, val_accuracy)\n",
        "    message = (f\"Epoch: {epoch}, \"\n",
        "               f\"Train accuracy: {train_metric:.4f}, \"\n",
        "               f\"Train loss: {train_loss:.4f}, \"\n",
        "               f\"Val accuracy: {val_metric:.4f}, \"\n",
        "               f\"Val loss: {val_loss:.4f}\")\n",
        "    print(message)\n"
      ],
      "metadata": {
        "colab": {
          "base_uri": "https://localhost:8080/"
        },
        "id": "oh5wMLAEW4RW",
        "outputId": "82fab350-1e62-468e-a47f-b33939d59651"
      },
      "execution_count": 112,
      "outputs": [
        {
          "output_type": "stream",
          "name": "stdout",
          "text": [
            "Epoch: 0, Train accuracy: 0.9021, Train loss: -0.9312, Val accuracy: 0.9402, Val loss: -0.9381\n",
            "Epoch: 1, Train accuracy: 0.9161, Train loss: -0.9469, Val accuracy: 0.9476, Val loss: -0.9475\n",
            "Epoch: 2, Train accuracy: 0.9235, Train loss: -0.9562, Val accuracy: 0.9585, Val loss: -0.9566\n",
            "Epoch: 3, Train accuracy: 0.9306, Train loss: -0.9627, Val accuracy: 0.9570, Val loss: -0.9562\n",
            "Epoch: 4, Train accuracy: 0.9311, Train loss: -0.9672, Val accuracy: 0.9630, Val loss: -0.9624\n"
          ]
        }
      ]
    },
    {
      "cell_type": "code",
      "source": [
        "test_acc, test_loss = validate(model_fn, loss_fn, test_dataloader, test_accuracy)\n",
        "print(f\"Test accuracy: {test_acc:.4f}, Test loss: {test_loss:.4f}\")\n"
      ],
      "metadata": {
        "colab": {
          "base_uri": "https://localhost:8080/"
        },
        "id": "Oazhs6Nz5Rh6",
        "outputId": "b7491922-feab-4f39-9b7f-2abe10a9d1c3"
      },
      "execution_count": 113,
      "outputs": [
        {
          "output_type": "stream",
          "name": "stdout",
          "text": [
            "Test accuracy: 0.9656, Test loss: -0.9641\n"
          ]
        }
      ]
    },
    {
      "cell_type": "code",
      "source": [],
      "metadata": {
        "id": "Uk0Q3Epp7NpE"
      },
      "execution_count": null,
      "outputs": []
    }
  ]
}
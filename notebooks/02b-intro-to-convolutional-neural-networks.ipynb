{
 "cells": [
  {
   "cell_type": "code",
   "execution_count": 1,
   "metadata": {
    "colab": {
     "base_uri": "https://localhost:8080/"
    },
    "id": "9dt9Nx25agrL",
    "outputId": "66620f22-36c8-4916-f49b-d82a68fc4494"
   },
   "outputs": [
    {
     "name": "stdout",
     "output_type": "stream",
     "text": [
      "Looking in indexes: https://pypi.org/simple, https://us-python.pkg.dev/colab-wheels/public/simple/\n",
      "Collecting pytorch-lightning\n",
      "  Downloading pytorch_lightning-1.7.7-py3-none-any.whl (708 kB)\n",
      "Collecting torchinfo\n",
      "  Downloading torchinfo-1.7.1-py3-none-any.whl (22 kB)\n",
      "Requirement already satisfied: PyYAML>=5.4 in /usr/local/lib/python3.7/dist-packages (from pytorch-lightning) (6.0)\n",
      "Requirement already satisfied: fsspec[http]!=2021.06.0,>=2021.05.0 in /usr/local/lib/python3.7/dist-packages (from pytorch-lightning) (2022.8.2)\n",
      "Requirement already satisfied: tensorboard>=2.9.1 in /usr/local/lib/python3.7/dist-packages (from pytorch-lightning) (2.9.1)\n",
      "Requirement already satisfied: torch>=1.9.* in /usr/local/lib/python3.7/dist-packages (from pytorch-lightning) (1.12.1+cu113)\n",
      "Collecting torchmetrics>=0.7.0\n",
      "  Downloading torchmetrics-0.10.0-py3-none-any.whl (529 kB)\n",
      "Collecting pyDeprecate>=0.3.1\n",
      "  Downloading pyDeprecate-0.3.2-py3-none-any.whl (10 kB)\n",
      "Requirement already satisfied: numpy>=1.17.2 in /usr/local/lib/python3.7/dist-packages (from pytorch-lightning) (1.21.6)\n",
      "Requirement already satisfied: typing-extensions>=4.0.0 in /usr/local/lib/python3.7/dist-packages (from pytorch-lightning) (4.1.1)\n",
      "Requirement already satisfied: tqdm>=4.57.0 in /usr/local/lib/python3.7/dist-packages (from pytorch-lightning) (4.64.1)\n",
      "Requirement already satisfied: packaging>=17.0 in /usr/local/lib/python3.7/dist-packages (from pytorch-lightning) (21.3)\n",
      "Requirement already satisfied: requests in /usr/local/lib/python3.7/dist-packages (from fsspec[http]!=2021.06.0,>=2021.05.0->pytorch-lightning) (2.23.0)\n",
      "Requirement already satisfied: aiohttp!=4.0.0a0,!=4.0.0a1 in /usr/local/lib/python3.7/dist-packages (from fsspec[http]!=2021.06.0,>=2021.05.0->pytorch-lightning) (3.8.3)\n",
      "Requirement already satisfied: yarl<2.0,>=1.0 in /usr/local/lib/python3.7/dist-packages (from aiohttp!=4.0.0a0,!=4.0.0a1->fsspec[http]!=2021.06.0,>=2021.05.0->pytorch-lightning) (1.8.1)\n",
      "Requirement already satisfied: attrs>=17.3.0 in /usr/local/lib/python3.7/dist-packages (from aiohttp!=4.0.0a0,!=4.0.0a1->fsspec[http]!=2021.06.0,>=2021.05.0->pytorch-lightning) (22.1.0)\n",
      "Requirement already satisfied: charset-normalizer<3.0,>=2.0 in /usr/local/lib/python3.7/dist-packages (from aiohttp!=4.0.0a0,!=4.0.0a1->fsspec[http]!=2021.06.0,>=2021.05.0->pytorch-lightning) (2.1.1)\n",
      "Requirement already satisfied: multidict<7.0,>=4.5 in /usr/local/lib/python3.7/dist-packages (from aiohttp!=4.0.0a0,!=4.0.0a1->fsspec[http]!=2021.06.0,>=2021.05.0->pytorch-lightning) (6.0.2)\n",
      "Requirement already satisfied: asynctest==0.13.0 in /usr/local/lib/python3.7/dist-packages (from aiohttp!=4.0.0a0,!=4.0.0a1->fsspec[http]!=2021.06.0,>=2021.05.0->pytorch-lightning) (0.13.0)\n",
      "Requirement already satisfied: async-timeout<5.0,>=4.0.0a3 in /usr/local/lib/python3.7/dist-packages (from aiohttp!=4.0.0a0,!=4.0.0a1->fsspec[http]!=2021.06.0,>=2021.05.0->pytorch-lightning) (4.0.2)\n",
      "Requirement already satisfied: frozenlist>=1.1.1 in /usr/local/lib/python3.7/dist-packages (from aiohttp!=4.0.0a0,!=4.0.0a1->fsspec[http]!=2021.06.0,>=2021.05.0->pytorch-lightning) (1.3.1)\n",
      "Requirement already satisfied: aiosignal>=1.1.2 in /usr/local/lib/python3.7/dist-packages (from aiohttp!=4.0.0a0,!=4.0.0a1->fsspec[http]!=2021.06.0,>=2021.05.0->pytorch-lightning) (1.2.0)\n",
      "Requirement already satisfied: pyparsing!=3.0.5,>=2.0.2 in /usr/local/lib/python3.7/dist-packages (from packaging>=17.0->pytorch-lightning) (3.0.9)\n",
      "Requirement already satisfied: google-auth-oauthlib<0.5,>=0.4.1 in /usr/local/lib/python3.7/dist-packages (from tensorboard>=2.9.1->pytorch-lightning) (0.4.6)\n",
      "Requirement already satisfied: markdown>=2.6.8 in /usr/local/lib/python3.7/dist-packages (from tensorboard>=2.9.1->pytorch-lightning) (3.4.1)\n",
      "Requirement already satisfied: absl-py>=0.4 in /usr/local/lib/python3.7/dist-packages (from tensorboard>=2.9.1->pytorch-lightning) (1.3.0)\n",
      "Requirement already satisfied: protobuf<3.20,>=3.9.2 in /usr/local/lib/python3.7/dist-packages (from tensorboard>=2.9.1->pytorch-lightning) (3.17.3)\n",
      "Requirement already satisfied: tensorboard-plugin-wit>=1.6.0 in /usr/local/lib/python3.7/dist-packages (from tensorboard>=2.9.1->pytorch-lightning) (1.8.1)\n",
      "Requirement already satisfied: setuptools>=41.0.0 in /usr/local/lib/python3.7/dist-packages (from tensorboard>=2.9.1->pytorch-lightning) (57.4.0)\n",
      "Requirement already satisfied: grpcio>=1.24.3 in /usr/local/lib/python3.7/dist-packages (from tensorboard>=2.9.1->pytorch-lightning) (1.49.1)\n",
      "Requirement already satisfied: werkzeug>=1.0.1 in /usr/local/lib/python3.7/dist-packages (from tensorboard>=2.9.1->pytorch-lightning) (1.0.1)\n",
      "Requirement already satisfied: tensorboard-data-server<0.7.0,>=0.6.0 in /usr/local/lib/python3.7/dist-packages (from tensorboard>=2.9.1->pytorch-lightning) (0.6.1)\n",
      "Requirement already satisfied: wheel>=0.26 in /usr/local/lib/python3.7/dist-packages (from tensorboard>=2.9.1->pytorch-lightning) (0.37.1)\n",
      "Requirement already satisfied: google-auth<3,>=1.6.3 in /usr/local/lib/python3.7/dist-packages (from tensorboard>=2.9.1->pytorch-lightning) (1.35.0)\n",
      "Requirement already satisfied: rsa<5,>=3.1.4 in /usr/local/lib/python3.7/dist-packages (from google-auth<3,>=1.6.3->tensorboard>=2.9.1->pytorch-lightning) (4.9)\n",
      "Requirement already satisfied: pyasn1-modules>=0.2.1 in /usr/local/lib/python3.7/dist-packages (from google-auth<3,>=1.6.3->tensorboard>=2.9.1->pytorch-lightning) (0.2.8)\n",
      "Requirement already satisfied: six>=1.9.0 in /usr/local/lib/python3.7/dist-packages (from google-auth<3,>=1.6.3->tensorboard>=2.9.1->pytorch-lightning) (1.15.0)\n",
      "Requirement already satisfied: cachetools<5.0,>=2.0.0 in /usr/local/lib/python3.7/dist-packages (from google-auth<3,>=1.6.3->tensorboard>=2.9.1->pytorch-lightning) (4.2.4)\n",
      "Requirement already satisfied: requests-oauthlib>=0.7.0 in /usr/local/lib/python3.7/dist-packages (from google-auth-oauthlib<0.5,>=0.4.1->tensorboard>=2.9.1->pytorch-lightning) (1.3.1)\n",
      "Requirement already satisfied: importlib-metadata>=4.4 in /usr/local/lib/python3.7/dist-packages (from markdown>=2.6.8->tensorboard>=2.9.1->pytorch-lightning) (4.13.0)\n",
      "Requirement already satisfied: zipp>=0.5 in /usr/local/lib/python3.7/dist-packages (from importlib-metadata>=4.4->markdown>=2.6.8->tensorboard>=2.9.1->pytorch-lightning) (3.9.0)\n",
      "Requirement already satisfied: pyasn1<0.5.0,>=0.4.6 in /usr/local/lib/python3.7/dist-packages (from pyasn1-modules>=0.2.1->google-auth<3,>=1.6.3->tensorboard>=2.9.1->pytorch-lightning) (0.4.8)\n",
      "Requirement already satisfied: chardet<4,>=3.0.2 in /usr/local/lib/python3.7/dist-packages (from requests->fsspec[http]!=2021.06.0,>=2021.05.0->pytorch-lightning) (3.0.4)\n",
      "Requirement already satisfied: idna<3,>=2.5 in /usr/local/lib/python3.7/dist-packages (from requests->fsspec[http]!=2021.06.0,>=2021.05.0->pytorch-lightning) (2.10)\n",
      "Requirement already satisfied: urllib3!=1.25.0,!=1.25.1,<1.26,>=1.21.1 in /usr/local/lib/python3.7/dist-packages (from requests->fsspec[http]!=2021.06.0,>=2021.05.0->pytorch-lightning) (1.24.3)\n",
      "Requirement already satisfied: certifi>=2017.4.17 in /usr/local/lib/python3.7/dist-packages (from requests->fsspec[http]!=2021.06.0,>=2021.05.0->pytorch-lightning) (2022.9.24)\n",
      "Requirement already satisfied: oauthlib>=3.0.0 in /usr/local/lib/python3.7/dist-packages (from requests-oauthlib>=0.7.0->google-auth-oauthlib<0.5,>=0.4.1->tensorboard>=2.9.1->pytorch-lightning) (3.2.1)\n",
      "Installing collected packages: torchmetrics, pyDeprecate, torchinfo, pytorch-lightning\n",
      "Successfully installed pyDeprecate-0.3.2 pytorch-lightning-1.7.7 torchinfo-1.7.1 torchmetrics-0.10.0\n"
     ]
    }
   ],
   "source": [
    "%%bash\n",
    "\n",
    "pip install pytorch-lightning torchinfo"
   ]
  },
  {
   "cell_type": "code",
   "execution_count": 96,
   "metadata": {
    "id": "LHcPcwziu-GU"
   },
   "outputs": [],
   "source": [
    "import functools\n",
    "\n",
    "import pytorch_lightning as pl\n",
    "from sklearn import datasets as skdatasets \n",
    "import torch\n",
    "from torch import nn, optim, utils\n",
    "import torchinfo\n",
    "import torchmetrics\n",
    "import torchvision\n",
    "from torchvision import datasets as tvdatasets\n",
    "from torchvision import models, transforms"
   ]
  },
  {
   "cell_type": "markdown",
   "metadata": {
    "id": "ErqX2Nrbu4Fa"
   },
   "source": [
    "## Implementing Convolutional Layers in PyTorch"
   ]
  },
  {
   "cell_type": "code",
   "execution_count": null,
   "metadata": {
    "id": "hY6yaPBEu8wb"
   },
   "outputs": [],
   "source": [
    "nn.Conv1d?"
   ]
  },
  {
   "cell_type": "code",
   "execution_count": 25,
   "metadata": {
    "id": "92wDbxPYu87b"
   },
   "outputs": [],
   "source": [
    "nn.Conv2d?"
   ]
  },
  {
   "cell_type": "code",
   "execution_count": null,
   "metadata": {
    "id": "vi-3M08GvQAl"
   },
   "outputs": [],
   "source": [
    "nn.Conv3d?"
   ]
  },
  {
   "cell_type": "code",
   "execution_count": 3,
   "metadata": {
    "id": "EAufja4Pwl6k"
   },
   "outputs": [],
   "source": [
    "samples = skdatasets.load_sample_images()"
   ]
  },
  {
   "cell_type": "code",
   "execution_count": 41,
   "metadata": {
    "id": "kuAXwunn0SRr"
   },
   "outputs": [],
   "source": [
    "torch.from_numpy?"
   ]
  },
  {
   "cell_type": "code",
   "execution_count": 4,
   "metadata": {
    "id": "hZpPbxRaxB3y"
   },
   "outputs": [],
   "source": [
    "image_tensors = torch.stack([torch.from_numpy(img / 255).float() for img in samples[\"images\"]], dim=0)"
   ]
  },
  {
   "cell_type": "code",
   "execution_count": 5,
   "metadata": {
    "colab": {
     "base_uri": "https://localhost:8080/"
    },
    "id": "3YYXhfGcxb4U",
    "outputId": "925726ef-4fdd-4fb2-8adf-ef0c73409491"
   },
   "outputs": [
    {
     "data": {
      "text/plain": [
       "torch.Size([2, 427, 640, 3])"
      ]
     },
     "execution_count": 5,
     "metadata": {},
     "output_type": "execute_result"
    }
   ],
   "source": [
    "image_tensors.shape"
   ]
  },
  {
   "cell_type": "code",
   "execution_count": 6,
   "metadata": {
    "colab": {
     "base_uri": "https://localhost:8080/"
    },
    "id": "fScIvIXV0ZQo",
    "outputId": "4a2cc9d8-3043-4360-a985-9139f37582a2"
   },
   "outputs": [
    {
     "data": {
      "text/plain": [
       "torch.float32"
      ]
     },
     "execution_count": 6,
     "metadata": {},
     "output_type": "execute_result"
    }
   ],
   "source": [
    "image_tensors.dtype"
   ]
  },
  {
   "cell_type": "code",
   "execution_count": 7,
   "metadata": {
    "id": "HtbVPrR9vQM8"
   },
   "outputs": [],
   "source": [
    "conv_2d = nn.Conv2d(\n",
    "    in_channels=3,\n",
    "    out_channels=32,\n",
    "    kernel_size=7,\n",
    "    stride=1,\n",
    ")"
   ]
  },
  {
   "cell_type": "code",
   "execution_count": 46,
   "metadata": {
    "colab": {
     "base_uri": "https://localhost:8080/",
     "height": 312
    },
    "id": "0lxgIitdxrgI",
    "outputId": "e828bd4c-af8c-41bd-c6b6-c4556a5e0822"
   },
   "outputs": [
    {
     "ename": "RuntimeError",
     "evalue": "ignored",
     "output_type": "error",
     "traceback": [
      "\u001b[0;31m---------------------------------------------------------------------------\u001b[0m",
      "\u001b[0;31mRuntimeError\u001b[0m                              Traceback (most recent call last)",
      "\u001b[0;32m<ipython-input-46-8eb3bf915188>\u001b[0m in \u001b[0;36m<module>\u001b[0;34m\u001b[0m\n\u001b[0;32m----> 1\u001b[0;31m \u001b[0mconv_2d\u001b[0m\u001b[0;34m(\u001b[0m\u001b[0mimage_tensors\u001b[0m\u001b[0;34m)\u001b[0m\u001b[0;34m\u001b[0m\u001b[0;34m\u001b[0m\u001b[0m\n\u001b[0m",
      "\u001b[0;32m/usr/local/lib/python3.7/dist-packages/torch/nn/modules/module.py\u001b[0m in \u001b[0;36m_call_impl\u001b[0;34m(self, *input, **kwargs)\u001b[0m\n\u001b[1;32m   1128\u001b[0m         if not (self._backward_hooks or self._forward_hooks or self._forward_pre_hooks or _global_backward_hooks\n\u001b[1;32m   1129\u001b[0m                 or _global_forward_hooks or _global_forward_pre_hooks):\n\u001b[0;32m-> 1130\u001b[0;31m             \u001b[0;32mreturn\u001b[0m \u001b[0mforward_call\u001b[0m\u001b[0;34m(\u001b[0m\u001b[0;34m*\u001b[0m\u001b[0minput\u001b[0m\u001b[0;34m,\u001b[0m \u001b[0;34m**\u001b[0m\u001b[0mkwargs\u001b[0m\u001b[0;34m)\u001b[0m\u001b[0;34m\u001b[0m\u001b[0;34m\u001b[0m\u001b[0m\n\u001b[0m\u001b[1;32m   1131\u001b[0m         \u001b[0;31m# Do not call functions when jit is used\u001b[0m\u001b[0;34m\u001b[0m\u001b[0;34m\u001b[0m\u001b[0;34m\u001b[0m\u001b[0m\n\u001b[1;32m   1132\u001b[0m         \u001b[0mfull_backward_hooks\u001b[0m\u001b[0;34m,\u001b[0m \u001b[0mnon_full_backward_hooks\u001b[0m \u001b[0;34m=\u001b[0m \u001b[0;34m[\u001b[0m\u001b[0;34m]\u001b[0m\u001b[0;34m,\u001b[0m \u001b[0;34m[\u001b[0m\u001b[0;34m]\u001b[0m\u001b[0;34m\u001b[0m\u001b[0;34m\u001b[0m\u001b[0m\n",
      "\u001b[0;32m/usr/local/lib/python3.7/dist-packages/torch/nn/modules/conv.py\u001b[0m in \u001b[0;36mforward\u001b[0;34m(self, input)\u001b[0m\n\u001b[1;32m    455\u001b[0m \u001b[0;34m\u001b[0m\u001b[0m\n\u001b[1;32m    456\u001b[0m     \u001b[0;32mdef\u001b[0m \u001b[0mforward\u001b[0m\u001b[0;34m(\u001b[0m\u001b[0mself\u001b[0m\u001b[0;34m,\u001b[0m \u001b[0minput\u001b[0m\u001b[0;34m:\u001b[0m \u001b[0mTensor\u001b[0m\u001b[0;34m)\u001b[0m \u001b[0;34m->\u001b[0m \u001b[0mTensor\u001b[0m\u001b[0;34m:\u001b[0m\u001b[0;34m\u001b[0m\u001b[0;34m\u001b[0m\u001b[0m\n\u001b[0;32m--> 457\u001b[0;31m         \u001b[0;32mreturn\u001b[0m \u001b[0mself\u001b[0m\u001b[0;34m.\u001b[0m\u001b[0m_conv_forward\u001b[0m\u001b[0;34m(\u001b[0m\u001b[0minput\u001b[0m\u001b[0;34m,\u001b[0m \u001b[0mself\u001b[0m\u001b[0;34m.\u001b[0m\u001b[0mweight\u001b[0m\u001b[0;34m,\u001b[0m \u001b[0mself\u001b[0m\u001b[0;34m.\u001b[0m\u001b[0mbias\u001b[0m\u001b[0;34m)\u001b[0m\u001b[0;34m\u001b[0m\u001b[0;34m\u001b[0m\u001b[0m\n\u001b[0m\u001b[1;32m    458\u001b[0m \u001b[0;34m\u001b[0m\u001b[0m\n\u001b[1;32m    459\u001b[0m \u001b[0;32mclass\u001b[0m \u001b[0mConv3d\u001b[0m\u001b[0;34m(\u001b[0m\u001b[0m_ConvNd\u001b[0m\u001b[0;34m)\u001b[0m\u001b[0;34m:\u001b[0m\u001b[0;34m\u001b[0m\u001b[0;34m\u001b[0m\u001b[0m\n",
      "\u001b[0;32m/usr/local/lib/python3.7/dist-packages/torch/nn/modules/conv.py\u001b[0m in \u001b[0;36m_conv_forward\u001b[0;34m(self, input, weight, bias)\u001b[0m\n\u001b[1;32m    452\u001b[0m                             _pair(0), self.dilation, self.groups)\n\u001b[1;32m    453\u001b[0m         return F.conv2d(input, weight, bias, self.stride,\n\u001b[0;32m--> 454\u001b[0;31m                         self.padding, self.dilation, self.groups)\n\u001b[0m\u001b[1;32m    455\u001b[0m \u001b[0;34m\u001b[0m\u001b[0m\n\u001b[1;32m    456\u001b[0m     \u001b[0;32mdef\u001b[0m \u001b[0mforward\u001b[0m\u001b[0;34m(\u001b[0m\u001b[0mself\u001b[0m\u001b[0;34m,\u001b[0m \u001b[0minput\u001b[0m\u001b[0;34m:\u001b[0m \u001b[0mTensor\u001b[0m\u001b[0;34m)\u001b[0m \u001b[0;34m->\u001b[0m \u001b[0mTensor\u001b[0m\u001b[0;34m:\u001b[0m\u001b[0;34m\u001b[0m\u001b[0;34m\u001b[0m\u001b[0m\n",
      "\u001b[0;31mRuntimeError\u001b[0m: Given groups=1, weight of size [32, 3, 7, 7], expected input[2, 427, 640, 3] to have 3 channels, but got 427 channels instead"
     ]
    }
   ],
   "source": [
    "conv_2d(image_tensors)"
   ]
  },
  {
   "cell_type": "code",
   "execution_count": 8,
   "metadata": {
    "id": "4Ibq8ng5xwJl"
   },
   "outputs": [],
   "source": [
    "output = conv_2d(image_tensors.permute(0, 3, 1, 2))"
   ]
  },
  {
   "cell_type": "code",
   "execution_count": 9,
   "metadata": {
    "colab": {
     "base_uri": "https://localhost:8080/"
    },
    "id": "Ro_UUiWM0wdA",
    "outputId": "ccfb1a98-a905-4303-9bbc-459449594dcb"
   },
   "outputs": [
    {
     "data": {
      "text/plain": [
       "torch.Size([2, 32, 421, 634])"
      ]
     },
     "execution_count": 9,
     "metadata": {},
     "output_type": "execute_result"
    }
   ],
   "source": [
    "output.shape"
   ]
  },
  {
   "cell_type": "code",
   "execution_count": 11,
   "metadata": {
    "id": "cJip54KF0wmX"
   },
   "outputs": [],
   "source": [
    "conv_2d = nn.Conv2d(\n",
    "    in_channels=3,\n",
    "    out_channels=32,\n",
    "    kernel_size=7,\n",
    "    stride=1,\n",
    "    padding=\"same\",\n",
    ")"
   ]
  },
  {
   "cell_type": "code",
   "execution_count": 12,
   "metadata": {
    "id": "CKznq8Bp1sUf"
   },
   "outputs": [],
   "source": [
    "output = conv_2d(image_tensors.permute(0, 3, 1, 2))"
   ]
  },
  {
   "cell_type": "code",
   "execution_count": 13,
   "metadata": {
    "colab": {
     "base_uri": "https://localhost:8080/"
    },
    "id": "V5ZCNco_1u-C",
    "outputId": "6d0f8650-c225-4a84-b551-fef74a547b02"
   },
   "outputs": [
    {
     "data": {
      "text/plain": [
       "torch.Size([2, 32, 427, 640])"
      ]
     },
     "execution_count": 13,
     "metadata": {},
     "output_type": "execute_result"
    }
   ],
   "source": [
    "output.shape"
   ]
  },
  {
   "cell_type": "markdown",
   "metadata": {
    "id": "Cr3vTmXm_6YZ"
   },
   "source": [
    "## Implemententing pooling layers using PyTorch"
   ]
  },
  {
   "cell_type": "code",
   "execution_count": 14,
   "metadata": {
    "id": "bwsKft5___eL"
   },
   "outputs": [],
   "source": [
    "nn.MaxPool2d?"
   ]
  },
  {
   "cell_type": "code",
   "execution_count": 16,
   "metadata": {
    "id": "7waV__HVaaxu"
   },
   "outputs": [],
   "source": [
    "max_pool2d = nn.MaxPool2d(\n",
    "    kernel_size=(2, 2),\n",
    ")"
   ]
  },
  {
   "cell_type": "code",
   "execution_count": 17,
   "metadata": {
    "id": "duzs3GRA__oU"
   },
   "outputs": [],
   "source": [
    "pooling_output = max_pool2d(output)"
   ]
  },
  {
   "cell_type": "code",
   "execution_count": 18,
   "metadata": {
    "colab": {
     "base_uri": "https://localhost:8080/"
    },
    "id": "-28ijbCh__yK",
    "outputId": "50dbae57-f149-417d-bb82-cb382e9ecccd"
   },
   "outputs": [
    {
     "data": {
      "text/plain": [
       "torch.Size([2, 32, 213, 320])"
      ]
     },
     "execution_count": 18,
     "metadata": {},
     "output_type": "execute_result"
    }
   ],
   "source": [
    "pooling_output.shape"
   ]
  },
  {
   "cell_type": "code",
   "execution_count": 19,
   "metadata": {
    "colab": {
     "base_uri": "https://localhost:8080/"
    },
    "id": "XfVB4YDvCnpk",
    "outputId": "b6df2546-20e3-43fb-c613-a6b08f999291"
   },
   "outputs": [
    {
     "data": {
      "text/plain": [
       "tensor([[[[ 7.2376e-02,  2.1506e-01,  2.5275e-02,  ...,  9.1908e-02,\n",
       "            9.2018e-02,  4.2687e-02],\n",
       "          [-5.4077e-02,  1.1178e-01, -1.3067e-01,  ..., -1.0762e-01,\n",
       "           -1.0695e-01,  3.0905e-02],\n",
       "          [-3.0231e-01, -1.3830e-01, -3.6894e-01,  ..., -4.1644e-01,\n",
       "           -3.8630e-01, -3.9329e-02],\n",
       "          ...,\n",
       "          [-2.3289e-02,  1.4141e-01,  4.9261e-02,  ...,  5.8869e-02,\n",
       "            4.6144e-02,  5.0668e-02],\n",
       "          [-2.2873e-02,  1.6420e-01, -4.4328e-02,  ...,  9.1813e-02,\n",
       "            1.0529e-01,  8.5742e-02],\n",
       "          [ 1.6500e-03,  7.8455e-02, -2.4727e-02,  ...,  5.6867e-03,\n",
       "            6.9745e-02,  7.3705e-02]],\n",
       "\n",
       "         [[ 4.1219e-01,  5.3866e-01,  4.7820e-01,  ...,  5.2357e-01,\n",
       "            7.3557e-01,  7.7411e-01],\n",
       "          [ 5.1151e-01,  7.3702e-01,  6.1543e-01,  ...,  6.7340e-01,\n",
       "            8.2792e-01,  1.0369e+00],\n",
       "          [ 5.1014e-01,  7.3778e-01,  6.1733e-01,  ...,  6.7640e-01,\n",
       "            8.3277e-01,  1.0385e+00],\n",
       "          ...,\n",
       "          [ 1.7026e-01,  2.3569e-01,  1.5158e-01,  ...,  6.0089e-02,\n",
       "            1.1928e-01,  7.2776e-02],\n",
       "          [ 1.9002e-01,  2.9414e-01,  1.4572e-01,  ...,  9.1677e-02,\n",
       "            1.2549e-01,  7.7001e-02],\n",
       "          [ 1.9189e-01,  2.6448e-01,  1.0799e-01,  ...,  5.5412e-02,\n",
       "            9.2690e-02,  8.4689e-02]],\n",
       "\n",
       "         [[-3.8618e-02, -1.0732e-01, -1.6500e-01,  ..., -1.5065e-01,\n",
       "           -1.5219e-01,  3.2703e-02],\n",
       "          [-1.9888e-01, -1.6563e-01, -1.6569e-01,  ..., -1.2771e-01,\n",
       "           -1.2694e-01,  1.2930e-01],\n",
       "          [-1.9689e-01, -1.6284e-01, -1.6304e-01,  ..., -1.2467e-01,\n",
       "           -1.2546e-01,  1.2921e-01],\n",
       "          ...,\n",
       "          [ 9.3519e-02,  1.2212e-01,  6.5928e-02,  ..., -1.9963e-02,\n",
       "           -2.3560e-02, -2.1492e-02],\n",
       "          [ 8.8325e-02,  5.9853e-02,  4.4196e-02,  ...,  7.3200e-03,\n",
       "           -3.8526e-02, -1.7902e-02],\n",
       "          [ 6.3820e-02,  6.5601e-02,  1.1618e-01,  ..., -1.9867e-02,\n",
       "            1.2435e-02,  1.4227e-02]],\n",
       "\n",
       "         ...,\n",
       "\n",
       "         [[-2.0568e-01, -3.7180e-01, -5.2952e-01,  ..., -6.4807e-01,\n",
       "           -6.1909e-01, -3.0060e-01],\n",
       "          [ 1.0732e-01, -2.2183e-01, -4.1947e-01,  ..., -5.2339e-01,\n",
       "           -5.2375e-01, -3.5664e-01],\n",
       "          [ 1.0942e-01, -3.1999e-01, -5.5485e-01,  ..., -6.8455e-01,\n",
       "           -6.8167e-01, -3.9252e-01],\n",
       "          ...,\n",
       "          [-6.9219e-02, -1.6837e-01, -1.9941e-01,  ..., -6.0290e-02,\n",
       "           -5.5219e-02, -4.6525e-02],\n",
       "          [-9.6287e-03, -1.2236e-01, -1.9524e-01,  ..., -3.1156e-02,\n",
       "           -6.5837e-02, -8.0749e-02],\n",
       "          [-5.6343e-03, -8.5100e-02, -1.1086e-01,  ..., -1.4601e-02,\n",
       "           -2.3587e-02, -6.7521e-02]],\n",
       "\n",
       "         [[-4.0590e-01, -3.9513e-01, -3.9557e-01,  ..., -4.5645e-01,\n",
       "           -3.0913e-01, -1.2165e-01],\n",
       "          [-4.4535e-01, -4.2801e-01, -4.2899e-01,  ..., -5.7858e-01,\n",
       "           -3.6361e-01, -5.4954e-02],\n",
       "          [-6.0621e-01, -5.1728e-01, -5.1810e-01,  ..., -6.9407e-01,\n",
       "           -4.6822e-01, -5.5801e-02],\n",
       "          ...,\n",
       "          [-3.4763e-01, -3.2008e-01, -2.5722e-01,  ..., -8.6137e-02,\n",
       "           -6.3340e-02, -6.7622e-02],\n",
       "          [-3.8847e-01, -2.8469e-01, -2.8801e-01,  ..., -7.6030e-02,\n",
       "           -5.9458e-02, -3.2704e-02],\n",
       "          [-3.7314e-01, -2.6844e-01, -2.6487e-01,  ..., -8.8965e-02,\n",
       "           -7.7100e-02, -5.5060e-02]],\n",
       "\n",
       "         [[-1.0054e-01, -1.4490e-01, -3.6645e-01,  ..., -4.7506e-01,\n",
       "           -4.7701e-01, -2.8450e-01],\n",
       "          [-1.0246e-01, -1.6065e-01, -3.9343e-01,  ..., -5.2108e-01,\n",
       "           -5.0617e-01, -3.3449e-01],\n",
       "          [-3.1374e-01, -3.2356e-01, -5.1634e-01,  ..., -6.4173e-01,\n",
       "           -5.7914e-01, -3.3155e-01],\n",
       "          ...,\n",
       "          [-7.2729e-02, -9.6022e-04, -1.3016e-01,  ..., -1.1469e-02,\n",
       "           -3.7651e-02, -1.5431e-02],\n",
       "          [-2.4443e-02, -1.7814e-02, -9.2173e-02,  ..., -4.0386e-04,\n",
       "           -5.2147e-03, -2.3082e-02],\n",
       "          [-2.3560e-02,  7.5214e-03, -8.3865e-02,  ..., -2.0099e-02,\n",
       "            1.0806e-02, -3.8483e-02]]],\n",
       "\n",
       "\n",
       "        [[[ 4.0796e-02,  4.6195e-02,  4.1416e-02,  ..., -3.2841e-02,\n",
       "           -3.0732e-02, -5.3113e-03],\n",
       "          [ 3.4795e-02,  3.9826e-02,  2.7988e-02,  ..., -6.6721e-02,\n",
       "           -6.0987e-02,  4.1771e-03],\n",
       "          [ 1.8720e-02,  3.0300e-02,  6.9678e-03,  ..., -8.8671e-02,\n",
       "           -8.7930e-02,  5.6522e-03],\n",
       "          ...,\n",
       "          [-2.6325e-02, -4.8879e-03, -3.3462e-02,  ..., -8.7976e-03,\n",
       "           -2.9671e-03,  4.3311e-02],\n",
       "          [-2.5266e-02,  1.1134e-03, -3.4076e-02,  ..., -9.0326e-03,\n",
       "           -8.2080e-03,  4.0551e-02],\n",
       "          [-3.5129e-03,  2.5527e-02, -6.6546e-03,  ...,  9.2852e-03,\n",
       "            9.8868e-03,  6.2213e-02]],\n",
       "\n",
       "         [[ 4.7167e-02,  6.3553e-02,  5.5755e-02,  ...,  1.5399e-01,\n",
       "            1.6896e-01,  2.0520e-01],\n",
       "          [ 4.5290e-02,  6.1521e-02,  5.9708e-02,  ...,  1.7680e-01,\n",
       "            2.0144e-01,  2.7453e-01],\n",
       "          [ 4.4076e-02,  6.3605e-02,  6.3398e-02,  ...,  1.7577e-01,\n",
       "            1.9634e-01,  2.7137e-01],\n",
       "          ...,\n",
       "          [ 5.8305e-02,  1.1339e-01,  1.1133e-01,  ...,  7.1706e-02,\n",
       "            1.0011e-01,  1.4024e-01],\n",
       "          [ 5.3736e-02,  1.1163e-01,  1.0793e-01,  ...,  6.7727e-02,\n",
       "            1.0575e-01,  1.4441e-01],\n",
       "          [ 8.3534e-02,  1.1936e-01,  1.2546e-01,  ...,  8.9955e-02,\n",
       "            1.2312e-01,  1.4880e-01]],\n",
       "\n",
       "         [[-2.5148e-02, -3.8857e-02, -3.9159e-02,  ..., -8.8941e-02,\n",
       "           -9.0485e-02, -3.1711e-02],\n",
       "          [-3.4704e-02, -3.7835e-02, -4.0969e-02,  ..., -7.1771e-02,\n",
       "           -7.3764e-02,  2.2682e-03],\n",
       "          [-3.3400e-02, -3.6543e-02, -3.6967e-02,  ..., -7.1822e-02,\n",
       "           -7.0547e-02,  1.5222e-03],\n",
       "          ...,\n",
       "          [-6.1318e-02, -5.3272e-02, -5.5524e-02,  ..., -2.8556e-02,\n",
       "           -2.8499e-02, -6.6976e-03],\n",
       "          [-5.9890e-02, -5.4303e-02, -5.4125e-02,  ..., -3.1423e-02,\n",
       "           -3.1490e-02, -8.2133e-03],\n",
       "          [-2.5618e-02, -1.7904e-02, -1.8144e-02,  ..., -6.0081e-03,\n",
       "           -9.1022e-03,  1.7428e-02]],\n",
       "\n",
       "         ...,\n",
       "\n",
       "         [[-6.9215e-02, -7.1763e-02, -8.5185e-02,  ..., -1.2806e-01,\n",
       "           -1.2805e-01, -5.4235e-02],\n",
       "          [-5.3121e-02, -6.2619e-02, -7.3800e-02,  ..., -1.0872e-01,\n",
       "           -1.0698e-01, -7.1372e-02],\n",
       "          [-5.4071e-02, -7.1058e-02, -8.4404e-02,  ..., -1.3820e-01,\n",
       "           -1.3348e-01, -8.9150e-02],\n",
       "          ...,\n",
       "          [-1.3837e-02, -8.2495e-02, -1.0414e-01,  ..., -8.9133e-02,\n",
       "           -9.2309e-02, -6.3028e-02],\n",
       "          [-1.6899e-02, -8.0560e-02, -1.0208e-01,  ..., -8.8036e-02,\n",
       "           -9.2200e-02, -6.0114e-02],\n",
       "          [ 2.8849e-02, -3.9254e-02, -7.6762e-02,  ..., -7.5767e-02,\n",
       "           -7.7513e-02, -7.3270e-02]],\n",
       "\n",
       "         [[-9.1649e-02, -9.1184e-02, -9.1607e-02,  ..., -1.5659e-01,\n",
       "           -9.4002e-02, -7.8930e-02],\n",
       "          [-9.2628e-02, -9.3446e-02, -9.2701e-02,  ..., -1.1654e-01,\n",
       "           -3.8680e-02, -4.4800e-02],\n",
       "          [-1.0287e-01, -1.0317e-01, -1.0176e-01,  ..., -1.3863e-01,\n",
       "           -6.3332e-02, -6.2004e-02],\n",
       "          ...,\n",
       "          [-1.1502e-01, -1.1619e-01, -1.1449e-01,  ..., -1.2653e-01,\n",
       "           -8.6680e-02, -6.1855e-02],\n",
       "          [-1.1570e-01, -1.1810e-01, -1.1614e-01,  ..., -1.2652e-01,\n",
       "           -8.4726e-02, -5.8327e-02],\n",
       "          [-1.0936e-01, -1.2423e-01, -1.1962e-01,  ..., -1.3157e-01,\n",
       "           -8.5472e-02, -7.6023e-02]],\n",
       "\n",
       "         [[-7.7961e-03, -8.2181e-03, -1.4735e-02,  ...,  8.8369e-03,\n",
       "            9.9964e-03,  1.3425e-02],\n",
       "          [-3.2936e-03, -3.0020e-04, -7.6462e-03,  ...,  4.5159e-02,\n",
       "            4.5658e-02, -1.6796e-03],\n",
       "          [-1.0312e-02, -1.1083e-02, -2.7192e-02,  ..., -9.4486e-03,\n",
       "           -7.7377e-03, -2.0584e-02],\n",
       "          ...,\n",
       "          [ 2.9130e-02,  1.2382e-02, -4.0477e-04,  ...,  9.1850e-03,\n",
       "            2.3992e-03, -1.1929e-02],\n",
       "          [ 2.8549e-02,  1.2800e-02, -1.9123e-03,  ...,  1.3312e-02,\n",
       "            3.7105e-03, -9.2744e-03],\n",
       "          [ 5.2770e-02,  4.1259e-02,  2.0077e-02,  ...,  2.9290e-02,\n",
       "            2.3528e-02,  7.2836e-03]]]],\n",
       "       grad_fn=<MaxPool2DWithIndicesBackward0>)"
      ]
     },
     "execution_count": 19,
     "metadata": {},
     "output_type": "execute_result"
    }
   ],
   "source": [
    "pooling_output"
   ]
  },
  {
   "cell_type": "code",
   "execution_count": null,
   "metadata": {
    "id": "xOUQxTcE__3-"
   },
   "outputs": [],
   "source": [
    "nn.AvgPool2d?"
   ]
  },
  {
   "cell_type": "code",
   "execution_count": 21,
   "metadata": {
    "id": "3vNAL-Z6a_ob"
   },
   "outputs": [],
   "source": [
    "avg_pool2d = nn.AvgPool2d(\n",
    "    kernel_size=(2,2)\n",
    ")"
   ]
  },
  {
   "cell_type": "code",
   "execution_count": 22,
   "metadata": {
    "id": "2V-RnbfXAAMI"
   },
   "outputs": [],
   "source": [
    "pooling_output = avg_pool2d(output)"
   ]
  },
  {
   "cell_type": "code",
   "execution_count": 23,
   "metadata": {
    "colab": {
     "base_uri": "https://localhost:8080/"
    },
    "id": "oc24ukZ7ClBu",
    "outputId": "19a40f5d-1db6-4ea5-abba-9aaf8a2020a2"
   },
   "outputs": [
    {
     "data": {
      "text/plain": [
       "torch.Size([2, 32, 213, 320])"
      ]
     },
     "execution_count": 23,
     "metadata": {},
     "output_type": "execute_result"
    }
   ],
   "source": [
    "pooling_output.shape"
   ]
  },
  {
   "cell_type": "code",
   "execution_count": 24,
   "metadata": {
    "colab": {
     "base_uri": "https://localhost:8080/"
    },
    "id": "h2x9RH3dClF-",
    "outputId": "814fd865-d158-4ad4-faf2-4bdbb03f4a02"
   },
   "outputs": [
    {
     "data": {
      "text/plain": [
       "tensor([[[[ 3.4042e-02,  9.2201e-02, -1.6822e-02,  ...,  4.4551e-02,\n",
       "           -2.6486e-03, -5.6350e-02],\n",
       "          [-2.6518e-01, -1.3307e-01, -2.5182e-01,  ..., -2.6361e-01,\n",
       "           -2.8184e-01, -4.1560e-02],\n",
       "          [-3.9794e-01, -2.5465e-01, -3.7131e-01,  ..., -4.1697e-01,\n",
       "           -4.0180e-01, -8.0626e-02],\n",
       "          ...,\n",
       "          [-9.5800e-02,  7.5253e-02,  1.1992e-02,  ...,  4.6022e-02,\n",
       "            2.5520e-02,  3.1696e-02],\n",
       "          [-1.0466e-01,  5.4003e-02, -5.9730e-02,  ...,  4.9257e-02,\n",
       "            7.5727e-02,  5.8748e-02],\n",
       "          [-1.3883e-01,  3.8080e-02, -5.0989e-02,  ..., -1.3622e-02,\n",
       "            4.8583e-02,  5.6620e-02]],\n",
       "\n",
       "         [[ 2.2253e-01,  4.3096e-01,  4.1515e-01,  ...,  4.4072e-01,\n",
       "            5.6786e-01,  7.1584e-01],\n",
       "          [ 2.3861e-01,  5.7364e-01,  5.4233e-01,  ...,  5.7510e-01,\n",
       "            6.7484e-01,  9.5485e-01],\n",
       "          [ 3.1128e-01,  6.7648e-01,  6.1560e-01,  ...,  6.7449e-01,\n",
       "            7.5338e-01,  1.0215e+00],\n",
       "          ...,\n",
       "          [ 1.0729e-01,  1.9414e-01,  1.3819e-01,  ...,  3.2667e-02,\n",
       "            8.2071e-02,  5.8344e-02],\n",
       "          [ 1.0782e-01,  1.9169e-01,  7.1161e-02,  ...,  6.8201e-02,\n",
       "            9.9486e-02,  6.2834e-02],\n",
       "          [ 9.8042e-02,  1.4258e-01,  8.0469e-02,  ...,  5.0104e-03,\n",
       "            6.9932e-02,  7.7669e-02]],\n",
       "\n",
       "         [[-1.9575e-01, -1.6330e-01, -1.6646e-01,  ..., -1.5646e-01,\n",
       "           -1.6766e-01, -8.3392e-02],\n",
       "          [-2.6489e-01, -2.2111e-01, -2.1070e-01,  ..., -1.8205e-01,\n",
       "           -2.1405e-01,  6.2051e-02],\n",
       "          [-2.2336e-01, -1.6878e-01, -1.6438e-01,  ..., -1.2610e-01,\n",
       "           -1.4088e-01,  1.1957e-01],\n",
       "          ...,\n",
       "          [ 4.1069e-02,  4.5624e-02,  4.2941e-02,  ..., -3.4801e-02,\n",
       "           -3.7508e-02, -2.7123e-02],\n",
       "          [ 7.8656e-02,  2.6780e-02,  3.0745e-02,  ..., -3.3977e-03,\n",
       "           -4.5572e-02, -3.2851e-02],\n",
       "          [ 4.1163e-02,  3.5793e-02,  5.2547e-02,  ..., -6.4492e-02,\n",
       "           -3.8516e-03, -2.2872e-04]],\n",
       "\n",
       "         ...,\n",
       "\n",
       "         [[-3.8810e-01, -5.7804e-01, -6.7891e-01,  ..., -8.3227e-01,\n",
       "           -7.9498e-01, -4.4149e-01],\n",
       "          [-6.2481e-02, -3.8042e-01, -4.8810e-01,  ..., -6.0513e-01,\n",
       "           -6.3180e-01, -4.1945e-01],\n",
       "          [-4.8422e-02, -4.3762e-01, -5.5664e-01,  ..., -6.8718e-01,\n",
       "           -6.8470e-01, -4.6792e-01],\n",
       "          ...,\n",
       "          [-1.3444e-01, -2.1355e-01, -2.5882e-01,  ..., -1.0912e-01,\n",
       "           -7.0776e-02, -5.7326e-02],\n",
       "          [-9.2254e-02, -1.7953e-01, -2.5737e-01,  ..., -9.2492e-02,\n",
       "           -1.1032e-01, -1.1037e-01],\n",
       "          [-5.9605e-02, -1.7823e-01, -1.6360e-01,  ..., -5.2241e-02,\n",
       "           -5.7793e-02, -7.1251e-02]],\n",
       "\n",
       "         [[-4.2148e-01, -4.7995e-01, -4.9102e-01,  ..., -5.8960e-01,\n",
       "           -4.8918e-01, -2.2152e-01],\n",
       "          [-5.4941e-01, -5.2805e-01, -4.7553e-01,  ..., -6.3734e-01,\n",
       "           -5.2689e-01, -1.0681e-01],\n",
       "          [-6.1252e-01, -5.9291e-01, -5.2125e-01,  ..., -6.9567e-01,\n",
       "           -5.8207e-01, -1.0762e-01],\n",
       "          ...,\n",
       "          [-3.9747e-01, -3.9101e-01, -2.9282e-01,  ..., -9.5923e-02,\n",
       "           -8.2746e-02, -7.2293e-02],\n",
       "          [-4.2170e-01, -3.6280e-01, -3.3436e-01,  ..., -1.0102e-01,\n",
       "           -7.9496e-02, -5.0622e-02],\n",
       "          [-3.9957e-01, -3.4239e-01, -2.9030e-01,  ..., -1.1540e-01,\n",
       "           -1.0003e-01, -8.7831e-02]],\n",
       "\n",
       "         [[-1.8540e-01, -2.7852e-01, -3.7993e-01,  ..., -4.9604e-01,\n",
       "           -5.0043e-01, -3.6792e-01],\n",
       "          [-2.3247e-01, -3.4816e-01, -4.5428e-01,  ..., -5.8114e-01,\n",
       "           -5.6193e-01, -3.6876e-01],\n",
       "          [-3.1843e-01, -4.2048e-01, -5.1818e-01,  ..., -6.4219e-01,\n",
       "           -6.1084e-01, -3.4530e-01],\n",
       "          ...,\n",
       "          [-8.9075e-02, -1.0684e-01, -1.5041e-01,  ..., -3.3406e-02,\n",
       "           -4.8703e-02, -3.0346e-02],\n",
       "          [-7.0320e-02, -6.9962e-02, -1.5129e-01,  ..., -5.1120e-02,\n",
       "           -2.4943e-02, -3.0048e-02],\n",
       "          [-6.1669e-02, -2.4881e-02, -1.1252e-01,  ..., -3.5431e-02,\n",
       "           -1.4340e-02, -4.9410e-02]]],\n",
       "\n",
       "\n",
       "        [[[ 3.4670e-02,  3.6014e-02,  3.4846e-02,  ..., -5.6920e-02,\n",
       "           -6.2709e-02, -3.3913e-02],\n",
       "          [ 1.9926e-02,  2.8755e-02,  1.8287e-02,  ..., -7.8656e-02,\n",
       "           -9.0875e-02, -2.4377e-02],\n",
       "          [ 9.4523e-03,  2.1670e-02,  6.4261e-03,  ..., -8.9313e-02,\n",
       "           -9.8566e-02, -1.8647e-02],\n",
       "          ...,\n",
       "          [-4.7827e-02, -1.9864e-02, -3.5638e-02,  ..., -1.0616e-02,\n",
       "           -8.9805e-03,  3.4401e-02],\n",
       "          [-4.8725e-02, -1.8920e-02, -3.5667e-02,  ..., -1.0895e-02,\n",
       "           -1.3926e-02,  3.0735e-02],\n",
       "          [-3.6578e-02,  3.5912e-03, -9.6420e-03,  ...,  7.5629e-03,\n",
       "            6.7621e-03,  4.4183e-02]],\n",
       "\n",
       "         [[ 3.1965e-02,  5.2959e-02,  4.8699e-02,  ...,  1.3559e-01,\n",
       "            1.4498e-01,  1.8700e-01],\n",
       "          [ 2.7767e-02,  5.4764e-02,  5.4062e-02,  ...,  1.6905e-01,\n",
       "            1.8222e-01,  2.6164e-01],\n",
       "          [ 3.0466e-02,  6.0868e-02,  6.2353e-02,  ...,  1.7202e-01,\n",
       "            1.8039e-01,  2.6359e-01],\n",
       "          ...,\n",
       "          [ 2.2433e-02,  1.0332e-01,  1.1060e-01,  ...,  6.8929e-02,\n",
       "            8.4574e-02,  1.3843e-01],\n",
       "          [ 1.9575e-02,  1.0006e-01,  1.0625e-01,  ...,  6.6313e-02,\n",
       "            8.8722e-02,  1.4205e-01],\n",
       "          [ 4.2363e-02,  1.0327e-01,  1.1270e-01,  ...,  8.0988e-02,\n",
       "            9.6318e-02,  1.3845e-01]],\n",
       "\n",
       "         [[-3.6643e-02, -4.1491e-02, -4.2559e-02,  ..., -9.9754e-02,\n",
       "           -1.1036e-01, -6.0592e-02],\n",
       "          [-4.1121e-02, -4.4191e-02, -4.8060e-02,  ..., -1.0372e-01,\n",
       "           -1.2221e-01, -3.7111e-02],\n",
       "          [-3.7355e-02, -3.8556e-02, -3.8866e-02,  ..., -7.2353e-02,\n",
       "           -8.6355e-02, -5.0269e-03],\n",
       "          ...,\n",
       "          [-6.5715e-02, -5.9337e-02, -5.8127e-02,  ..., -3.0407e-02,\n",
       "           -3.9469e-02, -9.5262e-03],\n",
       "          [-6.4819e-02, -5.9064e-02, -5.6421e-02,  ..., -3.2347e-02,\n",
       "           -4.1951e-02, -1.0579e-02],\n",
       "          [-4.0490e-02, -2.6870e-02, -2.1030e-02,  ..., -8.5713e-03,\n",
       "           -1.6422e-02,  8.5682e-03]],\n",
       "\n",
       "         ...,\n",
       "\n",
       "         [[-7.9123e-02, -8.7905e-02, -9.7493e-02,  ..., -1.7989e-01,\n",
       "           -1.7572e-01, -9.5088e-02],\n",
       "          [-5.8363e-02, -7.2182e-02, -7.9196e-02,  ..., -1.2729e-01,\n",
       "           -1.3285e-01, -8.8777e-02],\n",
       "          [-6.1138e-02, -7.9033e-02, -8.6209e-02,  ..., -1.4135e-01,\n",
       "           -1.4402e-01, -1.0015e-01],\n",
       "          ...,\n",
       "          [-3.7091e-02, -9.5957e-02, -1.0696e-01,  ..., -9.0941e-02,\n",
       "           -9.7848e-02, -6.8230e-02],\n",
       "          [-3.6918e-02, -9.4854e-02, -1.0587e-01,  ..., -9.0125e-02,\n",
       "           -9.7629e-02, -6.6004e-02],\n",
       "          [-3.4226e-03, -7.1950e-02, -8.5550e-02,  ..., -8.3420e-02,\n",
       "           -9.5692e-02, -9.0741e-02]],\n",
       "\n",
       "         [[-9.5225e-02, -9.8416e-02, -9.9089e-02,  ..., -1.7637e-01,\n",
       "           -1.3916e-01, -9.8457e-02],\n",
       "          [-9.9653e-02, -1.0282e-01, -9.7577e-02,  ..., -1.3003e-01,\n",
       "           -9.1653e-02, -6.0716e-02],\n",
       "          [-1.0658e-01, -1.0955e-01, -1.0517e-01,  ..., -1.4112e-01,\n",
       "           -1.0127e-01, -6.8137e-02],\n",
       "          ...,\n",
       "          [-1.2613e-01, -1.3182e-01, -1.1768e-01,  ..., -1.3040e-01,\n",
       "           -1.0983e-01, -7.1482e-02],\n",
       "          [-1.2586e-01, -1.3371e-01, -1.1956e-01,  ..., -1.2923e-01,\n",
       "           -1.0898e-01, -6.9761e-02],\n",
       "          [-1.2267e-01, -1.3392e-01, -1.2304e-01,  ..., -1.3328e-01,\n",
       "           -1.1168e-01, -8.2418e-02]],\n",
       "\n",
       "         [[-1.3092e-02, -1.5010e-02, -2.0047e-02,  ...,  5.6393e-03,\n",
       "            4.2525e-04, -4.7299e-02],\n",
       "          [-9.7871e-03, -9.0920e-03, -1.7552e-02,  ...,  1.7085e-02,\n",
       "            3.3429e-03, -5.3876e-02],\n",
       "          [-1.3183e-02, -1.7650e-02, -2.9965e-02,  ..., -1.0753e-02,\n",
       "           -1.9590e-02, -5.8074e-02],\n",
       "          ...,\n",
       "          [ 2.7585e-02,  3.6285e-03, -1.2550e-03,  ...,  6.2857e-03,\n",
       "           -6.3752e-03, -2.5415e-02],\n",
       "          [ 2.6225e-02,  2.4340e-03, -4.3974e-03,  ...,  1.0629e-02,\n",
       "           -3.9716e-03, -2.4465e-02],\n",
       "          [ 2.6883e-02,  1.7544e-02,  9.7238e-03,  ...,  1.7245e-02,\n",
       "           -8.8742e-04, -1.2718e-02]]]], grad_fn=<AvgPool2DBackward0>)"
      ]
     },
     "execution_count": 24,
     "metadata": {},
     "output_type": "execute_result"
    }
   ],
   "source": [
    "pooling_output"
   ]
  },
  {
   "cell_type": "markdown",
   "metadata": {
    "id": "rz_vmvFqbPjm"
   },
   "source": [
    "# Implementing a Deep CNN using PyTorch"
   ]
  },
  {
   "cell_type": "markdown",
   "metadata": {
    "id": "eMBkFUibbdDR"
   },
   "source": [
    "## Loading and Preprocessing the Data"
   ]
  },
  {
   "cell_type": "code",
   "execution_count": 70,
   "metadata": {
    "id": "x5vHuSlfhTVX"
   },
   "outputs": [],
   "source": [
    "class MNISTDataModule(pl.LightningDataModule):\n",
    "\n",
    "    def __init__(self, data_dir, batch_size):\n",
    "        super().__init__()\n",
    "\n",
    "        self.batch_size = batch_size\n",
    "        self.data_dir = data_dir\n",
    "        self.dims = (1, 28, 28)\n",
    "        self.num_classes = 10\n",
    "        self.transform = transforms.Compose(\n",
    "            [\n",
    "                transforms.RandomRotation(degrees=15),\n",
    "                transforms.ToTensor(),\n",
    "            ]\n",
    "        )\n",
    "\n",
    "    def prepare_data(self):\n",
    "\n",
    "        _ = tvdatasets.MNIST(\n",
    "            self.data_dir,\n",
    "            download=True,\n",
    "            train=True,\n",
    "        )\n",
    "\n",
    "        _ = tvdatasets.MNIST(\n",
    "            self.data_dir,\n",
    "            download=True,\n",
    "            train=False,\n",
    "        )\n",
    "\n",
    "    def setup(self, stage=None):\n",
    "\n",
    "        # assign train/val datasets for use in dataloaders\n",
    "        if stage == \"fit\" or stage is None:\n",
    "            _train_dataset = tvdatasets.MNIST(\n",
    "                self.data_dir,\n",
    "                train=True,\n",
    "                transform=self.transform,\n",
    "                download=False\n",
    "            )\n",
    "            self.train, self.val = utils.data.random_split(\n",
    "                _train_dataset,\n",
    "                lengths = [48000, 12000]\n",
    "            )\n",
    "\n",
    "        # assign test dataset for use in dataloader\n",
    "        if stage == \"test\" or stage is None:\n",
    "            self.test = tvdatasets.MNIST(\n",
    "                self.data_dir,\n",
    "                train=False,\n",
    "                transform=self.transform,\n",
    "                download=False\n",
    "            )\n",
    "\n",
    "    def train_dataloader(self):\n",
    "        return utils.data.DataLoader(\n",
    "            self.train,\n",
    "            batch_size=self.batch_size,\n",
    "            shuffle=True,\n",
    "        )\n",
    "\n",
    "    def val_dataloader(self):\n",
    "        return utils.data.DataLoader(\n",
    "            self.val,\n",
    "            batch_size=self.batch_size,\n",
    "            shuffle=False,\n",
    "        )\n",
    "\n",
    "    def test_dataloader(self):\n",
    "        return utils.data.DataLoader(\n",
    "            self.test,\n",
    "            batch_size=self.batch_size,\n",
    "            shuffle=False,\n",
    "        )\n",
    "\n",
    "    def predict_dataloader(self):\n",
    "        return utils.data.DataLoader(\n",
    "            self.test,\n",
    "            batch_size=self.batch_size,\n",
    "            shuffle=False,\n",
    "        )\n"
   ]
  },
  {
   "cell_type": "markdown",
   "metadata": {
    "id": "xUVTedBxbVb1"
   },
   "source": [
    "## Typical CNN implementation"
   ]
  },
  {
   "cell_type": "code",
   "execution_count": 81,
   "metadata": {
    "id": "P68lmS6BbZXc"
   },
   "outputs": [],
   "source": [
    "class LightningClassifier(pl.LightningModule):\n",
    "\n",
    "    def __init__(self, lr=1e-2, momentum=0, nesterov=False):\n",
    "        super().__init__()\n",
    "\n",
    "        self.model_fn = nn.Sequential(\n",
    "            *self.make_conv2d_layer(1, 64, (7, 7)),\n",
    "            nn.MaxPool2d(kernel_size=(2, 2)),\n",
    "            *self.make_conv2d_layer(64, 128),\n",
    "            *self.make_conv2d_layer(128, 128),\n",
    "            nn.MaxPool2d(kernel_size=(2, 2)),\n",
    "            *self.make_conv2d_layer(128, 256),\n",
    "            *self.make_conv2d_layer(256, 256),\n",
    "            nn.MaxPool2d(kernel_size=(2, 2)),\n",
    "            nn.Flatten(),\n",
    "            *self.make_linear_layer(1024, 128),\n",
    "            nn.Dropout(0.5),\n",
    "            *self.make_linear_layer(128, 64),\n",
    "            nn.Dropout(0.5),\n",
    "            nn.Linear(64, 10),\n",
    "            nn.Softmax(dim=1)\n",
    "        )\n",
    "\n",
    "        self.loss_fn = nn.NLLLoss()\n",
    "\n",
    "        self.train_accuracy = (torchmetrics.classification\n",
    "                                           .MulticlassAccuracy(10))\n",
    "        self.val_accuracy = (torchmetrics.classification\n",
    "                                         .MulticlassAccuracy(10))\n",
    "        self.test_accuracy = (torchmetrics.classification\n",
    "                                          .MulticlassAccuracy(10))\n",
    "\n",
    "        self.lr = lr\n",
    "        self.momentum=momentum\n",
    "        self.nesterov=nesterov\n",
    "\n",
    "    @staticmethod\n",
    "    def make_conv2d_layer(in_channels, out_channels, kernel_size=(3, 3)):\n",
    "        conv2d = nn.Conv2d(\n",
    "            in_channels,\n",
    "            out_channels,\n",
    "            kernel_size,\n",
    "            padding=\"same\",\n",
    "        )\n",
    "        nn.init.kaiming_normal_(conv2d.weight)\n",
    "        nn.init.constant_(conv2d.bias, 0.0)\n",
    "        return conv2d, nn.ReLU()\n",
    "\n",
    "    @staticmethod\n",
    "    def make_linear_layer(in_features, out_features):\n",
    "        linear = nn.Linear(in_features, out_features)\n",
    "        nn.init.kaiming_normal_(linear.weight)\n",
    "        nn.init.constant_(linear.bias, 0.0)\n",
    "        return linear, nn.ReLU()\n",
    "\n",
    "    def forward(self, X):\n",
    "        output = self.model_fn(X)\n",
    "        return output\n",
    "\n",
    "    def training_step(self, batch, batch_idx):\n",
    "        X, y = batch\n",
    "        logits = self.forward(X)\n",
    "        loss = self.loss_fn(logits, y)\n",
    "        acc = self.val_accuracy(logits, y)\n",
    "        self.log(\"train_loss\", loss, prog_bar=True)\n",
    "        self.log(\"train_acc\", acc, prog_bar=True)\n",
    "        return loss\n",
    "\n",
    "    def validation_step(self, batch, batch_idx):\n",
    "        X, y = batch\n",
    "        logits = self.forward(X)\n",
    "        loss = self.loss_fn(logits, y)\n",
    "        acc = self.val_accuracy(logits, y)\n",
    "        self.log(\"val_loss\", loss, prog_bar=True)\n",
    "        self.log(\"val_acc\", acc, prog_bar=True)\n",
    "        return loss\n",
    "\n",
    "    def test_step(self, batch, batch_idx):\n",
    "        X, y = batch\n",
    "        logits = self.forward(X)\n",
    "        loss = self.loss_fn(logits, y)\n",
    "        acc = self.test_accuracy(logits, y)\n",
    "        self.log(\"test_loss\", loss, prog_bar=True)\n",
    "        self.log(\"test_acc\", acc, prog_bar=True)\n",
    "        return loss\n",
    "\n",
    "    def predict_step(self, batch, batch_idx, dataloader_idx=0):\n",
    "        X, _ = batch\n",
    "        logits = self.forward(X)\n",
    "        y_hat = torch.argmax(logits, dim=1)\n",
    "        return y_hat\n",
    "\n",
    "    def configure_optimizers(self):\n",
    "        _optimizer_hyperparameters = {\n",
    "            \"lr\": self.lr,\n",
    "            \"momentum\": self.momentum,\n",
    "            \"nesterov\": self.nesterov,\n",
    "        }\n",
    "        optimizer = optim.SGD(\n",
    "            self.parameters(),\n",
    "            **_optimizer_hyperparameters\n",
    "        )\n",
    "        return optimizer\n",
    "\n"
   ]
  },
  {
   "cell_type": "code",
   "execution_count": 82,
   "metadata": {
    "colab": {
     "base_uri": "https://localhost:8080/"
    },
    "id": "9PMG7XnwggHp",
    "outputId": "ccab4ea6-a26c-419c-9168-da7b66c76e19"
   },
   "outputs": [
    {
     "name": "stderr",
     "output_type": "stream",
     "text": [
      "INFO:pytorch_lightning.utilities.rank_zero:GPU available: False, used: False\n",
      "INFO:pytorch_lightning.utilities.rank_zero:TPU available: False, using: 0 TPU cores\n",
      "INFO:pytorch_lightning.utilities.rank_zero:IPU available: False, using: 0 IPUs\n",
      "INFO:pytorch_lightning.utilities.rank_zero:HPU available: False, using: 0 HPUs\n"
     ]
    }
   ],
   "source": [
    "_optimizer_hyperparameters = {\n",
    "    \"momentum\": 0.0,\n",
    "    \"nesterov\": False,\n",
    "}\n",
    "classifier = LightningClassifier(**_optimizer_hyperparameters)\n",
    "\n",
    "_trainer_kwargs = {\n",
    "    \"callbacks\": [\n",
    "        pl.callbacks.early_stopping.EarlyStopping(\"val_loss\", mode=\"min\"),\n",
    "    ],\n",
    "    \"max_epochs\": 100\n",
    "}\n",
    "trainer = pl.Trainer(**_trainer_kwargs)"
   ]
  },
  {
   "cell_type": "code",
   "execution_count": 83,
   "metadata": {
    "colab": {
     "base_uri": "https://localhost:8080/"
    },
    "id": "AYqauCudgccs",
    "outputId": "1a0d6390-831c-40f4-c688-a387984ab364"
   },
   "outputs": [
    {
     "data": {
      "text/plain": [
       "=================================================================\n",
       "Layer (type:depth-idx)                   Param #\n",
       "=================================================================\n",
       "LightningClassifier                      --\n",
       "├─Sequential: 1-1                        --\n",
       "│    └─Conv2d: 2-1                       3,200\n",
       "│    └─ReLU: 2-2                         --\n",
       "│    └─MaxPool2d: 2-3                    --\n",
       "│    └─Conv2d: 2-4                       73,856\n",
       "│    └─ReLU: 2-5                         --\n",
       "│    └─Conv2d: 2-6                       147,584\n",
       "│    └─ReLU: 2-7                         --\n",
       "│    └─MaxPool2d: 2-8                    --\n",
       "│    └─Conv2d: 2-9                       295,168\n",
       "│    └─ReLU: 2-10                        --\n",
       "│    └─Conv2d: 2-11                      590,080\n",
       "│    └─ReLU: 2-12                        --\n",
       "│    └─MaxPool2d: 2-13                   --\n",
       "│    └─Flatten: 2-14                     --\n",
       "│    └─Linear: 2-15                      131,200\n",
       "│    └─ReLU: 2-16                        --\n",
       "│    └─Dropout: 2-17                     --\n",
       "│    └─Linear: 2-18                      8,256\n",
       "│    └─ReLU: 2-19                        --\n",
       "│    └─Dropout: 2-20                     --\n",
       "│    └─Linear: 2-21                      650\n",
       "│    └─Softmax: 2-22                     --\n",
       "├─NLLLoss: 1-2                           --\n",
       "├─MulticlassAccuracy: 1-3                --\n",
       "=================================================================\n",
       "Total params: 1,249,994\n",
       "Trainable params: 1,249,994\n",
       "Non-trainable params: 0\n",
       "================================================================="
      ]
     },
     "execution_count": 83,
     "metadata": {},
     "output_type": "execute_result"
    }
   ],
   "source": [
    "torchinfo.summary(classifier, input_shape=(32, 1, 28, 28))"
   ]
  },
  {
   "cell_type": "code",
   "execution_count": 84,
   "metadata": {
    "id": "DCtEtWKAhMU0"
   },
   "outputs": [],
   "source": [
    "datamodule = MNISTDataModule(\"./sample_data\", batch_size=32)"
   ]
  },
  {
   "cell_type": "code",
   "execution_count": 85,
   "metadata": {
    "colab": {
     "base_uri": "https://localhost:8080/",
     "height": 292,
     "referenced_widgets": [
      "953e07d5397949efad83426737d0d69e",
      "045779416108445790670366b3dae6ce",
      "0c05decbb2a64148a1329695116b2f78",
      "b62e36e981b7414fa640e6b7194a7e4c",
      "ad13ea31d67a498daaa405c508fa1719",
      "c5d02aacc1a14bf3a0b575f8f77f7c4c",
      "5e3791eeeb5e4e8683c63cecb1d68540",
      "84be8dcf68b143e1aca4c80720dd039a",
      "96a29ea70aca4671a6495bf70837534f",
      "719d76b4ed8c4e8abda0f2c5d01ce3ae",
      "90230c4ef55b4c3eb131a2c6ef574879",
      "77d3b699900345639b431aa6e25be252",
      "7a353f33d27746209a0e1966b17cb13e",
      "3ae63508735c4dfa86de64ef258a609d",
      "809bc8edf3914b4894c2203b23ef708b",
      "c304997fff38442a9399ae54540ad97a",
      "3af9728e0c2f4d13bf20e34220a67204",
      "6a5f202faaf54fe2899cba22fc67c4a8",
      "b1c369f3ee774e1aa30380ec0a0d6b92",
      "9bbaf72ca65d4ba9992da0e98d0704a3",
      "fae2e87d2c38424686196c5599853760",
      "f242cad459fc4dd9af6284fa313e2543"
     ]
    },
    "id": "3vX1GC5nhMbX",
    "outputId": "506e1737-9592-4086-b995-aafd992603e9"
   },
   "outputs": [
    {
     "name": "stderr",
     "output_type": "stream",
     "text": [
      "WARNING:pytorch_lightning.loggers.tensorboard:Missing logger folder: /content/lightning_logs\n",
      "INFO:pytorch_lightning.callbacks.model_summary:\n",
      "  | Name     | Type               | Params\n",
      "------------------------------------------------\n",
      "0 | model_fn | Sequential         | 1.2 M \n",
      "1 | loss_fn  | NLLLoss            | 0     \n",
      "2 | accuracy | MulticlassAccuracy | 0     \n",
      "------------------------------------------------\n",
      "1.2 M     Trainable params\n",
      "0         Non-trainable params\n",
      "1.2 M     Total params\n",
      "5.000     Total estimated model params size (MB)\n"
     ]
    },
    {
     "data": {
      "application/vnd.jupyter.widget-view+json": {
       "model_id": "953e07d5397949efad83426737d0d69e",
       "version_major": 2,
       "version_minor": 0
      },
      "text/plain": [
       "Sanity Checking: 0it [00:00, ?it/s]"
      ]
     },
     "metadata": {},
     "output_type": "display_data"
    },
    {
     "data": {
      "application/vnd.jupyter.widget-view+json": {
       "model_id": "77d3b699900345639b431aa6e25be252",
       "version_major": 2,
       "version_minor": 0
      },
      "text/plain": [
       "Training: 0it [00:00, ?it/s]"
      ]
     },
     "metadata": {},
     "output_type": "display_data"
    },
    {
     "name": "stderr",
     "output_type": "stream",
     "text": [
      "/usr/local/lib/python3.7/dist-packages/pytorch_lightning/trainer/trainer.py:653: UserWarning: Detected KeyboardInterrupt, attempting graceful shutdown...\n",
      "  rank_zero_warn(\"Detected KeyboardInterrupt, attempting graceful shutdown...\")\n"
     ]
    }
   ],
   "source": [
    "trainer.fit(\n",
    "    model=classifier,\n",
    "    datamodule=datamodule,\n",
    ")"
   ]
  },
  {
   "cell_type": "code",
   "execution_count": null,
   "metadata": {
    "id": "rTmfKtL4hMiZ"
   },
   "outputs": [],
   "source": []
  },
  {
   "cell_type": "code",
   "execution_count": null,
   "metadata": {
    "id": "6tSUGgGQc6zC"
   },
   "outputs": [],
   "source": []
  },
  {
   "cell_type": "markdown",
   "metadata": {
    "id": "8YpOy4w3bU_z"
   },
   "source": [
    "### LeNet Architecture"
   ]
  },
  {
   "cell_type": "code",
   "execution_count": null,
   "metadata": {
    "id": "fXvCzbAlc7Yd"
   },
   "outputs": [],
   "source": []
  },
  {
   "cell_type": "code",
   "execution_count": null,
   "metadata": {
    "id": "fWboa33vk7iD"
   },
   "outputs": [],
   "source": []
  },
  {
   "cell_type": "markdown",
   "metadata": {
    "id": "w4i9YZ1fk8Kx"
   },
   "source": [
    "### AlexNet"
   ]
  },
  {
   "cell_type": "code",
   "execution_count": null,
   "metadata": {
    "id": "BAItGLYXkUr6"
   },
   "outputs": [],
   "source": [
    "nn.AdaptiveAvgPool2d?"
   ]
  },
  {
   "cell_type": "code",
   "execution_count": null,
   "metadata": {
    "id": "_zI1iFeBk-jQ"
   },
   "outputs": [],
   "source": [
    "nn.LocalResponseNorm?"
   ]
  },
  {
   "cell_type": "code",
   "execution_count": null,
   "metadata": {
    "id": "iOhrifIIlEEz"
   },
   "outputs": [],
   "source": [
    "models.alexnet?"
   ]
  },
  {
   "cell_type": "code",
   "execution_count": null,
   "metadata": {
    "id": "kQ7oZp0DlZJP"
   },
   "outputs": [],
   "source": []
  },
  {
   "cell_type": "markdown",
   "metadata": {
    "id": "QorZQiXmlOSB"
   },
   "source": [
    "### GoogLeNet"
   ]
  },
  {
   "cell_type": "code",
   "execution_count": null,
   "metadata": {
    "id": "wsoSTUiEliAI"
   },
   "outputs": [],
   "source": [
    "models.googlenet?"
   ]
  },
  {
   "cell_type": "code",
   "execution_count": null,
   "metadata": {
    "id": "dJBrgtAb8e8X"
   },
   "outputs": [],
   "source": [
    "models.inception_v3?"
   ]
  },
  {
   "cell_type": "code",
   "execution_count": null,
   "metadata": {
    "id": "52rXpHTb8fF1"
   },
   "outputs": [],
   "source": []
  },
  {
   "cell_type": "markdown",
   "metadata": {
    "id": "hu89iuj_lsiw"
   },
   "source": [
    "### VGGNet"
   ]
  },
  {
   "cell_type": "code",
   "execution_count": 42,
   "metadata": {
    "id": "g0C1o9_MliI4"
   },
   "outputs": [],
   "source": [
    "models.vgg11?"
   ]
  },
  {
   "cell_type": "code",
   "execution_count": null,
   "metadata": {
    "id": "X2JlHzQemIb8"
   },
   "outputs": [],
   "source": []
  },
  {
   "cell_type": "markdown",
   "metadata": {
    "id": "snpRw4CfmJET"
   },
   "source": [
    "### ResNet"
   ]
  },
  {
   "cell_type": "code",
   "execution_count": null,
   "metadata": {
    "id": "Pl9dHrU7liLv"
   },
   "outputs": [],
   "source": [
    "models.resnet50?"
   ]
  },
  {
   "cell_type": "markdown",
   "metadata": {
    "id": "ROKNZVPlmVLp"
   },
   "source": [
    "### ResNeXt"
   ]
  },
  {
   "cell_type": "code",
   "execution_count": 44,
   "metadata": {
    "id": "Yv36JqmRliOj"
   },
   "outputs": [],
   "source": [
    "models.resnext50_32x4d?"
   ]
  },
  {
   "cell_type": "markdown",
   "metadata": {
    "id": "_RMDDpdYm2Mi"
   },
   "source": [
    "### EfficientNet"
   ]
  },
  {
   "cell_type": "code",
   "execution_count": 46,
   "metadata": {
    "id": "vkcskzP9m4y7"
   },
   "outputs": [],
   "source": [
    "models.efficientnet_v2_m?"
   ]
  },
  {
   "cell_type": "markdown",
   "metadata": {
    "id": "cLKNbqfoax2h"
   },
   "source": [
    "### Coding a ResNet from scratch using PyTorch\n"
   ]
  },
  {
   "cell_type": "code",
   "execution_count": 97,
   "metadata": {
    "id": "P2EmMZssZNUd"
   },
   "outputs": [],
   "source": [
    "class ResidualUnit(nn.Module):\n",
    "\n",
    "    def __init__(self, in_channels, out_channels, stride):\n",
    "        super().__init__()\n",
    "\n",
    "        self.main_layers = [\n",
    "            self.make_conv2d_layer(in_channels, out_channels, stride=stride),\n",
    "            nn.BatchNorm2d(),\n",
    "            nn.ReLU(),\n",
    "            self.make_conv2d_layer(out_channels, out_channels, stride=stride),\n",
    "            nn.BatchNorm2d(),\n",
    "        ]\n",
    "\n",
    "        if stride > 1:\n",
    "            self.skip_layers = [\n",
    "                self.make_conv2d_layer(\n",
    "                    in_channels,\n",
    "                    out_channels,\n",
    "                    kernel_size=(1, 1),\n",
    "                    stride=stride\n",
    "                ),\n",
    "                nn.BatchNorm2d()\n",
    "            ]\n",
    "        else:\n",
    "            self.skip_layers = []\n",
    "\n",
    "    @staticmethod\n",
    "    def make_conv2d_layer(in_channels, out_channels, kernel_size=(3, 3), stride=1):\n",
    "        conv2d = nn.Conv2d(\n",
    "            in_channels,\n",
    "            out_channels,\n",
    "            kernel_size,\n",
    "            stride=stride,\n",
    "            padding=\"same\",\n",
    "            bais=False,\n",
    "        )\n",
    "        nn.init.kaiming_normal_(conv2d.weight)\n",
    "        nn.init.constant_(conv2d.bias, 0.0)\n",
    "        return conv2d\n",
    "\n",
    "    def forward(self, X):\n",
    "        Z0 = functools.reduce(lambda Z, f: f(Z), self.main_layers, X)\n",
    "        Z1 = functools.reduce(lambda Z, f: f(Z), self.skip_layers, X)\n",
    "        return nn.ReLU()(Z0 + Z1)\n",
    "\n",
    "\n",
    "class LightningClassifier(pl.LightningModule):\n",
    "\n",
    "    def __init__(self, lr=1e-2, momentum=0, nesterov=False):\n",
    "        super().__init__()\n",
    "\n",
    "        model = nn.Sequential(\n",
    "            self.make_conv2d_layer(3, 64, kernel_size=(7, 7), stride=2),\n",
    "            nn.ReLU(),\n",
    "            nn.MaxPool2d(kernel_size=(3, 3), stride=2, padding=\"same\"),\n",
    "        )\n",
    "\n",
    "        in_channels = 64\n",
    "        for out_channels in [64] * 3 + [128] * 4 + [256] * 6 + [512] * 3:\n",
    "            stride = 1 if out_channels == in_channels else 2\n",
    "            model.add(ResidualUnit(in_channels, out_channels, stride=stride))\n",
    "            in_channels = out_channels\n",
    "\n",
    "        model.add(nn.AdaptiveAvgPool2d(output_size=(1, 1)))\n",
    "        model.add(nn.Flatten())\n",
    "        model.add(self.make_linear_layer(512, 10))\n",
    "        model.add(nn.Softmax(dim=1))\n",
    "\n",
    "        self.loss_fn = nn.NLLLoss()\n",
    "\n",
    "        self.train_accuracy = (torchmetrics.classification\n",
    "                                           .MulticlassAccuracy(10))\n",
    "        self.val_accuracy = (torchmetrics.classification\n",
    "                                         .MulticlassAccuracy(10))\n",
    "        self.test_accuracy = (torchmetrics.classification\n",
    "                                          .MulticlassAccuracy(10))\n",
    "\n",
    "        self.lr = lr\n",
    "        self.momentum=momentum\n",
    "        self.nesterov=nesterov\n",
    "\n",
    "    @staticmethod\n",
    "    def make_conv2d_layer(in_channels, out_channels, kernel_size=(3, 3)):\n",
    "        conv2d = nn.Conv2d(\n",
    "            in_channels,\n",
    "            out_channels,\n",
    "            kernel_size,\n",
    "            padding=\"same\",\n",
    "        )\n",
    "        nn.init.kaiming_normal_(conv2d.weight)\n",
    "        nn.init.constant_(conv2d.bias, 0.0)\n",
    "        return conv2d\n",
    "\n",
    "    @staticmethod\n",
    "    def make_linear_layer(in_features, out_features):\n",
    "        linear = nn.Linear(in_features, out_features)\n",
    "        nn.init.kaiming_normal_(linear.weight)\n",
    "        nn.init.constant_(linear.bias, 0.0)\n",
    "        return linear\n",
    "\n",
    "    def forward(self, X):\n",
    "        output = self.model_fn(X)\n",
    "        return output\n",
    "\n",
    "    def training_step(self, batch, batch_idx):\n",
    "        X, y = batch\n",
    "        logits = self.forward(X)\n",
    "        loss = self.loss_fn(logits, y)\n",
    "        acc = self.val_accuracy(logits, y)\n",
    "        self.log(\"train_loss\", loss, prog_bar=True)\n",
    "        self.log(\"train_acc\", acc, prog_bar=True)\n",
    "        return loss\n",
    "\n",
    "    def validation_step(self, batch, batch_idx):\n",
    "        X, y = batch\n",
    "        logits = self.forward(X)\n",
    "        loss = self.loss_fn(logits, y)\n",
    "        acc = self.val_accuracy(logits, y)\n",
    "        self.log(\"val_loss\", loss, prog_bar=True)\n",
    "        self.log(\"val_acc\", acc, prog_bar=True)\n",
    "        return loss\n",
    "\n",
    "    def test_step(self, batch, batch_idx):\n",
    "        X, y = batch\n",
    "        logits = self.forward(X)\n",
    "        loss = self.loss_fn(logits, y)\n",
    "        acc = self.test_accuracy(logits, y)\n",
    "        self.log(\"test_loss\", loss, prog_bar=True)\n",
    "        self.log(\"test_acc\", acc, prog_bar=True)\n",
    "        return loss\n",
    "\n",
    "    def predict_step(self, batch, batch_idx, dataloader_idx=0):\n",
    "        X, _ = batch\n",
    "        logits = self.forward(X)\n",
    "        y_hat = torch.argmax(logits, dim=1)\n",
    "        return y_hat\n",
    "\n",
    "    def configure_optimizers(self):\n",
    "        _optimizer_hyperparameters = {\n",
    "            \"lr\": self.lr,\n",
    "            \"momentum\": self.momentum,\n",
    "            \"nesterov\": self.nesterov,\n",
    "        }\n",
    "        optimizer = optim.SGD(\n",
    "            self.parameters(),\n",
    "            **_optimizer_hyperparameters\n",
    "        )\n",
    "        return optimizer\n",
    "\n"
   ]
  },
  {
   "cell_type": "code",
   "execution_count": null,
   "metadata": {
    "id": "GM0lV37ZZNYi"
   },
   "outputs": [],
   "source": [
    "models."
   ]
  },
  {
   "cell_type": "markdown",
   "metadata": {
    "id": "N3F0uVTpa-Dc"
   },
   "source": [
    "# Transfer Learning with PyTorch"
   ]
  },
  {
   "cell_type": "code",
   "execution_count": 89,
   "metadata": {
    "colab": {
     "base_uri": "https://localhost:8080/",
     "height": 156,
     "referenced_widgets": [
      "d3948a7b0ae5475da563019371e7d3e6",
      "df49fae0ef8649f391a49d58f7760b32",
      "b7e588b7d1564dcb9b6cbb66bfc5bc85",
      "4197721caf5c4443aa9b1d235e413849",
      "085a3f5b5e0d45169ac2f172a9c87880",
      "7d3148c2783a4067a2527a63fd63496e",
      "6715bee2ff864aa4bcd5b7e905c2aaee",
      "21a47868a4cc4f2bbc393a61622a0406",
      "adc64b836afb4974a1836aaae283c798",
      "9eff621298f9417aa2cb4553c198ced6",
      "785b6563a81f4cddb067321514bc8d02"
     ]
    },
    "id": "6ag8xcUrAq8F",
    "outputId": "691c595e-e16a-4f77-a37a-d57c120293c2"
   },
   "outputs": [
    {
     "name": "stderr",
     "output_type": "stream",
     "text": [
      "/usr/local/lib/python3.7/dist-packages/torchvision/models/_utils.py:209: UserWarning: The parameter 'pretrained' is deprecated since 0.13 and will be removed in 0.15, please use 'weights' instead.\n",
      "  f\"The parameter '{pretrained_param}' is deprecated since 0.13 and will be removed in 0.15, \"\n",
      "/usr/local/lib/python3.7/dist-packages/torchvision/models/_utils.py:223: UserWarning: Arguments other than a weight enum or `None` for 'weights' are deprecated since 0.13 and will be removed in 0.15. The current behavior is equivalent to passing `weights=ResNet50_Weights.IMAGENET1K_V1`. You can also use `weights=ResNet50_Weights.DEFAULT` to get the most up-to-date weights.\n",
      "  warnings.warn(msg)\n",
      "Downloading: \"https://download.pytorch.org/models/resnet50-0676ba61.pth\" to /root/.cache/torch/hub/checkpoints/resnet50-0676ba61.pth\n"
     ]
    },
    {
     "data": {
      "application/vnd.jupyter.widget-view+json": {
       "model_id": "d3948a7b0ae5475da563019371e7d3e6",
       "version_major": 2,
       "version_minor": 0
      },
      "text/plain": [
       "  0%|          | 0.00/97.8M [00:00<?, ?B/s]"
      ]
     },
     "metadata": {},
     "output_type": "display_data"
    }
   ],
   "source": [
    "model = models.resnet50(weights=???)"
   ]
  },
  {
   "cell_type": "code",
   "execution_count": null,
   "metadata": {
    "id": "pM7nU_3Aa9pB"
   },
   "outputs": [],
   "source": [
    "class LightningClassifier(pl.LightningModule):\n",
    "\n",
    "    def __init__(self, lr=1e-2, momentum=0, nesterov=False):\n",
    "        super().__init__()\n",
    "\n",
    "        self.model_fn = models.resnet50(pretrained=True)\n",
    "\n",
    "        self.loss_fn = nn.NLLLoss()\n",
    "\n",
    "        self.accuracy = torchmetrics.classification.MulticlassAccuracy(10)\n",
    "\n",
    "        self.lr = lr\n",
    "\n",
    "        self.momentum=momentum\n",
    "\n",
    "        self.nesterov=nesterov\n",
    "\n",
    "    def forward(self, X):\n",
    "        output = self.model_fn(X)\n",
    "        return output\n",
    "\n",
    "    def training_step(self, batch, batch_idx):\n",
    "        X, y = batch\n",
    "        logits = self.forward(X)\n",
    "        loss = self.loss_fn(logits, y)\n",
    "        return loss\n",
    "\n",
    "    def validation_step(self, batch, batch_idx):\n",
    "        X, y = batch\n",
    "        logits = self.forward(X)\n",
    "        loss = self.loss_fn(logits, y)\n",
    "        acc = self.accuracy(logits, y)\n",
    "        self.log(\"val_loss\", loss, prog_bar=True)\n",
    "        self.log(\"val_acc\", acc, prog_bar=True)\n",
    "\n",
    "    def test_step(self, batch, batch_idx):\n",
    "        X, y = batch\n",
    "        logits = self.forward(X)\n",
    "        loss = self.loss_fn(logits, y)\n",
    "        acc = self.accuracy(logits, y)\n",
    "        self.log(\"test_loss\", loss, prog_bar=True)\n",
    "        self.log(\"test_acc\", acc, prog_bar=True)\n",
    "\n",
    "    def predict_step(self, batch, batch_idx, dataloader_idx=0):\n",
    "        X, _ = batch\n",
    "        logits = self.forward(X)\n",
    "        y_hat = torch.argmax(logits, dim=1)\n",
    "        return y_hat\n",
    "\n",
    "    def configure_optimizers(self):\n",
    "        _optimizer_hyperparameters = {\n",
    "            \"lr\": self.lr,\n",
    "            \"momentum\": self.momentum,\n",
    "            \"nesterov\": self.nesterov,\n",
    "        }\n",
    "        optimizer = optim.SGD(\n",
    "            self.parameters(),\n",
    "            **_optimizer_hyperparameters\n",
    "        )\n",
    "        return optimizer\n",
    "\n"
   ]
  },
  {
   "cell_type": "code",
   "execution_count": null,
   "metadata": {
    "id": "nfqWX7SVdL0r"
   },
   "outputs": [],
   "source": []
  },
  {
   "cell_type": "code",
   "execution_count": null,
   "metadata": {
    "id": "T2DNvMqBdMjc"
   },
   "outputs": [],
   "source": []
  },
  {
   "cell_type": "code",
   "execution_count": null,
   "metadata": {
    "id": "XaSw983beqe1"
   },
   "outputs": [],
   "source": []
  }
 ],
 "metadata": {
  "colab": {
   "collapsed_sections": [],
   "provenance": []
  },
  "kernelspec": {
   "display_name": "Python 3 (ipykernel)",
   "language": "python",
   "name": "python3"
  },
  "language_info": {
   "codemirror_mode": {
    "name": "ipython",
    "version": 3
   },
   "file_extension": ".py",
   "mimetype": "text/x-python",
   "name": "python",
   "nbconvert_exporter": "python",
   "pygments_lexer": "ipython3",
   "version": "3.10.6"
  },
  "widgets": {
   "application/vnd.jupyter.widget-state+json": {
    "045779416108445790670366b3dae6ce": {
     "model_module": "@jupyter-widgets/controls",
     "model_module_version": "1.5.0",
     "model_name": "HTMLModel",
     "state": {
      "_dom_classes": [],
      "_model_module": "@jupyter-widgets/controls",
      "_model_module_version": "1.5.0",
      "_model_name": "HTMLModel",
      "_view_count": null,
      "_view_module": "@jupyter-widgets/controls",
      "_view_module_version": "1.5.0",
      "_view_name": "HTMLView",
      "description": "",
      "description_tooltip": null,
      "layout": "IPY_MODEL_c5d02aacc1a14bf3a0b575f8f77f7c4c",
      "placeholder": "​",
      "style": "IPY_MODEL_5e3791eeeb5e4e8683c63cecb1d68540",
      "value": "Sanity Checking DataLoader 0: 100%"
     }
    },
    "085a3f5b5e0d45169ac2f172a9c87880": {
     "model_module": "@jupyter-widgets/base",
     "model_module_version": "1.2.0",
     "model_name": "LayoutModel",
     "state": {
      "_model_module": "@jupyter-widgets/base",
      "_model_module_version": "1.2.0",
      "_model_name": "LayoutModel",
      "_view_count": null,
      "_view_module": "@jupyter-widgets/base",
      "_view_module_version": "1.2.0",
      "_view_name": "LayoutView",
      "align_content": null,
      "align_items": null,
      "align_self": null,
      "border": null,
      "bottom": null,
      "display": null,
      "flex": null,
      "flex_flow": null,
      "grid_area": null,
      "grid_auto_columns": null,
      "grid_auto_flow": null,
      "grid_auto_rows": null,
      "grid_column": null,
      "grid_gap": null,
      "grid_row": null,
      "grid_template_areas": null,
      "grid_template_columns": null,
      "grid_template_rows": null,
      "height": null,
      "justify_content": null,
      "justify_items": null,
      "left": null,
      "margin": null,
      "max_height": null,
      "max_width": null,
      "min_height": null,
      "min_width": null,
      "object_fit": null,
      "object_position": null,
      "order": null,
      "overflow": null,
      "overflow_x": null,
      "overflow_y": null,
      "padding": null,
      "right": null,
      "top": null,
      "visibility": null,
      "width": null
     }
    },
    "0c05decbb2a64148a1329695116b2f78": {
     "model_module": "@jupyter-widgets/controls",
     "model_module_version": "1.5.0",
     "model_name": "FloatProgressModel",
     "state": {
      "_dom_classes": [],
      "_model_module": "@jupyter-widgets/controls",
      "_model_module_version": "1.5.0",
      "_model_name": "FloatProgressModel",
      "_view_count": null,
      "_view_module": "@jupyter-widgets/controls",
      "_view_module_version": "1.5.0",
      "_view_name": "ProgressView",
      "bar_style": "",
      "description": "",
      "description_tooltip": null,
      "layout": "IPY_MODEL_84be8dcf68b143e1aca4c80720dd039a",
      "max": 2,
      "min": 0,
      "orientation": "horizontal",
      "style": "IPY_MODEL_96a29ea70aca4671a6495bf70837534f",
      "value": 2
     }
    },
    "21a47868a4cc4f2bbc393a61622a0406": {
     "model_module": "@jupyter-widgets/base",
     "model_module_version": "1.2.0",
     "model_name": "LayoutModel",
     "state": {
      "_model_module": "@jupyter-widgets/base",
      "_model_module_version": "1.2.0",
      "_model_name": "LayoutModel",
      "_view_count": null,
      "_view_module": "@jupyter-widgets/base",
      "_view_module_version": "1.2.0",
      "_view_name": "LayoutView",
      "align_content": null,
      "align_items": null,
      "align_self": null,
      "border": null,
      "bottom": null,
      "display": null,
      "flex": null,
      "flex_flow": null,
      "grid_area": null,
      "grid_auto_columns": null,
      "grid_auto_flow": null,
      "grid_auto_rows": null,
      "grid_column": null,
      "grid_gap": null,
      "grid_row": null,
      "grid_template_areas": null,
      "grid_template_columns": null,
      "grid_template_rows": null,
      "height": null,
      "justify_content": null,
      "justify_items": null,
      "left": null,
      "margin": null,
      "max_height": null,
      "max_width": null,
      "min_height": null,
      "min_width": null,
      "object_fit": null,
      "object_position": null,
      "order": null,
      "overflow": null,
      "overflow_x": null,
      "overflow_y": null,
      "padding": null,
      "right": null,
      "top": null,
      "visibility": null,
      "width": null
     }
    },
    "3ae63508735c4dfa86de64ef258a609d": {
     "model_module": "@jupyter-widgets/controls",
     "model_module_version": "1.5.0",
     "model_name": "FloatProgressModel",
     "state": {
      "_dom_classes": [],
      "_model_module": "@jupyter-widgets/controls",
      "_model_module_version": "1.5.0",
      "_model_name": "FloatProgressModel",
      "_view_count": null,
      "_view_module": "@jupyter-widgets/controls",
      "_view_module_version": "1.5.0",
      "_view_name": "ProgressView",
      "bar_style": "",
      "description": "",
      "description_tooltip": null,
      "layout": "IPY_MODEL_b1c369f3ee774e1aa30380ec0a0d6b92",
      "max": 1875,
      "min": 0,
      "orientation": "horizontal",
      "style": "IPY_MODEL_9bbaf72ca65d4ba9992da0e98d0704a3",
      "value": 100
     }
    },
    "3af9728e0c2f4d13bf20e34220a67204": {
     "model_module": "@jupyter-widgets/base",
     "model_module_version": "1.2.0",
     "model_name": "LayoutModel",
     "state": {
      "_model_module": "@jupyter-widgets/base",
      "_model_module_version": "1.2.0",
      "_model_name": "LayoutModel",
      "_view_count": null,
      "_view_module": "@jupyter-widgets/base",
      "_view_module_version": "1.2.0",
      "_view_name": "LayoutView",
      "align_content": null,
      "align_items": null,
      "align_self": null,
      "border": null,
      "bottom": null,
      "display": null,
      "flex": null,
      "flex_flow": null,
      "grid_area": null,
      "grid_auto_columns": null,
      "grid_auto_flow": null,
      "grid_auto_rows": null,
      "grid_column": null,
      "grid_gap": null,
      "grid_row": null,
      "grid_template_areas": null,
      "grid_template_columns": null,
      "grid_template_rows": null,
      "height": null,
      "justify_content": null,
      "justify_items": null,
      "left": null,
      "margin": null,
      "max_height": null,
      "max_width": null,
      "min_height": null,
      "min_width": null,
      "object_fit": null,
      "object_position": null,
      "order": null,
      "overflow": null,
      "overflow_x": null,
      "overflow_y": null,
      "padding": null,
      "right": null,
      "top": null,
      "visibility": null,
      "width": null
     }
    },
    "4197721caf5c4443aa9b1d235e413849": {
     "model_module": "@jupyter-widgets/controls",
     "model_module_version": "1.5.0",
     "model_name": "HTMLModel",
     "state": {
      "_dom_classes": [],
      "_model_module": "@jupyter-widgets/controls",
      "_model_module_version": "1.5.0",
      "_model_name": "HTMLModel",
      "_view_count": null,
      "_view_module": "@jupyter-widgets/controls",
      "_view_module_version": "1.5.0",
      "_view_name": "HTMLView",
      "description": "",
      "description_tooltip": null,
      "layout": "IPY_MODEL_9eff621298f9417aa2cb4553c198ced6",
      "placeholder": "​",
      "style": "IPY_MODEL_785b6563a81f4cddb067321514bc8d02",
      "value": " 97.8M/97.8M [00:00&lt;00:00, 216MB/s]"
     }
    },
    "5e3791eeeb5e4e8683c63cecb1d68540": {
     "model_module": "@jupyter-widgets/controls",
     "model_module_version": "1.5.0",
     "model_name": "DescriptionStyleModel",
     "state": {
      "_model_module": "@jupyter-widgets/controls",
      "_model_module_version": "1.5.0",
      "_model_name": "DescriptionStyleModel",
      "_view_count": null,
      "_view_module": "@jupyter-widgets/base",
      "_view_module_version": "1.2.0",
      "_view_name": "StyleView",
      "description_width": ""
     }
    },
    "6715bee2ff864aa4bcd5b7e905c2aaee": {
     "model_module": "@jupyter-widgets/controls",
     "model_module_version": "1.5.0",
     "model_name": "DescriptionStyleModel",
     "state": {
      "_model_module": "@jupyter-widgets/controls",
      "_model_module_version": "1.5.0",
      "_model_name": "DescriptionStyleModel",
      "_view_count": null,
      "_view_module": "@jupyter-widgets/base",
      "_view_module_version": "1.2.0",
      "_view_name": "StyleView",
      "description_width": ""
     }
    },
    "6a5f202faaf54fe2899cba22fc67c4a8": {
     "model_module": "@jupyter-widgets/controls",
     "model_module_version": "1.5.0",
     "model_name": "DescriptionStyleModel",
     "state": {
      "_model_module": "@jupyter-widgets/controls",
      "_model_module_version": "1.5.0",
      "_model_name": "DescriptionStyleModel",
      "_view_count": null,
      "_view_module": "@jupyter-widgets/base",
      "_view_module_version": "1.2.0",
      "_view_name": "StyleView",
      "description_width": ""
     }
    },
    "719d76b4ed8c4e8abda0f2c5d01ce3ae": {
     "model_module": "@jupyter-widgets/base",
     "model_module_version": "1.2.0",
     "model_name": "LayoutModel",
     "state": {
      "_model_module": "@jupyter-widgets/base",
      "_model_module_version": "1.2.0",
      "_model_name": "LayoutModel",
      "_view_count": null,
      "_view_module": "@jupyter-widgets/base",
      "_view_module_version": "1.2.0",
      "_view_name": "LayoutView",
      "align_content": null,
      "align_items": null,
      "align_self": null,
      "border": null,
      "bottom": null,
      "display": null,
      "flex": null,
      "flex_flow": null,
      "grid_area": null,
      "grid_auto_columns": null,
      "grid_auto_flow": null,
      "grid_auto_rows": null,
      "grid_column": null,
      "grid_gap": null,
      "grid_row": null,
      "grid_template_areas": null,
      "grid_template_columns": null,
      "grid_template_rows": null,
      "height": null,
      "justify_content": null,
      "justify_items": null,
      "left": null,
      "margin": null,
      "max_height": null,
      "max_width": null,
      "min_height": null,
      "min_width": null,
      "object_fit": null,
      "object_position": null,
      "order": null,
      "overflow": null,
      "overflow_x": null,
      "overflow_y": null,
      "padding": null,
      "right": null,
      "top": null,
      "visibility": null,
      "width": null
     }
    },
    "77d3b699900345639b431aa6e25be252": {
     "model_module": "@jupyter-widgets/controls",
     "model_module_version": "1.5.0",
     "model_name": "HBoxModel",
     "state": {
      "_dom_classes": [],
      "_model_module": "@jupyter-widgets/controls",
      "_model_module_version": "1.5.0",
      "_model_name": "HBoxModel",
      "_view_count": null,
      "_view_module": "@jupyter-widgets/controls",
      "_view_module_version": "1.5.0",
      "_view_name": "HBoxView",
      "box_style": "",
      "children": [
       "IPY_MODEL_7a353f33d27746209a0e1966b17cb13e",
       "IPY_MODEL_3ae63508735c4dfa86de64ef258a609d",
       "IPY_MODEL_809bc8edf3914b4894c2203b23ef708b"
      ],
      "layout": "IPY_MODEL_c304997fff38442a9399ae54540ad97a"
     }
    },
    "785b6563a81f4cddb067321514bc8d02": {
     "model_module": "@jupyter-widgets/controls",
     "model_module_version": "1.5.0",
     "model_name": "DescriptionStyleModel",
     "state": {
      "_model_module": "@jupyter-widgets/controls",
      "_model_module_version": "1.5.0",
      "_model_name": "DescriptionStyleModel",
      "_view_count": null,
      "_view_module": "@jupyter-widgets/base",
      "_view_module_version": "1.2.0",
      "_view_name": "StyleView",
      "description_width": ""
     }
    },
    "7a353f33d27746209a0e1966b17cb13e": {
     "model_module": "@jupyter-widgets/controls",
     "model_module_version": "1.5.0",
     "model_name": "HTMLModel",
     "state": {
      "_dom_classes": [],
      "_model_module": "@jupyter-widgets/controls",
      "_model_module_version": "1.5.0",
      "_model_name": "HTMLModel",
      "_view_count": null,
      "_view_module": "@jupyter-widgets/controls",
      "_view_module_version": "1.5.0",
      "_view_name": "HTMLView",
      "description": "",
      "description_tooltip": null,
      "layout": "IPY_MODEL_3af9728e0c2f4d13bf20e34220a67204",
      "placeholder": "​",
      "style": "IPY_MODEL_6a5f202faaf54fe2899cba22fc67c4a8",
      "value": "Epoch 0:   5%"
     }
    },
    "7d3148c2783a4067a2527a63fd63496e": {
     "model_module": "@jupyter-widgets/base",
     "model_module_version": "1.2.0",
     "model_name": "LayoutModel",
     "state": {
      "_model_module": "@jupyter-widgets/base",
      "_model_module_version": "1.2.0",
      "_model_name": "LayoutModel",
      "_view_count": null,
      "_view_module": "@jupyter-widgets/base",
      "_view_module_version": "1.2.0",
      "_view_name": "LayoutView",
      "align_content": null,
      "align_items": null,
      "align_self": null,
      "border": null,
      "bottom": null,
      "display": null,
      "flex": null,
      "flex_flow": null,
      "grid_area": null,
      "grid_auto_columns": null,
      "grid_auto_flow": null,
      "grid_auto_rows": null,
      "grid_column": null,
      "grid_gap": null,
      "grid_row": null,
      "grid_template_areas": null,
      "grid_template_columns": null,
      "grid_template_rows": null,
      "height": null,
      "justify_content": null,
      "justify_items": null,
      "left": null,
      "margin": null,
      "max_height": null,
      "max_width": null,
      "min_height": null,
      "min_width": null,
      "object_fit": null,
      "object_position": null,
      "order": null,
      "overflow": null,
      "overflow_x": null,
      "overflow_y": null,
      "padding": null,
      "right": null,
      "top": null,
      "visibility": null,
      "width": null
     }
    },
    "809bc8edf3914b4894c2203b23ef708b": {
     "model_module": "@jupyter-widgets/controls",
     "model_module_version": "1.5.0",
     "model_name": "HTMLModel",
     "state": {
      "_dom_classes": [],
      "_model_module": "@jupyter-widgets/controls",
      "_model_module_version": "1.5.0",
      "_model_name": "HTMLModel",
      "_view_count": null,
      "_view_module": "@jupyter-widgets/controls",
      "_view_module_version": "1.5.0",
      "_view_name": "HTMLView",
      "description": "",
      "description_tooltip": null,
      "layout": "IPY_MODEL_fae2e87d2c38424686196c5599853760",
      "placeholder": "​",
      "style": "IPY_MODEL_f242cad459fc4dd9af6284fa313e2543",
      "value": " 100/1875 [00:14&lt;04:20,  6.81it/s, loss=-0.116, v_num=0]"
     }
    },
    "84be8dcf68b143e1aca4c80720dd039a": {
     "model_module": "@jupyter-widgets/base",
     "model_module_version": "1.2.0",
     "model_name": "LayoutModel",
     "state": {
      "_model_module": "@jupyter-widgets/base",
      "_model_module_version": "1.2.0",
      "_model_name": "LayoutModel",
      "_view_count": null,
      "_view_module": "@jupyter-widgets/base",
      "_view_module_version": "1.2.0",
      "_view_name": "LayoutView",
      "align_content": null,
      "align_items": null,
      "align_self": null,
      "border": null,
      "bottom": null,
      "display": null,
      "flex": "2",
      "flex_flow": null,
      "grid_area": null,
      "grid_auto_columns": null,
      "grid_auto_flow": null,
      "grid_auto_rows": null,
      "grid_column": null,
      "grid_gap": null,
      "grid_row": null,
      "grid_template_areas": null,
      "grid_template_columns": null,
      "grid_template_rows": null,
      "height": null,
      "justify_content": null,
      "justify_items": null,
      "left": null,
      "margin": null,
      "max_height": null,
      "max_width": null,
      "min_height": null,
      "min_width": null,
      "object_fit": null,
      "object_position": null,
      "order": null,
      "overflow": null,
      "overflow_x": null,
      "overflow_y": null,
      "padding": null,
      "right": null,
      "top": null,
      "visibility": null,
      "width": null
     }
    },
    "90230c4ef55b4c3eb131a2c6ef574879": {
     "model_module": "@jupyter-widgets/controls",
     "model_module_version": "1.5.0",
     "model_name": "DescriptionStyleModel",
     "state": {
      "_model_module": "@jupyter-widgets/controls",
      "_model_module_version": "1.5.0",
      "_model_name": "DescriptionStyleModel",
      "_view_count": null,
      "_view_module": "@jupyter-widgets/base",
      "_view_module_version": "1.2.0",
      "_view_name": "StyleView",
      "description_width": ""
     }
    },
    "953e07d5397949efad83426737d0d69e": {
     "model_module": "@jupyter-widgets/controls",
     "model_module_version": "1.5.0",
     "model_name": "HBoxModel",
     "state": {
      "_dom_classes": [],
      "_model_module": "@jupyter-widgets/controls",
      "_model_module_version": "1.5.0",
      "_model_name": "HBoxModel",
      "_view_count": null,
      "_view_module": "@jupyter-widgets/controls",
      "_view_module_version": "1.5.0",
      "_view_name": "HBoxView",
      "box_style": "",
      "children": [
       "IPY_MODEL_045779416108445790670366b3dae6ce",
       "IPY_MODEL_0c05decbb2a64148a1329695116b2f78",
       "IPY_MODEL_b62e36e981b7414fa640e6b7194a7e4c"
      ],
      "layout": "IPY_MODEL_ad13ea31d67a498daaa405c508fa1719"
     }
    },
    "96a29ea70aca4671a6495bf70837534f": {
     "model_module": "@jupyter-widgets/controls",
     "model_module_version": "1.5.0",
     "model_name": "ProgressStyleModel",
     "state": {
      "_model_module": "@jupyter-widgets/controls",
      "_model_module_version": "1.5.0",
      "_model_name": "ProgressStyleModel",
      "_view_count": null,
      "_view_module": "@jupyter-widgets/base",
      "_view_module_version": "1.2.0",
      "_view_name": "StyleView",
      "bar_color": null,
      "description_width": ""
     }
    },
    "9bbaf72ca65d4ba9992da0e98d0704a3": {
     "model_module": "@jupyter-widgets/controls",
     "model_module_version": "1.5.0",
     "model_name": "ProgressStyleModel",
     "state": {
      "_model_module": "@jupyter-widgets/controls",
      "_model_module_version": "1.5.0",
      "_model_name": "ProgressStyleModel",
      "_view_count": null,
      "_view_module": "@jupyter-widgets/base",
      "_view_module_version": "1.2.0",
      "_view_name": "StyleView",
      "bar_color": null,
      "description_width": ""
     }
    },
    "9eff621298f9417aa2cb4553c198ced6": {
     "model_module": "@jupyter-widgets/base",
     "model_module_version": "1.2.0",
     "model_name": "LayoutModel",
     "state": {
      "_model_module": "@jupyter-widgets/base",
      "_model_module_version": "1.2.0",
      "_model_name": "LayoutModel",
      "_view_count": null,
      "_view_module": "@jupyter-widgets/base",
      "_view_module_version": "1.2.0",
      "_view_name": "LayoutView",
      "align_content": null,
      "align_items": null,
      "align_self": null,
      "border": null,
      "bottom": null,
      "display": null,
      "flex": null,
      "flex_flow": null,
      "grid_area": null,
      "grid_auto_columns": null,
      "grid_auto_flow": null,
      "grid_auto_rows": null,
      "grid_column": null,
      "grid_gap": null,
      "grid_row": null,
      "grid_template_areas": null,
      "grid_template_columns": null,
      "grid_template_rows": null,
      "height": null,
      "justify_content": null,
      "justify_items": null,
      "left": null,
      "margin": null,
      "max_height": null,
      "max_width": null,
      "min_height": null,
      "min_width": null,
      "object_fit": null,
      "object_position": null,
      "order": null,
      "overflow": null,
      "overflow_x": null,
      "overflow_y": null,
      "padding": null,
      "right": null,
      "top": null,
      "visibility": null,
      "width": null
     }
    },
    "ad13ea31d67a498daaa405c508fa1719": {
     "model_module": "@jupyter-widgets/base",
     "model_module_version": "1.2.0",
     "model_name": "LayoutModel",
     "state": {
      "_model_module": "@jupyter-widgets/base",
      "_model_module_version": "1.2.0",
      "_model_name": "LayoutModel",
      "_view_count": null,
      "_view_module": "@jupyter-widgets/base",
      "_view_module_version": "1.2.0",
      "_view_name": "LayoutView",
      "align_content": null,
      "align_items": null,
      "align_self": null,
      "border": null,
      "bottom": null,
      "display": "inline-flex",
      "flex": null,
      "flex_flow": "row wrap",
      "grid_area": null,
      "grid_auto_columns": null,
      "grid_auto_flow": null,
      "grid_auto_rows": null,
      "grid_column": null,
      "grid_gap": null,
      "grid_row": null,
      "grid_template_areas": null,
      "grid_template_columns": null,
      "grid_template_rows": null,
      "height": null,
      "justify_content": null,
      "justify_items": null,
      "left": null,
      "margin": null,
      "max_height": null,
      "max_width": null,
      "min_height": null,
      "min_width": null,
      "object_fit": null,
      "object_position": null,
      "order": null,
      "overflow": null,
      "overflow_x": null,
      "overflow_y": null,
      "padding": null,
      "right": null,
      "top": null,
      "visibility": "hidden",
      "width": "100%"
     }
    },
    "adc64b836afb4974a1836aaae283c798": {
     "model_module": "@jupyter-widgets/controls",
     "model_module_version": "1.5.0",
     "model_name": "ProgressStyleModel",
     "state": {
      "_model_module": "@jupyter-widgets/controls",
      "_model_module_version": "1.5.0",
      "_model_name": "ProgressStyleModel",
      "_view_count": null,
      "_view_module": "@jupyter-widgets/base",
      "_view_module_version": "1.2.0",
      "_view_name": "StyleView",
      "bar_color": null,
      "description_width": ""
     }
    },
    "b1c369f3ee774e1aa30380ec0a0d6b92": {
     "model_module": "@jupyter-widgets/base",
     "model_module_version": "1.2.0",
     "model_name": "LayoutModel",
     "state": {
      "_model_module": "@jupyter-widgets/base",
      "_model_module_version": "1.2.0",
      "_model_name": "LayoutModel",
      "_view_count": null,
      "_view_module": "@jupyter-widgets/base",
      "_view_module_version": "1.2.0",
      "_view_name": "LayoutView",
      "align_content": null,
      "align_items": null,
      "align_self": null,
      "border": null,
      "bottom": null,
      "display": null,
      "flex": "2",
      "flex_flow": null,
      "grid_area": null,
      "grid_auto_columns": null,
      "grid_auto_flow": null,
      "grid_auto_rows": null,
      "grid_column": null,
      "grid_gap": null,
      "grid_row": null,
      "grid_template_areas": null,
      "grid_template_columns": null,
      "grid_template_rows": null,
      "height": null,
      "justify_content": null,
      "justify_items": null,
      "left": null,
      "margin": null,
      "max_height": null,
      "max_width": null,
      "min_height": null,
      "min_width": null,
      "object_fit": null,
      "object_position": null,
      "order": null,
      "overflow": null,
      "overflow_x": null,
      "overflow_y": null,
      "padding": null,
      "right": null,
      "top": null,
      "visibility": null,
      "width": null
     }
    },
    "b62e36e981b7414fa640e6b7194a7e4c": {
     "model_module": "@jupyter-widgets/controls",
     "model_module_version": "1.5.0",
     "model_name": "HTMLModel",
     "state": {
      "_dom_classes": [],
      "_model_module": "@jupyter-widgets/controls",
      "_model_module_version": "1.5.0",
      "_model_name": "HTMLModel",
      "_view_count": null,
      "_view_module": "@jupyter-widgets/controls",
      "_view_module_version": "1.5.0",
      "_view_name": "HTMLView",
      "description": "",
      "description_tooltip": null,
      "layout": "IPY_MODEL_719d76b4ed8c4e8abda0f2c5d01ce3ae",
      "placeholder": "​",
      "style": "IPY_MODEL_90230c4ef55b4c3eb131a2c6ef574879",
      "value": " 2/2 [00:00&lt;00:00, 12.78it/s]"
     }
    },
    "b7e588b7d1564dcb9b6cbb66bfc5bc85": {
     "model_module": "@jupyter-widgets/controls",
     "model_module_version": "1.5.0",
     "model_name": "FloatProgressModel",
     "state": {
      "_dom_classes": [],
      "_model_module": "@jupyter-widgets/controls",
      "_model_module_version": "1.5.0",
      "_model_name": "FloatProgressModel",
      "_view_count": null,
      "_view_module": "@jupyter-widgets/controls",
      "_view_module_version": "1.5.0",
      "_view_name": "ProgressView",
      "bar_style": "success",
      "description": "",
      "description_tooltip": null,
      "layout": "IPY_MODEL_21a47868a4cc4f2bbc393a61622a0406",
      "max": 102530333,
      "min": 0,
      "orientation": "horizontal",
      "style": "IPY_MODEL_adc64b836afb4974a1836aaae283c798",
      "value": 102530333
     }
    },
    "c304997fff38442a9399ae54540ad97a": {
     "model_module": "@jupyter-widgets/base",
     "model_module_version": "1.2.0",
     "model_name": "LayoutModel",
     "state": {
      "_model_module": "@jupyter-widgets/base",
      "_model_module_version": "1.2.0",
      "_model_name": "LayoutModel",
      "_view_count": null,
      "_view_module": "@jupyter-widgets/base",
      "_view_module_version": "1.2.0",
      "_view_name": "LayoutView",
      "align_content": null,
      "align_items": null,
      "align_self": null,
      "border": null,
      "bottom": null,
      "display": "inline-flex",
      "flex": null,
      "flex_flow": "row wrap",
      "grid_area": null,
      "grid_auto_columns": null,
      "grid_auto_flow": null,
      "grid_auto_rows": null,
      "grid_column": null,
      "grid_gap": null,
      "grid_row": null,
      "grid_template_areas": null,
      "grid_template_columns": null,
      "grid_template_rows": null,
      "height": null,
      "justify_content": null,
      "justify_items": null,
      "left": null,
      "margin": null,
      "max_height": null,
      "max_width": null,
      "min_height": null,
      "min_width": null,
      "object_fit": null,
      "object_position": null,
      "order": null,
      "overflow": null,
      "overflow_x": null,
      "overflow_y": null,
      "padding": null,
      "right": null,
      "top": null,
      "visibility": null,
      "width": "100%"
     }
    },
    "c5d02aacc1a14bf3a0b575f8f77f7c4c": {
     "model_module": "@jupyter-widgets/base",
     "model_module_version": "1.2.0",
     "model_name": "LayoutModel",
     "state": {
      "_model_module": "@jupyter-widgets/base",
      "_model_module_version": "1.2.0",
      "_model_name": "LayoutModel",
      "_view_count": null,
      "_view_module": "@jupyter-widgets/base",
      "_view_module_version": "1.2.0",
      "_view_name": "LayoutView",
      "align_content": null,
      "align_items": null,
      "align_self": null,
      "border": null,
      "bottom": null,
      "display": null,
      "flex": null,
      "flex_flow": null,
      "grid_area": null,
      "grid_auto_columns": null,
      "grid_auto_flow": null,
      "grid_auto_rows": null,
      "grid_column": null,
      "grid_gap": null,
      "grid_row": null,
      "grid_template_areas": null,
      "grid_template_columns": null,
      "grid_template_rows": null,
      "height": null,
      "justify_content": null,
      "justify_items": null,
      "left": null,
      "margin": null,
      "max_height": null,
      "max_width": null,
      "min_height": null,
      "min_width": null,
      "object_fit": null,
      "object_position": null,
      "order": null,
      "overflow": null,
      "overflow_x": null,
      "overflow_y": null,
      "padding": null,
      "right": null,
      "top": null,
      "visibility": null,
      "width": null
     }
    },
    "d3948a7b0ae5475da563019371e7d3e6": {
     "model_module": "@jupyter-widgets/controls",
     "model_module_version": "1.5.0",
     "model_name": "HBoxModel",
     "state": {
      "_dom_classes": [],
      "_model_module": "@jupyter-widgets/controls",
      "_model_module_version": "1.5.0",
      "_model_name": "HBoxModel",
      "_view_count": null,
      "_view_module": "@jupyter-widgets/controls",
      "_view_module_version": "1.5.0",
      "_view_name": "HBoxView",
      "box_style": "",
      "children": [
       "IPY_MODEL_df49fae0ef8649f391a49d58f7760b32",
       "IPY_MODEL_b7e588b7d1564dcb9b6cbb66bfc5bc85",
       "IPY_MODEL_4197721caf5c4443aa9b1d235e413849"
      ],
      "layout": "IPY_MODEL_085a3f5b5e0d45169ac2f172a9c87880"
     }
    },
    "df49fae0ef8649f391a49d58f7760b32": {
     "model_module": "@jupyter-widgets/controls",
     "model_module_version": "1.5.0",
     "model_name": "HTMLModel",
     "state": {
      "_dom_classes": [],
      "_model_module": "@jupyter-widgets/controls",
      "_model_module_version": "1.5.0",
      "_model_name": "HTMLModel",
      "_view_count": null,
      "_view_module": "@jupyter-widgets/controls",
      "_view_module_version": "1.5.0",
      "_view_name": "HTMLView",
      "description": "",
      "description_tooltip": null,
      "layout": "IPY_MODEL_7d3148c2783a4067a2527a63fd63496e",
      "placeholder": "​",
      "style": "IPY_MODEL_6715bee2ff864aa4bcd5b7e905c2aaee",
      "value": "100%"
     }
    },
    "f242cad459fc4dd9af6284fa313e2543": {
     "model_module": "@jupyter-widgets/controls",
     "model_module_version": "1.5.0",
     "model_name": "DescriptionStyleModel",
     "state": {
      "_model_module": "@jupyter-widgets/controls",
      "_model_module_version": "1.5.0",
      "_model_name": "DescriptionStyleModel",
      "_view_count": null,
      "_view_module": "@jupyter-widgets/base",
      "_view_module_version": "1.2.0",
      "_view_name": "StyleView",
      "description_width": ""
     }
    },
    "fae2e87d2c38424686196c5599853760": {
     "model_module": "@jupyter-widgets/base",
     "model_module_version": "1.2.0",
     "model_name": "LayoutModel",
     "state": {
      "_model_module": "@jupyter-widgets/base",
      "_model_module_version": "1.2.0",
      "_model_name": "LayoutModel",
      "_view_count": null,
      "_view_module": "@jupyter-widgets/base",
      "_view_module_version": "1.2.0",
      "_view_name": "LayoutView",
      "align_content": null,
      "align_items": null,
      "align_self": null,
      "border": null,
      "bottom": null,
      "display": null,
      "flex": null,
      "flex_flow": null,
      "grid_area": null,
      "grid_auto_columns": null,
      "grid_auto_flow": null,
      "grid_auto_rows": null,
      "grid_column": null,
      "grid_gap": null,
      "grid_row": null,
      "grid_template_areas": null,
      "grid_template_columns": null,
      "grid_template_rows": null,
      "height": null,
      "justify_content": null,
      "justify_items": null,
      "left": null,
      "margin": null,
      "max_height": null,
      "max_width": null,
      "min_height": null,
      "min_width": null,
      "object_fit": null,
      "object_position": null,
      "order": null,
      "overflow": null,
      "overflow_x": null,
      "overflow_y": null,
      "padding": null,
      "right": null,
      "top": null,
      "visibility": null,
      "width": null
     }
    }
   }
  }
 },
 "nbformat": 4,
 "nbformat_minor": 4
}
